{
 "cells": [
  {
   "cell_type": "markdown",
   "id": "39f8c367",
   "metadata": {},
   "source": [
    "## Marketing Project\n",
    "#### By\n",
    "## Sulfikar Shajimon"
   ]
  },
  {
   "cell_type": "code",
   "execution_count": 77,
   "id": "895e7ea5",
   "metadata": {},
   "outputs": [],
   "source": [
    "import numpy as np\n",
    "import pandas as pd\n",
    "from matplotlib import pyplot as plt\n",
    "%matplotlib inline\n",
    "\n",
    "import seaborn as sns"
   ]
  },
  {
   "cell_type": "code",
   "execution_count": 6,
   "id": "731bc9d4",
   "metadata": {},
   "outputs": [],
   "source": [
    "# Loading the dataset\n",
    "data = pd.read_excel('data.xlsx')\n",
    "cc = pd.read_excel('Country-Code.xlsx')"
   ]
  },
  {
   "cell_type": "code",
   "execution_count": 7,
   "id": "488fe193",
   "metadata": {},
   "outputs": [
    {
     "data": {
      "text/html": [
       "<div>\n",
       "<style scoped>\n",
       "    .dataframe tbody tr th:only-of-type {\n",
       "        vertical-align: middle;\n",
       "    }\n",
       "\n",
       "    .dataframe tbody tr th {\n",
       "        vertical-align: top;\n",
       "    }\n",
       "\n",
       "    .dataframe thead th {\n",
       "        text-align: right;\n",
       "    }\n",
       "</style>\n",
       "<table border=\"1\" class=\"dataframe\">\n",
       "  <thead>\n",
       "    <tr style=\"text-align: right;\">\n",
       "      <th></th>\n",
       "      <th>Restaurant ID</th>\n",
       "      <th>Restaurant Name</th>\n",
       "      <th>Country Code</th>\n",
       "      <th>City</th>\n",
       "      <th>Address</th>\n",
       "      <th>Locality</th>\n",
       "      <th>Locality Verbose</th>\n",
       "      <th>Longitude</th>\n",
       "      <th>Latitude</th>\n",
       "      <th>Cuisines</th>\n",
       "      <th>Average Cost for two</th>\n",
       "      <th>Currency</th>\n",
       "      <th>Has Table booking</th>\n",
       "      <th>Has Online delivery</th>\n",
       "      <th>Price range</th>\n",
       "      <th>Aggregate rating</th>\n",
       "      <th>Rating color</th>\n",
       "      <th>Rating text</th>\n",
       "      <th>Votes</th>\n",
       "    </tr>\n",
       "  </thead>\n",
       "  <tbody>\n",
       "    <tr>\n",
       "      <th>0</th>\n",
       "      <td>7402935</td>\n",
       "      <td>Skye</td>\n",
       "      <td>94</td>\n",
       "      <td>Jakarta</td>\n",
       "      <td>Menara BCA, Lantai 56, Jl. MH. Thamrin, Thamri...</td>\n",
       "      <td>Grand Indonesia Mall, Thamrin</td>\n",
       "      <td>Grand Indonesia Mall, Thamrin, Jakarta</td>\n",
       "      <td>106.821999</td>\n",
       "      <td>-6.196778</td>\n",
       "      <td>Italian, Continental</td>\n",
       "      <td>800000</td>\n",
       "      <td>Indonesian Rupiah(IDR)</td>\n",
       "      <td>No</td>\n",
       "      <td>No</td>\n",
       "      <td>3</td>\n",
       "      <td>4.1</td>\n",
       "      <td>Green</td>\n",
       "      <td>Very Good</td>\n",
       "      <td>1498</td>\n",
       "    </tr>\n",
       "    <tr>\n",
       "      <th>1</th>\n",
       "      <td>7410290</td>\n",
       "      <td>Satoo - Hotel Shangri-La</td>\n",
       "      <td>94</td>\n",
       "      <td>Jakarta</td>\n",
       "      <td>Hotel Shangri-La, Jl. Jend. Sudirman</td>\n",
       "      <td>Hotel Shangri-La, Sudirman</td>\n",
       "      <td>Hotel Shangri-La, Sudirman, Jakarta</td>\n",
       "      <td>106.818961</td>\n",
       "      <td>-6.203292</td>\n",
       "      <td>Asian, Indonesian, Western</td>\n",
       "      <td>800000</td>\n",
       "      <td>Indonesian Rupiah(IDR)</td>\n",
       "      <td>No</td>\n",
       "      <td>No</td>\n",
       "      <td>3</td>\n",
       "      <td>4.6</td>\n",
       "      <td>Dark Green</td>\n",
       "      <td>Excellent</td>\n",
       "      <td>873</td>\n",
       "    </tr>\n",
       "    <tr>\n",
       "      <th>2</th>\n",
       "      <td>7420899</td>\n",
       "      <td>Sushi Masa</td>\n",
       "      <td>94</td>\n",
       "      <td>Jakarta</td>\n",
       "      <td>Jl. Tuna Raya No. 5, Penjaringan</td>\n",
       "      <td>Penjaringan</td>\n",
       "      <td>Penjaringan, Jakarta</td>\n",
       "      <td>106.800144</td>\n",
       "      <td>-6.101298</td>\n",
       "      <td>Sushi, Japanese</td>\n",
       "      <td>500000</td>\n",
       "      <td>Indonesian Rupiah(IDR)</td>\n",
       "      <td>No</td>\n",
       "      <td>No</td>\n",
       "      <td>3</td>\n",
       "      <td>4.9</td>\n",
       "      <td>Dark Green</td>\n",
       "      <td>Excellent</td>\n",
       "      <td>605</td>\n",
       "    </tr>\n",
       "    <tr>\n",
       "      <th>3</th>\n",
       "      <td>7421967</td>\n",
       "      <td>3 Wise Monkeys</td>\n",
       "      <td>94</td>\n",
       "      <td>Jakarta</td>\n",
       "      <td>Jl. Suryo No. 26, Senopati, Jakarta</td>\n",
       "      <td>Senopati</td>\n",
       "      <td>Senopati, Jakarta</td>\n",
       "      <td>106.813400</td>\n",
       "      <td>-6.235241</td>\n",
       "      <td>Japanese</td>\n",
       "      <td>450000</td>\n",
       "      <td>Indonesian Rupiah(IDR)</td>\n",
       "      <td>No</td>\n",
       "      <td>No</td>\n",
       "      <td>3</td>\n",
       "      <td>4.2</td>\n",
       "      <td>Green</td>\n",
       "      <td>Very Good</td>\n",
       "      <td>395</td>\n",
       "    </tr>\n",
       "    <tr>\n",
       "      <th>4</th>\n",
       "      <td>7422489</td>\n",
       "      <td>Avec Moi Restaurant and Bar</td>\n",
       "      <td>94</td>\n",
       "      <td>Jakarta</td>\n",
       "      <td>Gedung PIC, Jl. Teluk Betung 43, Thamrin, Jakarta</td>\n",
       "      <td>Thamrin</td>\n",
       "      <td>Thamrin, Jakarta</td>\n",
       "      <td>106.821023</td>\n",
       "      <td>-6.196270</td>\n",
       "      <td>French, Western</td>\n",
       "      <td>350000</td>\n",
       "      <td>Indonesian Rupiah(IDR)</td>\n",
       "      <td>No</td>\n",
       "      <td>No</td>\n",
       "      <td>3</td>\n",
       "      <td>4.3</td>\n",
       "      <td>Green</td>\n",
       "      <td>Very Good</td>\n",
       "      <td>243</td>\n",
       "    </tr>\n",
       "  </tbody>\n",
       "</table>\n",
       "</div>"
      ],
      "text/plain": [
       "   Restaurant ID              Restaurant Name  Country Code     City  \\\n",
       "0        7402935                         Skye            94  Jakarta   \n",
       "1        7410290     Satoo - Hotel Shangri-La            94  Jakarta   \n",
       "2        7420899                   Sushi Masa            94  Jakarta   \n",
       "3        7421967               3 Wise Monkeys            94  Jakarta   \n",
       "4        7422489  Avec Moi Restaurant and Bar            94  Jakarta   \n",
       "\n",
       "                                             Address  \\\n",
       "0  Menara BCA, Lantai 56, Jl. MH. Thamrin, Thamri...   \n",
       "1               Hotel Shangri-La, Jl. Jend. Sudirman   \n",
       "2                   Jl. Tuna Raya No. 5, Penjaringan   \n",
       "3                Jl. Suryo No. 26, Senopati, Jakarta   \n",
       "4  Gedung PIC, Jl. Teluk Betung 43, Thamrin, Jakarta   \n",
       "\n",
       "                        Locality                        Locality Verbose  \\\n",
       "0  Grand Indonesia Mall, Thamrin  Grand Indonesia Mall, Thamrin, Jakarta   \n",
       "1     Hotel Shangri-La, Sudirman     Hotel Shangri-La, Sudirman, Jakarta   \n",
       "2                    Penjaringan                    Penjaringan, Jakarta   \n",
       "3                       Senopati                       Senopati, Jakarta   \n",
       "4                        Thamrin                        Thamrin, Jakarta   \n",
       "\n",
       "    Longitude  Latitude                    Cuisines  Average Cost for two  \\\n",
       "0  106.821999 -6.196778        Italian, Continental                800000   \n",
       "1  106.818961 -6.203292  Asian, Indonesian, Western                800000   \n",
       "2  106.800144 -6.101298             Sushi, Japanese                500000   \n",
       "3  106.813400 -6.235241                    Japanese                450000   \n",
       "4  106.821023 -6.196270             French, Western                350000   \n",
       "\n",
       "                 Currency Has Table booking Has Online delivery  Price range  \\\n",
       "0  Indonesian Rupiah(IDR)                No                  No            3   \n",
       "1  Indonesian Rupiah(IDR)                No                  No            3   \n",
       "2  Indonesian Rupiah(IDR)                No                  No            3   \n",
       "3  Indonesian Rupiah(IDR)                No                  No            3   \n",
       "4  Indonesian Rupiah(IDR)                No                  No            3   \n",
       "\n",
       "   Aggregate rating Rating color Rating text  Votes  \n",
       "0               4.1        Green   Very Good   1498  \n",
       "1               4.6   Dark Green   Excellent    873  \n",
       "2               4.9   Dark Green   Excellent    605  \n",
       "3               4.2        Green   Very Good    395  \n",
       "4               4.3        Green   Very Good    243  "
      ]
     },
     "execution_count": 7,
     "metadata": {},
     "output_type": "execute_result"
    }
   ],
   "source": [
    "data.head()"
   ]
  },
  {
   "cell_type": "code",
   "execution_count": 8,
   "id": "9f57c3f7",
   "metadata": {},
   "outputs": [
    {
     "data": {
      "text/html": [
       "<div>\n",
       "<style scoped>\n",
       "    .dataframe tbody tr th:only-of-type {\n",
       "        vertical-align: middle;\n",
       "    }\n",
       "\n",
       "    .dataframe tbody tr th {\n",
       "        vertical-align: top;\n",
       "    }\n",
       "\n",
       "    .dataframe thead th {\n",
       "        text-align: right;\n",
       "    }\n",
       "</style>\n",
       "<table border=\"1\" class=\"dataframe\">\n",
       "  <thead>\n",
       "    <tr style=\"text-align: right;\">\n",
       "      <th></th>\n",
       "      <th>Country Code</th>\n",
       "      <th>Country</th>\n",
       "    </tr>\n",
       "  </thead>\n",
       "  <tbody>\n",
       "    <tr>\n",
       "      <th>0</th>\n",
       "      <td>1</td>\n",
       "      <td>India</td>\n",
       "    </tr>\n",
       "    <tr>\n",
       "      <th>1</th>\n",
       "      <td>14</td>\n",
       "      <td>Australia</td>\n",
       "    </tr>\n",
       "    <tr>\n",
       "      <th>2</th>\n",
       "      <td>30</td>\n",
       "      <td>Brazil</td>\n",
       "    </tr>\n",
       "    <tr>\n",
       "      <th>3</th>\n",
       "      <td>37</td>\n",
       "      <td>Canada</td>\n",
       "    </tr>\n",
       "    <tr>\n",
       "      <th>4</th>\n",
       "      <td>94</td>\n",
       "      <td>Indonesia</td>\n",
       "    </tr>\n",
       "  </tbody>\n",
       "</table>\n",
       "</div>"
      ],
      "text/plain": [
       "   Country Code    Country\n",
       "0             1      India\n",
       "1            14  Australia\n",
       "2            30     Brazil\n",
       "3            37     Canada\n",
       "4            94  Indonesia"
      ]
     },
     "execution_count": 8,
     "metadata": {},
     "output_type": "execute_result"
    }
   ],
   "source": [
    "cc.head()"
   ]
  },
  {
   "cell_type": "code",
   "execution_count": 9,
   "id": "a41c2680",
   "metadata": {},
   "outputs": [
    {
     "data": {
      "text/html": [
       "<div>\n",
       "<style scoped>\n",
       "    .dataframe tbody tr th:only-of-type {\n",
       "        vertical-align: middle;\n",
       "    }\n",
       "\n",
       "    .dataframe tbody tr th {\n",
       "        vertical-align: top;\n",
       "    }\n",
       "\n",
       "    .dataframe thead th {\n",
       "        text-align: right;\n",
       "    }\n",
       "</style>\n",
       "<table border=\"1\" class=\"dataframe\">\n",
       "  <thead>\n",
       "    <tr style=\"text-align: right;\">\n",
       "      <th></th>\n",
       "      <th>Restaurant ID</th>\n",
       "      <th>Restaurant Name</th>\n",
       "      <th>Country Code</th>\n",
       "      <th>City</th>\n",
       "      <th>Address</th>\n",
       "      <th>Locality</th>\n",
       "      <th>Locality Verbose</th>\n",
       "      <th>Longitude</th>\n",
       "      <th>Latitude</th>\n",
       "      <th>Cuisines</th>\n",
       "      <th>Average Cost for two</th>\n",
       "      <th>Currency</th>\n",
       "      <th>Has Table booking</th>\n",
       "      <th>Has Online delivery</th>\n",
       "      <th>Price range</th>\n",
       "      <th>Aggregate rating</th>\n",
       "      <th>Rating color</th>\n",
       "      <th>Rating text</th>\n",
       "      <th>Votes</th>\n",
       "      <th>Country</th>\n",
       "    </tr>\n",
       "  </thead>\n",
       "  <tbody>\n",
       "    <tr>\n",
       "      <th>0</th>\n",
       "      <td>7402935</td>\n",
       "      <td>Skye</td>\n",
       "      <td>94</td>\n",
       "      <td>Jakarta</td>\n",
       "      <td>Menara BCA, Lantai 56, Jl. MH. Thamrin, Thamri...</td>\n",
       "      <td>Grand Indonesia Mall, Thamrin</td>\n",
       "      <td>Grand Indonesia Mall, Thamrin, Jakarta</td>\n",
       "      <td>106.821999</td>\n",
       "      <td>-6.196778</td>\n",
       "      <td>Italian, Continental</td>\n",
       "      <td>800000</td>\n",
       "      <td>Indonesian Rupiah(IDR)</td>\n",
       "      <td>No</td>\n",
       "      <td>No</td>\n",
       "      <td>3</td>\n",
       "      <td>4.1</td>\n",
       "      <td>Green</td>\n",
       "      <td>Very Good</td>\n",
       "      <td>1498</td>\n",
       "      <td>Indonesia</td>\n",
       "    </tr>\n",
       "    <tr>\n",
       "      <th>1</th>\n",
       "      <td>7410290</td>\n",
       "      <td>Satoo - Hotel Shangri-La</td>\n",
       "      <td>94</td>\n",
       "      <td>Jakarta</td>\n",
       "      <td>Hotel Shangri-La, Jl. Jend. Sudirman</td>\n",
       "      <td>Hotel Shangri-La, Sudirman</td>\n",
       "      <td>Hotel Shangri-La, Sudirman, Jakarta</td>\n",
       "      <td>106.818961</td>\n",
       "      <td>-6.203292</td>\n",
       "      <td>Asian, Indonesian, Western</td>\n",
       "      <td>800000</td>\n",
       "      <td>Indonesian Rupiah(IDR)</td>\n",
       "      <td>No</td>\n",
       "      <td>No</td>\n",
       "      <td>3</td>\n",
       "      <td>4.6</td>\n",
       "      <td>Dark Green</td>\n",
       "      <td>Excellent</td>\n",
       "      <td>873</td>\n",
       "      <td>Indonesia</td>\n",
       "    </tr>\n",
       "    <tr>\n",
       "      <th>2</th>\n",
       "      <td>7420899</td>\n",
       "      <td>Sushi Masa</td>\n",
       "      <td>94</td>\n",
       "      <td>Jakarta</td>\n",
       "      <td>Jl. Tuna Raya No. 5, Penjaringan</td>\n",
       "      <td>Penjaringan</td>\n",
       "      <td>Penjaringan, Jakarta</td>\n",
       "      <td>106.800144</td>\n",
       "      <td>-6.101298</td>\n",
       "      <td>Sushi, Japanese</td>\n",
       "      <td>500000</td>\n",
       "      <td>Indonesian Rupiah(IDR)</td>\n",
       "      <td>No</td>\n",
       "      <td>No</td>\n",
       "      <td>3</td>\n",
       "      <td>4.9</td>\n",
       "      <td>Dark Green</td>\n",
       "      <td>Excellent</td>\n",
       "      <td>605</td>\n",
       "      <td>Indonesia</td>\n",
       "    </tr>\n",
       "    <tr>\n",
       "      <th>3</th>\n",
       "      <td>7421967</td>\n",
       "      <td>3 Wise Monkeys</td>\n",
       "      <td>94</td>\n",
       "      <td>Jakarta</td>\n",
       "      <td>Jl. Suryo No. 26, Senopati, Jakarta</td>\n",
       "      <td>Senopati</td>\n",
       "      <td>Senopati, Jakarta</td>\n",
       "      <td>106.813400</td>\n",
       "      <td>-6.235241</td>\n",
       "      <td>Japanese</td>\n",
       "      <td>450000</td>\n",
       "      <td>Indonesian Rupiah(IDR)</td>\n",
       "      <td>No</td>\n",
       "      <td>No</td>\n",
       "      <td>3</td>\n",
       "      <td>4.2</td>\n",
       "      <td>Green</td>\n",
       "      <td>Very Good</td>\n",
       "      <td>395</td>\n",
       "      <td>Indonesia</td>\n",
       "    </tr>\n",
       "    <tr>\n",
       "      <th>4</th>\n",
       "      <td>7422489</td>\n",
       "      <td>Avec Moi Restaurant and Bar</td>\n",
       "      <td>94</td>\n",
       "      <td>Jakarta</td>\n",
       "      <td>Gedung PIC, Jl. Teluk Betung 43, Thamrin, Jakarta</td>\n",
       "      <td>Thamrin</td>\n",
       "      <td>Thamrin, Jakarta</td>\n",
       "      <td>106.821023</td>\n",
       "      <td>-6.196270</td>\n",
       "      <td>French, Western</td>\n",
       "      <td>350000</td>\n",
       "      <td>Indonesian Rupiah(IDR)</td>\n",
       "      <td>No</td>\n",
       "      <td>No</td>\n",
       "      <td>3</td>\n",
       "      <td>4.3</td>\n",
       "      <td>Green</td>\n",
       "      <td>Very Good</td>\n",
       "      <td>243</td>\n",
       "      <td>Indonesia</td>\n",
       "    </tr>\n",
       "  </tbody>\n",
       "</table>\n",
       "</div>"
      ],
      "text/plain": [
       "   Restaurant ID              Restaurant Name  Country Code     City  \\\n",
       "0        7402935                         Skye            94  Jakarta   \n",
       "1        7410290     Satoo - Hotel Shangri-La            94  Jakarta   \n",
       "2        7420899                   Sushi Masa            94  Jakarta   \n",
       "3        7421967               3 Wise Monkeys            94  Jakarta   \n",
       "4        7422489  Avec Moi Restaurant and Bar            94  Jakarta   \n",
       "\n",
       "                                             Address  \\\n",
       "0  Menara BCA, Lantai 56, Jl. MH. Thamrin, Thamri...   \n",
       "1               Hotel Shangri-La, Jl. Jend. Sudirman   \n",
       "2                   Jl. Tuna Raya No. 5, Penjaringan   \n",
       "3                Jl. Suryo No. 26, Senopati, Jakarta   \n",
       "4  Gedung PIC, Jl. Teluk Betung 43, Thamrin, Jakarta   \n",
       "\n",
       "                        Locality                        Locality Verbose  \\\n",
       "0  Grand Indonesia Mall, Thamrin  Grand Indonesia Mall, Thamrin, Jakarta   \n",
       "1     Hotel Shangri-La, Sudirman     Hotel Shangri-La, Sudirman, Jakarta   \n",
       "2                    Penjaringan                    Penjaringan, Jakarta   \n",
       "3                       Senopati                       Senopati, Jakarta   \n",
       "4                        Thamrin                        Thamrin, Jakarta   \n",
       "\n",
       "    Longitude  Latitude                    Cuisines  Average Cost for two  \\\n",
       "0  106.821999 -6.196778        Italian, Continental                800000   \n",
       "1  106.818961 -6.203292  Asian, Indonesian, Western                800000   \n",
       "2  106.800144 -6.101298             Sushi, Japanese                500000   \n",
       "3  106.813400 -6.235241                    Japanese                450000   \n",
       "4  106.821023 -6.196270             French, Western                350000   \n",
       "\n",
       "                 Currency Has Table booking Has Online delivery  Price range  \\\n",
       "0  Indonesian Rupiah(IDR)                No                  No            3   \n",
       "1  Indonesian Rupiah(IDR)                No                  No            3   \n",
       "2  Indonesian Rupiah(IDR)                No                  No            3   \n",
       "3  Indonesian Rupiah(IDR)                No                  No            3   \n",
       "4  Indonesian Rupiah(IDR)                No                  No            3   \n",
       "\n",
       "   Aggregate rating Rating color Rating text  Votes    Country  \n",
       "0               4.1        Green   Very Good   1498  Indonesia  \n",
       "1               4.6   Dark Green   Excellent    873  Indonesia  \n",
       "2               4.9   Dark Green   Excellent    605  Indonesia  \n",
       "3               4.2        Green   Very Good    395  Indonesia  \n",
       "4               4.3        Green   Very Good    243  Indonesia  "
      ]
     },
     "execution_count": 9,
     "metadata": {},
     "output_type": "execute_result"
    }
   ],
   "source": [
    "df = pd.merge(data,cc,on=\"Country Code\",how=\"left\")\n",
    "df.head()"
   ]
  },
  {
   "cell_type": "code",
   "execution_count": 11,
   "id": "00248e01",
   "metadata": {},
   "outputs": [
    {
     "data": {
      "text/plain": [
       "Country Code  Country       \n",
       "1             India             8652\n",
       "216           United States      434\n",
       "215           United Kingdom      80\n",
       "30            Brazil              60\n",
       "189           South Africa        60\n",
       "214           UAE                 60\n",
       "148           New Zealand         40\n",
       "208           Turkey              34\n",
       "14            Australia           24\n",
       "162           Phillipines         22\n",
       "94            Indonesia           21\n",
       "166           Qatar               20\n",
       "184           Singapore           20\n",
       "191           Sri Lanka           20\n",
       "37            Canada               4\n",
       "dtype: int64"
      ]
     },
     "execution_count": 11,
     "metadata": {},
     "output_type": "execute_result"
    }
   ],
   "source": [
    "df[['Country Code', 'Country']].value_counts()"
   ]
  },
  {
   "cell_type": "code",
   "execution_count": 14,
   "id": "4c5d2fde",
   "metadata": {},
   "outputs": [
    {
     "name": "stdout",
     "output_type": "stream",
     "text": [
      "<class 'pandas.core.frame.DataFrame'>\n",
      "Int64Index: 9551 entries, 0 to 9550\n",
      "Data columns (total 20 columns):\n",
      " #   Column                Non-Null Count  Dtype  \n",
      "---  ------                --------------  -----  \n",
      " 0   Restaurant ID         9551 non-null   int64  \n",
      " 1   Restaurant Name       9550 non-null   object \n",
      " 2   Country Code          9551 non-null   int64  \n",
      " 3   City                  9551 non-null   object \n",
      " 4   Address               9551 non-null   object \n",
      " 5   Locality              9551 non-null   object \n",
      " 6   Locality Verbose      9551 non-null   object \n",
      " 7   Longitude             9551 non-null   float64\n",
      " 8   Latitude              9551 non-null   float64\n",
      " 9   Cuisines              9542 non-null   object \n",
      " 10  Average Cost for two  9551 non-null   int64  \n",
      " 11  Currency              9551 non-null   object \n",
      " 12  Has Table booking     9551 non-null   object \n",
      " 13  Has Online delivery   9551 non-null   object \n",
      " 14  Price range           9551 non-null   int64  \n",
      " 15  Aggregate rating      9551 non-null   float64\n",
      " 16  Rating color          9551 non-null   object \n",
      " 17  Rating text           9551 non-null   object \n",
      " 18  Votes                 9551 non-null   int64  \n",
      " 19  Country               9551 non-null   object \n",
      "dtypes: float64(3), int64(5), object(12)\n",
      "memory usage: 1.5+ MB\n"
     ]
    }
   ],
   "source": [
    "df.info()"
   ]
  },
  {
   "cell_type": "code",
   "execution_count": 15,
   "id": "7bac1694",
   "metadata": {},
   "outputs": [
    {
     "data": {
      "text/plain": [
       "Restaurant ID           0\n",
       "Restaurant Name         1\n",
       "Country Code            0\n",
       "City                    0\n",
       "Address                 0\n",
       "Locality                0\n",
       "Locality Verbose        0\n",
       "Longitude               0\n",
       "Latitude                0\n",
       "Cuisines                9\n",
       "Average Cost for two    0\n",
       "Currency                0\n",
       "Has Table booking       0\n",
       "Has Online delivery     0\n",
       "Price range             0\n",
       "Aggregate rating        0\n",
       "Rating color            0\n",
       "Rating text             0\n",
       "Votes                   0\n",
       "dtype: int64"
      ]
     },
     "execution_count": 15,
     "metadata": {},
     "output_type": "execute_result"
    }
   ],
   "source": [
    "# Check for missing values\n",
    "missing_values = data.isnull().sum()\n",
    "missing_values"
   ]
  },
  {
   "cell_type": "code",
   "execution_count": 18,
   "id": "a1789f48",
   "metadata": {},
   "outputs": [
    {
     "data": {
      "text/html": [
       "<div>\n",
       "<style scoped>\n",
       "    .dataframe tbody tr th:only-of-type {\n",
       "        vertical-align: middle;\n",
       "    }\n",
       "\n",
       "    .dataframe tbody tr th {\n",
       "        vertical-align: top;\n",
       "    }\n",
       "\n",
       "    .dataframe thead th {\n",
       "        text-align: right;\n",
       "    }\n",
       "</style>\n",
       "<table border=\"1\" class=\"dataframe\">\n",
       "  <thead>\n",
       "    <tr style=\"text-align: right;\">\n",
       "      <th></th>\n",
       "      <th>Restaurant ID</th>\n",
       "      <th>Restaurant Name</th>\n",
       "      <th>Country Code</th>\n",
       "      <th>City</th>\n",
       "      <th>Address</th>\n",
       "      <th>Locality</th>\n",
       "      <th>Locality Verbose</th>\n",
       "      <th>Longitude</th>\n",
       "      <th>Latitude</th>\n",
       "      <th>Cuisines</th>\n",
       "      <th>Average Cost for two</th>\n",
       "      <th>Currency</th>\n",
       "      <th>Has Table booking</th>\n",
       "      <th>Has Online delivery</th>\n",
       "      <th>Price range</th>\n",
       "      <th>Aggregate rating</th>\n",
       "      <th>Rating color</th>\n",
       "      <th>Rating text</th>\n",
       "      <th>Votes</th>\n",
       "      <th>Country</th>\n",
       "    </tr>\n",
       "  </thead>\n",
       "  <tbody>\n",
       "    <tr>\n",
       "      <th>1646</th>\n",
       "      <td>113702</td>\n",
       "      <td>NaN</td>\n",
       "      <td>1</td>\n",
       "      <td>Ahmedabad</td>\n",
       "      <td>Opposite Sindhu Bhawan, Bodakdev, Ahmedabad</td>\n",
       "      <td>Bodakdev</td>\n",
       "      <td>Bodakdev, Ahmedabad</td>\n",
       "      <td>72.501764</td>\n",
       "      <td>23.040163</td>\n",
       "      <td>North Indian, Continental, Mexican, Italian</td>\n",
       "      <td>800</td>\n",
       "      <td>Indian Rupees(Rs.)</td>\n",
       "      <td>No</td>\n",
       "      <td>No</td>\n",
       "      <td>3</td>\n",
       "      <td>4.1</td>\n",
       "      <td>Green</td>\n",
       "      <td>Very Good</td>\n",
       "      <td>769</td>\n",
       "      <td>India</td>\n",
       "    </tr>\n",
       "  </tbody>\n",
       "</table>\n",
       "</div>"
      ],
      "text/plain": [
       "      Restaurant ID Restaurant Name  Country Code       City  \\\n",
       "1646         113702             NaN             1  Ahmedabad   \n",
       "\n",
       "                                          Address  Locality  \\\n",
       "1646  Opposite Sindhu Bhawan, Bodakdev, Ahmedabad  Bodakdev   \n",
       "\n",
       "         Locality Verbose  Longitude   Latitude  \\\n",
       "1646  Bodakdev, Ahmedabad  72.501764  23.040163   \n",
       "\n",
       "                                         Cuisines  Average Cost for two  \\\n",
       "1646  North Indian, Continental, Mexican, Italian                   800   \n",
       "\n",
       "                Currency Has Table booking Has Online delivery  Price range  \\\n",
       "1646  Indian Rupees(Rs.)                No                  No            3   \n",
       "\n",
       "      Aggregate rating Rating color Rating text  Votes Country  \n",
       "1646               4.1        Green   Very Good    769   India  "
      ]
     },
     "execution_count": 18,
     "metadata": {},
     "output_type": "execute_result"
    }
   ],
   "source": [
    "df[df['Restaurant Name'].isnull()]"
   ]
  },
  {
   "cell_type": "code",
   "execution_count": 23,
   "id": "ae2742c3",
   "metadata": {},
   "outputs": [
    {
     "data": {
      "text/plain": [
       "Restaurant ID           0\n",
       "Restaurant Name         0\n",
       "Country Code            0\n",
       "City                    0\n",
       "Address                 0\n",
       "Locality                0\n",
       "Locality Verbose        0\n",
       "Longitude               0\n",
       "Latitude                0\n",
       "Cuisines                9\n",
       "Average Cost for two    0\n",
       "Currency                0\n",
       "Has Table booking       0\n",
       "Has Online delivery     0\n",
       "Price range             0\n",
       "Aggregate rating        0\n",
       "Rating color            0\n",
       "Rating text             0\n",
       "Votes                   0\n",
       "Country                 0\n",
       "dtype: int64"
      ]
     },
     "execution_count": 23,
     "metadata": {},
     "output_type": "execute_result"
    }
   ],
   "source": [
    "# Since the restaurant name is missing, we dropped the record and reset the index.\n",
    "df.dropna(subset='Restaurant Name',axis=0, inplace=True)\n",
    "df.reset_index(drop=True, inplace=True)\n",
    "df.isnull().sum()"
   ]
  },
  {
   "cell_type": "code",
   "execution_count": 24,
   "id": "7f82c27a",
   "metadata": {},
   "outputs": [
    {
     "name": "stdout",
     "output_type": "stream",
     "text": [
      "<class 'pandas.core.frame.DataFrame'>\n",
      "RangeIndex: 9550 entries, 0 to 9549\n",
      "Data columns (total 20 columns):\n",
      " #   Column                Non-Null Count  Dtype  \n",
      "---  ------                --------------  -----  \n",
      " 0   Restaurant ID         9550 non-null   int64  \n",
      " 1   Restaurant Name       9550 non-null   object \n",
      " 2   Country Code          9550 non-null   int64  \n",
      " 3   City                  9550 non-null   object \n",
      " 4   Address               9550 non-null   object \n",
      " 5   Locality              9550 non-null   object \n",
      " 6   Locality Verbose      9550 non-null   object \n",
      " 7   Longitude             9550 non-null   float64\n",
      " 8   Latitude              9550 non-null   float64\n",
      " 9   Cuisines              9541 non-null   object \n",
      " 10  Average Cost for two  9550 non-null   int64  \n",
      " 11  Currency              9550 non-null   object \n",
      " 12  Has Table booking     9550 non-null   object \n",
      " 13  Has Online delivery   9550 non-null   object \n",
      " 14  Price range           9550 non-null   int64  \n",
      " 15  Aggregate rating      9550 non-null   float64\n",
      " 16  Rating color          9550 non-null   object \n",
      " 17  Rating text           9550 non-null   object \n",
      " 18  Votes                 9550 non-null   int64  \n",
      " 19  Country               9550 non-null   object \n",
      "dtypes: float64(3), int64(5), object(12)\n",
      "memory usage: 1.5+ MB\n"
     ]
    }
   ],
   "source": [
    "df.info()"
   ]
  },
  {
   "cell_type": "code",
   "execution_count": 28,
   "id": "61c99df5",
   "metadata": {},
   "outputs": [
    {
     "data": {
      "text/plain": [
       "9"
      ]
     },
     "execution_count": 28,
     "metadata": {},
     "output_type": "execute_result"
    }
   ],
   "source": [
    "df['Cuisines'].isnull().sum()"
   ]
  },
  {
   "cell_type": "code",
   "execution_count": 25,
   "id": "31c13e02",
   "metadata": {},
   "outputs": [
    {
     "data": {
      "text/html": [
       "<div>\n",
       "<style scoped>\n",
       "    .dataframe tbody tr th:only-of-type {\n",
       "        vertical-align: middle;\n",
       "    }\n",
       "\n",
       "    .dataframe tbody tr th {\n",
       "        vertical-align: top;\n",
       "    }\n",
       "\n",
       "    .dataframe thead th {\n",
       "        text-align: right;\n",
       "    }\n",
       "</style>\n",
       "<table border=\"1\" class=\"dataframe\">\n",
       "  <thead>\n",
       "    <tr style=\"text-align: right;\">\n",
       "      <th></th>\n",
       "      <th>Restaurant ID</th>\n",
       "      <th>Restaurant Name</th>\n",
       "      <th>Country Code</th>\n",
       "      <th>City</th>\n",
       "      <th>Address</th>\n",
       "      <th>Locality</th>\n",
       "      <th>Locality Verbose</th>\n",
       "      <th>Longitude</th>\n",
       "      <th>Latitude</th>\n",
       "      <th>Cuisines</th>\n",
       "      <th>Average Cost for two</th>\n",
       "      <th>Currency</th>\n",
       "      <th>Has Table booking</th>\n",
       "      <th>Has Online delivery</th>\n",
       "      <th>Price range</th>\n",
       "      <th>Aggregate rating</th>\n",
       "      <th>Rating color</th>\n",
       "      <th>Rating text</th>\n",
       "      <th>Votes</th>\n",
       "      <th>Country</th>\n",
       "    </tr>\n",
       "  </thead>\n",
       "  <tbody>\n",
       "    <tr>\n",
       "      <th>9082</th>\n",
       "      <td>17374552</td>\n",
       "      <td>Corkscrew Cafe</td>\n",
       "      <td>216</td>\n",
       "      <td>Gainesville</td>\n",
       "      <td>51 W Main St, Dahlonega, GA 30533</td>\n",
       "      <td>Dahlonega</td>\n",
       "      <td>Dahlonega, Gainesville</td>\n",
       "      <td>-83.985800</td>\n",
       "      <td>34.531800</td>\n",
       "      <td>NaN</td>\n",
       "      <td>40</td>\n",
       "      <td>Dollar($)</td>\n",
       "      <td>No</td>\n",
       "      <td>No</td>\n",
       "      <td>3</td>\n",
       "      <td>3.9</td>\n",
       "      <td>Yellow</td>\n",
       "      <td>Good</td>\n",
       "      <td>209</td>\n",
       "      <td>United States</td>\n",
       "    </tr>\n",
       "    <tr>\n",
       "      <th>9085</th>\n",
       "      <td>17501439</td>\n",
       "      <td>Dovetail</td>\n",
       "      <td>216</td>\n",
       "      <td>Macon</td>\n",
       "      <td>543 Cherry St, Macon, GA 31201</td>\n",
       "      <td>Macon</td>\n",
       "      <td>Macon, Macon</td>\n",
       "      <td>-83.627979</td>\n",
       "      <td>32.836410</td>\n",
       "      <td>NaN</td>\n",
       "      <td>40</td>\n",
       "      <td>Dollar($)</td>\n",
       "      <td>No</td>\n",
       "      <td>No</td>\n",
       "      <td>3</td>\n",
       "      <td>3.8</td>\n",
       "      <td>Yellow</td>\n",
       "      <td>Good</td>\n",
       "      <td>102</td>\n",
       "      <td>United States</td>\n",
       "    </tr>\n",
       "    <tr>\n",
       "      <th>9093</th>\n",
       "      <td>17059060</td>\n",
       "      <td>Hillstone</td>\n",
       "      <td>216</td>\n",
       "      <td>Orlando</td>\n",
       "      <td>215 South Orlando Avenue, Winter Park, FL 32789</td>\n",
       "      <td>Winter Park</td>\n",
       "      <td>Winter Park, Orlando</td>\n",
       "      <td>-81.365260</td>\n",
       "      <td>28.596682</td>\n",
       "      <td>NaN</td>\n",
       "      <td>40</td>\n",
       "      <td>Dollar($)</td>\n",
       "      <td>No</td>\n",
       "      <td>No</td>\n",
       "      <td>3</td>\n",
       "      <td>4.4</td>\n",
       "      <td>Green</td>\n",
       "      <td>Very Good</td>\n",
       "      <td>1158</td>\n",
       "      <td>United States</td>\n",
       "    </tr>\n",
       "    <tr>\n",
       "      <th>9405</th>\n",
       "      <td>17284158</td>\n",
       "      <td>Jimmie's Hot Dogs</td>\n",
       "      <td>216</td>\n",
       "      <td>Albany</td>\n",
       "      <td>204 S Jackson St, Albany, GA 31701</td>\n",
       "      <td>Albany</td>\n",
       "      <td>Albany, Albany</td>\n",
       "      <td>-84.153400</td>\n",
       "      <td>31.575100</td>\n",
       "      <td>NaN</td>\n",
       "      <td>10</td>\n",
       "      <td>Dollar($)</td>\n",
       "      <td>No</td>\n",
       "      <td>No</td>\n",
       "      <td>1</td>\n",
       "      <td>3.9</td>\n",
       "      <td>Yellow</td>\n",
       "      <td>Good</td>\n",
       "      <td>160</td>\n",
       "      <td>United States</td>\n",
       "    </tr>\n",
       "    <tr>\n",
       "      <th>9493</th>\n",
       "      <td>17142698</td>\n",
       "      <td>Leonard's Bakery</td>\n",
       "      <td>216</td>\n",
       "      <td>Rest of Hawaii</td>\n",
       "      <td>933 Kapahulu Ave, Honolulu, HI 96816</td>\n",
       "      <td>Kaimuki</td>\n",
       "      <td>Kaimuki, Rest of Hawaii</td>\n",
       "      <td>-157.813432</td>\n",
       "      <td>21.284586</td>\n",
       "      <td>NaN</td>\n",
       "      <td>10</td>\n",
       "      <td>Dollar($)</td>\n",
       "      <td>No</td>\n",
       "      <td>No</td>\n",
       "      <td>1</td>\n",
       "      <td>4.7</td>\n",
       "      <td>Dark Green</td>\n",
       "      <td>Excellent</td>\n",
       "      <td>707</td>\n",
       "      <td>United States</td>\n",
       "    </tr>\n",
       "    <tr>\n",
       "      <th>9503</th>\n",
       "      <td>17616465</td>\n",
       "      <td>Tybee Island Social Club</td>\n",
       "      <td>216</td>\n",
       "      <td>Savannah</td>\n",
       "      <td>1311 Butler Ave, Tybee Island, GA 31328</td>\n",
       "      <td>Tybee Island</td>\n",
       "      <td>Tybee Island, Savannah</td>\n",
       "      <td>-80.848297</td>\n",
       "      <td>31.995810</td>\n",
       "      <td>NaN</td>\n",
       "      <td>10</td>\n",
       "      <td>Dollar($)</td>\n",
       "      <td>No</td>\n",
       "      <td>No</td>\n",
       "      <td>1</td>\n",
       "      <td>3.9</td>\n",
       "      <td>Yellow</td>\n",
       "      <td>Good</td>\n",
       "      <td>309</td>\n",
       "      <td>United States</td>\n",
       "    </tr>\n",
       "    <tr>\n",
       "      <th>9532</th>\n",
       "      <td>17284105</td>\n",
       "      <td>Cookie Shoppe</td>\n",
       "      <td>216</td>\n",
       "      <td>Albany</td>\n",
       "      <td>115 N Jackson St, Albany, GA 31701</td>\n",
       "      <td>Albany</td>\n",
       "      <td>Albany, Albany</td>\n",
       "      <td>-84.154000</td>\n",
       "      <td>31.577200</td>\n",
       "      <td>NaN</td>\n",
       "      <td>0</td>\n",
       "      <td>Dollar($)</td>\n",
       "      <td>No</td>\n",
       "      <td>No</td>\n",
       "      <td>1</td>\n",
       "      <td>3.4</td>\n",
       "      <td>Orange</td>\n",
       "      <td>Average</td>\n",
       "      <td>34</td>\n",
       "      <td>United States</td>\n",
       "    </tr>\n",
       "    <tr>\n",
       "      <th>9534</th>\n",
       "      <td>17284211</td>\n",
       "      <td>Pearly's Famous Country Cookng</td>\n",
       "      <td>216</td>\n",
       "      <td>Albany</td>\n",
       "      <td>814 N Slappey Blvd, Albany, GA 31701</td>\n",
       "      <td>Albany</td>\n",
       "      <td>Albany, Albany</td>\n",
       "      <td>-84.175900</td>\n",
       "      <td>31.588200</td>\n",
       "      <td>NaN</td>\n",
       "      <td>0</td>\n",
       "      <td>Dollar($)</td>\n",
       "      <td>No</td>\n",
       "      <td>No</td>\n",
       "      <td>1</td>\n",
       "      <td>3.4</td>\n",
       "      <td>Orange</td>\n",
       "      <td>Average</td>\n",
       "      <td>36</td>\n",
       "      <td>United States</td>\n",
       "    </tr>\n",
       "    <tr>\n",
       "      <th>9538</th>\n",
       "      <td>17606621</td>\n",
       "      <td>HI Lite Bar &amp; Lounge</td>\n",
       "      <td>216</td>\n",
       "      <td>Miller</td>\n",
       "      <td>109 N Broadway Ave, Miller, SD 57362</td>\n",
       "      <td>Miller</td>\n",
       "      <td>Miller, Miller</td>\n",
       "      <td>-98.989100</td>\n",
       "      <td>44.515800</td>\n",
       "      <td>NaN</td>\n",
       "      <td>0</td>\n",
       "      <td>Dollar($)</td>\n",
       "      <td>No</td>\n",
       "      <td>No</td>\n",
       "      <td>1</td>\n",
       "      <td>3.4</td>\n",
       "      <td>Orange</td>\n",
       "      <td>Average</td>\n",
       "      <td>11</td>\n",
       "      <td>United States</td>\n",
       "    </tr>\n",
       "  </tbody>\n",
       "</table>\n",
       "</div>"
      ],
      "text/plain": [
       "      Restaurant ID                 Restaurant Name  Country Code  \\\n",
       "9082       17374552                  Corkscrew Cafe           216   \n",
       "9085       17501439                        Dovetail           216   \n",
       "9093       17059060                       Hillstone           216   \n",
       "9405       17284158               Jimmie's Hot Dogs           216   \n",
       "9493       17142698                Leonard's Bakery           216   \n",
       "9503       17616465        Tybee Island Social Club           216   \n",
       "9532       17284105                   Cookie Shoppe           216   \n",
       "9534       17284211  Pearly's Famous Country Cookng           216   \n",
       "9538       17606621            HI Lite Bar & Lounge           216   \n",
       "\n",
       "                City                                          Address  \\\n",
       "9082     Gainesville                51 W Main St, Dahlonega, GA 30533   \n",
       "9085           Macon                   543 Cherry St, Macon, GA 31201   \n",
       "9093         Orlando  215 South Orlando Avenue, Winter Park, FL 32789   \n",
       "9405          Albany               204 S Jackson St, Albany, GA 31701   \n",
       "9493  Rest of Hawaii             933 Kapahulu Ave, Honolulu, HI 96816   \n",
       "9503        Savannah          1311 Butler Ave, Tybee Island, GA 31328   \n",
       "9532          Albany               115 N Jackson St, Albany, GA 31701   \n",
       "9534          Albany             814 N Slappey Blvd, Albany, GA 31701   \n",
       "9538          Miller             109 N Broadway Ave, Miller, SD 57362   \n",
       "\n",
       "          Locality         Locality Verbose   Longitude   Latitude Cuisines  \\\n",
       "9082     Dahlonega   Dahlonega, Gainesville  -83.985800  34.531800      NaN   \n",
       "9085         Macon             Macon, Macon  -83.627979  32.836410      NaN   \n",
       "9093   Winter Park     Winter Park, Orlando  -81.365260  28.596682      NaN   \n",
       "9405        Albany           Albany, Albany  -84.153400  31.575100      NaN   \n",
       "9493       Kaimuki  Kaimuki, Rest of Hawaii -157.813432  21.284586      NaN   \n",
       "9503  Tybee Island   Tybee Island, Savannah  -80.848297  31.995810      NaN   \n",
       "9532        Albany           Albany, Albany  -84.154000  31.577200      NaN   \n",
       "9534        Albany           Albany, Albany  -84.175900  31.588200      NaN   \n",
       "9538        Miller           Miller, Miller  -98.989100  44.515800      NaN   \n",
       "\n",
       "      Average Cost for two   Currency Has Table booking Has Online delivery  \\\n",
       "9082                    40  Dollar($)                No                  No   \n",
       "9085                    40  Dollar($)                No                  No   \n",
       "9093                    40  Dollar($)                No                  No   \n",
       "9405                    10  Dollar($)                No                  No   \n",
       "9493                    10  Dollar($)                No                  No   \n",
       "9503                    10  Dollar($)                No                  No   \n",
       "9532                     0  Dollar($)                No                  No   \n",
       "9534                     0  Dollar($)                No                  No   \n",
       "9538                     0  Dollar($)                No                  No   \n",
       "\n",
       "      Price range  Aggregate rating Rating color Rating text  Votes  \\\n",
       "9082            3               3.9       Yellow        Good    209   \n",
       "9085            3               3.8       Yellow        Good    102   \n",
       "9093            3               4.4        Green   Very Good   1158   \n",
       "9405            1               3.9       Yellow        Good    160   \n",
       "9493            1               4.7   Dark Green   Excellent    707   \n",
       "9503            1               3.9       Yellow        Good    309   \n",
       "9532            1               3.4       Orange     Average     34   \n",
       "9534            1               3.4       Orange     Average     36   \n",
       "9538            1               3.4       Orange     Average     11   \n",
       "\n",
       "            Country  \n",
       "9082  United States  \n",
       "9085  United States  \n",
       "9093  United States  \n",
       "9405  United States  \n",
       "9493  United States  \n",
       "9503  United States  \n",
       "9532  United States  \n",
       "9534  United States  \n",
       "9538  United States  "
      ]
     },
     "execution_count": 25,
     "metadata": {},
     "output_type": "execute_result"
    }
   ],
   "source": [
    "df[df['Cuisines'].isnull()]"
   ]
  },
  {
   "cell_type": "code",
   "execution_count": 37,
   "id": "8681e3ad",
   "metadata": {},
   "outputs": [
    {
     "data": {
      "text/plain": [
       "North Indian                                                  936\n",
       "North Indian, Chinese                                         511\n",
       "Chinese                                                       354\n",
       "Fast Food                                                     354\n",
       "North Indian, Mughlai                                         334\n",
       "                                                             ... \n",
       "Continental, Mexican, North Indian, Chinese                     1\n",
       "Cafe, Mexican, Italian, Continental                             1\n",
       "Cafe, Continental, Italian, Street Food                         1\n",
       "Cafe, Lebanese, Italian                                         1\n",
       "Cafe, Continental, Desserts, Ice Cream, Italian, Beverages      1\n",
       "Name: Cuisines, Length: 1825, dtype: int64"
      ]
     },
     "execution_count": 37,
     "metadata": {},
     "output_type": "execute_result"
    }
   ],
   "source": [
    "df['Cuisines'].value_counts()"
   ]
  },
  {
   "cell_type": "code",
   "execution_count": 43,
   "id": "83e5375b",
   "metadata": {},
   "outputs": [
    {
     "data": {
      "text/html": [
       "<div>\n",
       "<style scoped>\n",
       "    .dataframe tbody tr th:only-of-type {\n",
       "        vertical-align: middle;\n",
       "    }\n",
       "\n",
       "    .dataframe tbody tr th {\n",
       "        vertical-align: top;\n",
       "    }\n",
       "\n",
       "    .dataframe thead th {\n",
       "        text-align: right;\n",
       "    }\n",
       "</style>\n",
       "<table border=\"1\" class=\"dataframe\">\n",
       "  <thead>\n",
       "    <tr style=\"text-align: right;\">\n",
       "      <th></th>\n",
       "      <th>City</th>\n",
       "      <th>Cuisines</th>\n",
       "    </tr>\n",
       "  </thead>\n",
       "  <tbody>\n",
       "    <tr>\n",
       "      <th>8916</th>\n",
       "      <td>Macon</td>\n",
       "      <td>Steak</td>\n",
       "    </tr>\n",
       "    <tr>\n",
       "      <th>8917</th>\n",
       "      <td>Macon</td>\n",
       "      <td>European, Italian, Mediterranean</td>\n",
       "    </tr>\n",
       "    <tr>\n",
       "      <th>9085</th>\n",
       "      <td>Macon</td>\n",
       "      <td>NaN</td>\n",
       "    </tr>\n",
       "    <tr>\n",
       "      <th>9086</th>\n",
       "      <td>Macon</td>\n",
       "      <td>American, Seafood</td>\n",
       "    </tr>\n",
       "    <tr>\n",
       "      <th>9087</th>\n",
       "      <td>Macon</td>\n",
       "      <td>Japanese, Steak, Sushi</td>\n",
       "    </tr>\n",
       "    <tr>\n",
       "      <th>9293</th>\n",
       "      <td>Macon</td>\n",
       "      <td>Coffee and Tea, Cuban, Latin American</td>\n",
       "    </tr>\n",
       "    <tr>\n",
       "      <th>9294</th>\n",
       "      <td>Macon</td>\n",
       "      <td>Seafood</td>\n",
       "    </tr>\n",
       "    <tr>\n",
       "      <th>9295</th>\n",
       "      <td>Macon</td>\n",
       "      <td>Chinese, Thai</td>\n",
       "    </tr>\n",
       "    <tr>\n",
       "      <th>9296</th>\n",
       "      <td>Macon</td>\n",
       "      <td>Burger, Desserts, Bar Food</td>\n",
       "    </tr>\n",
       "    <tr>\n",
       "      <th>9297</th>\n",
       "      <td>Macon</td>\n",
       "      <td>American, Chinese, Sushi</td>\n",
       "    </tr>\n",
       "    <tr>\n",
       "      <th>9298</th>\n",
       "      <td>Macon</td>\n",
       "      <td>Italian</td>\n",
       "    </tr>\n",
       "    <tr>\n",
       "      <th>9299</th>\n",
       "      <td>Macon</td>\n",
       "      <td>Pizza, Sandwich, Vegetarian</td>\n",
       "    </tr>\n",
       "    <tr>\n",
       "      <th>9300</th>\n",
       "      <td>Macon</td>\n",
       "      <td>American, Greek, Seafood</td>\n",
       "    </tr>\n",
       "    <tr>\n",
       "      <th>9301</th>\n",
       "      <td>Macon</td>\n",
       "      <td>BBQ</td>\n",
       "    </tr>\n",
       "    <tr>\n",
       "      <th>9475</th>\n",
       "      <td>Macon</td>\n",
       "      <td>Pizza, Sandwich</td>\n",
       "    </tr>\n",
       "    <tr>\n",
       "      <th>9476</th>\n",
       "      <td>Macon</td>\n",
       "      <td>Desserts, Greek, Sandwich</td>\n",
       "    </tr>\n",
       "    <tr>\n",
       "      <th>9477</th>\n",
       "      <td>Macon</td>\n",
       "      <td>Greek, Mediterranean, Vegetarian</td>\n",
       "    </tr>\n",
       "    <tr>\n",
       "      <th>9478</th>\n",
       "      <td>Macon</td>\n",
       "      <td>Japanese, Sushi, Thai</td>\n",
       "    </tr>\n",
       "    <tr>\n",
       "      <th>9479</th>\n",
       "      <td>Macon</td>\n",
       "      <td>Mexican</td>\n",
       "    </tr>\n",
       "    <tr>\n",
       "      <th>9480</th>\n",
       "      <td>Macon</td>\n",
       "      <td>Japanese, Sushi, Thai</td>\n",
       "    </tr>\n",
       "  </tbody>\n",
       "</table>\n",
       "</div>"
      ],
      "text/plain": [
       "       City                               Cuisines\n",
       "8916  Macon                                  Steak\n",
       "8917  Macon       European, Italian, Mediterranean\n",
       "9085  Macon                                    NaN\n",
       "9086  Macon                      American, Seafood\n",
       "9087  Macon                 Japanese, Steak, Sushi\n",
       "9293  Macon  Coffee and Tea, Cuban, Latin American\n",
       "9294  Macon                                Seafood\n",
       "9295  Macon                          Chinese, Thai\n",
       "9296  Macon             Burger, Desserts, Bar Food\n",
       "9297  Macon               American, Chinese, Sushi\n",
       "9298  Macon                                Italian\n",
       "9299  Macon            Pizza, Sandwich, Vegetarian\n",
       "9300  Macon               American, Greek, Seafood\n",
       "9301  Macon                                    BBQ\n",
       "9475  Macon                        Pizza, Sandwich\n",
       "9476  Macon              Desserts, Greek, Sandwich\n",
       "9477  Macon       Greek, Mediterranean, Vegetarian\n",
       "9478  Macon                  Japanese, Sushi, Thai\n",
       "9479  Macon                                Mexican\n",
       "9480  Macon                  Japanese, Sushi, Thai"
      ]
     },
     "execution_count": 43,
     "metadata": {},
     "output_type": "execute_result"
    }
   ],
   "source": [
    "# Checking the varieties of cuisines in 1 particular city to see the diversity, example: Macon\n",
    "df[df['City']=='Macon'][['City', 'Cuisines']]"
   ]
  },
  {
   "cell_type": "code",
   "execution_count": 45,
   "id": "ecd3e259",
   "metadata": {},
   "outputs": [],
   "source": [
    "# since there are only 9 records of cuisines with null values, we will replace the null values with 'Others'\n",
    "df['Cuisines'].fillna('Others',inplace=True)"
   ]
  },
  {
   "cell_type": "code",
   "execution_count": 46,
   "id": "16a1a4fe",
   "metadata": {},
   "outputs": [
    {
     "name": "stdout",
     "output_type": "stream",
     "text": [
      "<class 'pandas.core.frame.DataFrame'>\n",
      "RangeIndex: 9550 entries, 0 to 9549\n",
      "Data columns (total 20 columns):\n",
      " #   Column                Non-Null Count  Dtype  \n",
      "---  ------                --------------  -----  \n",
      " 0   Restaurant ID         9550 non-null   int64  \n",
      " 1   Restaurant Name       9550 non-null   object \n",
      " 2   Country Code          9550 non-null   int64  \n",
      " 3   City                  9550 non-null   object \n",
      " 4   Address               9550 non-null   object \n",
      " 5   Locality              9550 non-null   object \n",
      " 6   Locality Verbose      9550 non-null   object \n",
      " 7   Longitude             9550 non-null   float64\n",
      " 8   Latitude              9550 non-null   float64\n",
      " 9   Cuisines              9550 non-null   object \n",
      " 10  Average Cost for two  9550 non-null   int64  \n",
      " 11  Currency              9550 non-null   object \n",
      " 12  Has Table booking     9550 non-null   object \n",
      " 13  Has Online delivery   9550 non-null   object \n",
      " 14  Price range           9550 non-null   int64  \n",
      " 15  Aggregate rating      9550 non-null   float64\n",
      " 16  Rating color          9550 non-null   object \n",
      " 17  Rating text           9550 non-null   object \n",
      " 18  Votes                 9550 non-null   int64  \n",
      " 19  Country               9550 non-null   object \n",
      "dtypes: float64(3), int64(5), object(12)\n",
      "memory usage: 1.5+ MB\n"
     ]
    }
   ],
   "source": [
    "df.info()"
   ]
  },
  {
   "cell_type": "code",
   "execution_count": 47,
   "id": "cffd4a2f",
   "metadata": {},
   "outputs": [
    {
     "name": "stdout",
     "output_type": "stream",
     "text": [
      "Number of duplicate rows: 0\n"
     ]
    }
   ],
   "source": [
    "# Checking for duplicates\n",
    "duplicates = df.duplicated().sum()\n",
    "print(\"Number of duplicate rows:\", duplicates)"
   ]
  },
  {
   "cell_type": "markdown",
   "id": "1579474e",
   "metadata": {},
   "source": [
    "## EDA"
   ]
  },
  {
   "cell_type": "markdown",
   "id": "d2c1c2c6",
   "metadata": {},
   "source": [
    "#### 1. Explore the geographical distribution of the restaurants and identify the cities with the maximum and minimum number of restaurants"
   ]
  },
  {
   "cell_type": "code",
   "execution_count": 65,
   "id": "73711c96",
   "metadata": {},
   "outputs": [
    {
     "data": {
      "text/html": [
       "<div>\n",
       "<style scoped>\n",
       "    .dataframe tbody tr th:only-of-type {\n",
       "        vertical-align: middle;\n",
       "    }\n",
       "\n",
       "    .dataframe tbody tr th {\n",
       "        vertical-align: top;\n",
       "    }\n",
       "\n",
       "    .dataframe thead th {\n",
       "        text-align: right;\n",
       "    }\n",
       "</style>\n",
       "<table border=\"1\" class=\"dataframe\">\n",
       "  <thead>\n",
       "    <tr style=\"text-align: right;\">\n",
       "      <th></th>\n",
       "      <th>Country Code</th>\n",
       "      <th>Country</th>\n",
       "      <th>Count</th>\n",
       "    </tr>\n",
       "  </thead>\n",
       "  <tbody>\n",
       "    <tr>\n",
       "      <th>0</th>\n",
       "      <td>1</td>\n",
       "      <td>India</td>\n",
       "      <td>8651</td>\n",
       "    </tr>\n",
       "    <tr>\n",
       "      <th>1</th>\n",
       "      <td>216</td>\n",
       "      <td>United States</td>\n",
       "      <td>434</td>\n",
       "    </tr>\n",
       "    <tr>\n",
       "      <th>2</th>\n",
       "      <td>215</td>\n",
       "      <td>United Kingdom</td>\n",
       "      <td>80</td>\n",
       "    </tr>\n",
       "    <tr>\n",
       "      <th>3</th>\n",
       "      <td>30</td>\n",
       "      <td>Brazil</td>\n",
       "      <td>60</td>\n",
       "    </tr>\n",
       "    <tr>\n",
       "      <th>4</th>\n",
       "      <td>189</td>\n",
       "      <td>South Africa</td>\n",
       "      <td>60</td>\n",
       "    </tr>\n",
       "    <tr>\n",
       "      <th>5</th>\n",
       "      <td>214</td>\n",
       "      <td>UAE</td>\n",
       "      <td>60</td>\n",
       "    </tr>\n",
       "    <tr>\n",
       "      <th>6</th>\n",
       "      <td>148</td>\n",
       "      <td>New Zealand</td>\n",
       "      <td>40</td>\n",
       "    </tr>\n",
       "    <tr>\n",
       "      <th>7</th>\n",
       "      <td>208</td>\n",
       "      <td>Turkey</td>\n",
       "      <td>34</td>\n",
       "    </tr>\n",
       "    <tr>\n",
       "      <th>8</th>\n",
       "      <td>14</td>\n",
       "      <td>Australia</td>\n",
       "      <td>24</td>\n",
       "    </tr>\n",
       "    <tr>\n",
       "      <th>9</th>\n",
       "      <td>162</td>\n",
       "      <td>Phillipines</td>\n",
       "      <td>22</td>\n",
       "    </tr>\n",
       "    <tr>\n",
       "      <th>10</th>\n",
       "      <td>94</td>\n",
       "      <td>Indonesia</td>\n",
       "      <td>21</td>\n",
       "    </tr>\n",
       "    <tr>\n",
       "      <th>11</th>\n",
       "      <td>166</td>\n",
       "      <td>Qatar</td>\n",
       "      <td>20</td>\n",
       "    </tr>\n",
       "    <tr>\n",
       "      <th>12</th>\n",
       "      <td>184</td>\n",
       "      <td>Singapore</td>\n",
       "      <td>20</td>\n",
       "    </tr>\n",
       "    <tr>\n",
       "      <th>13</th>\n",
       "      <td>191</td>\n",
       "      <td>Sri Lanka</td>\n",
       "      <td>20</td>\n",
       "    </tr>\n",
       "    <tr>\n",
       "      <th>14</th>\n",
       "      <td>37</td>\n",
       "      <td>Canada</td>\n",
       "      <td>4</td>\n",
       "    </tr>\n",
       "  </tbody>\n",
       "</table>\n",
       "</div>"
      ],
      "text/plain": [
       "    Country Code         Country  Count\n",
       "0              1           India   8651\n",
       "1            216   United States    434\n",
       "2            215  United Kingdom     80\n",
       "3             30          Brazil     60\n",
       "4            189    South Africa     60\n",
       "5            214             UAE     60\n",
       "6            148     New Zealand     40\n",
       "7            208          Turkey     34\n",
       "8             14       Australia     24\n",
       "9            162     Phillipines     22\n",
       "10            94       Indonesia     21\n",
       "11           166           Qatar     20\n",
       "12           184       Singapore     20\n",
       "13           191       Sri Lanka     20\n",
       "14            37          Canada      4"
      ]
     },
     "execution_count": 65,
     "metadata": {},
     "output_type": "execute_result"
    }
   ],
   "source": [
    "# checking which distribution of restaurants across the countries\n",
    "country_counts = df.groupby(['Country Code','Country']).size().reset_index(name='Count')\n",
    "country_counts.sort_values(by='Count', ascending=False).reset_index(drop=True)"
   ]
  },
  {
   "cell_type": "code",
   "execution_count": 74,
   "id": "6e20a4ba",
   "metadata": {},
   "outputs": [
    {
     "name": "stdout",
     "output_type": "stream",
     "text": [
      "City with the maximum number of restaurants: New Delhi (5473 restaurants)\n",
      "City with the minimum number of restaurants: Phillip Island (1 restaurants)\n"
     ]
    }
   ],
   "source": [
    "# identifying the cities with the maximum and minimum number of restaurants\n",
    "city_counts = df['City'].value_counts()\n",
    "\n",
    "# Identify the city with the maximum number of restaurants\n",
    "max_city = city_counts.idxmax()\n",
    "max_count = city_counts.max()\n",
    "\n",
    "# Identify the city with the minimum number of restaurants\n",
    "min_city = city_counts.idxmin()\n",
    "min_count = city_counts.min()\n",
    "\n",
    "# Print the results\n",
    "print(f\"City with the maximum number of restaurants: {max_city} ({max_count} restaurants)\")\n",
    "print(f\"City with the minimum number of restaurants: {min_city} ({min_count} restaurants)\")\n"
   ]
  },
  {
   "cell_type": "markdown",
   "id": "305c2771",
   "metadata": {},
   "source": [
    "#### 2. Explore how ratings are distributed overall."
   ]
  },
  {
   "cell_type": "code",
   "execution_count": 75,
   "id": "800320a3",
   "metadata": {},
   "outputs": [
    {
     "data": {
      "text/html": [
       "<div>\n",
       "<style scoped>\n",
       "    .dataframe tbody tr th:only-of-type {\n",
       "        vertical-align: middle;\n",
       "    }\n",
       "\n",
       "    .dataframe tbody tr th {\n",
       "        vertical-align: top;\n",
       "    }\n",
       "\n",
       "    .dataframe thead th {\n",
       "        text-align: right;\n",
       "    }\n",
       "</style>\n",
       "<table border=\"1\" class=\"dataframe\">\n",
       "  <thead>\n",
       "    <tr style=\"text-align: right;\">\n",
       "      <th></th>\n",
       "      <th>Restaurant ID</th>\n",
       "      <th>Country Code</th>\n",
       "      <th>Longitude</th>\n",
       "      <th>Latitude</th>\n",
       "      <th>Average Cost for two</th>\n",
       "      <th>Price range</th>\n",
       "      <th>Aggregate rating</th>\n",
       "      <th>Votes</th>\n",
       "    </tr>\n",
       "  </thead>\n",
       "  <tbody>\n",
       "    <tr>\n",
       "      <th>count</th>\n",
       "      <td>9.550000e+03</td>\n",
       "      <td>9550.000000</td>\n",
       "      <td>9550.000000</td>\n",
       "      <td>9550.000000</td>\n",
       "      <td>9550.000000</td>\n",
       "      <td>9550.000000</td>\n",
       "      <td>9550.000000</td>\n",
       "      <td>9550.000000</td>\n",
       "    </tr>\n",
       "    <tr>\n",
       "      <th>mean</th>\n",
       "      <td>9.052064e+06</td>\n",
       "      <td>18.367435</td>\n",
       "      <td>64.125697</td>\n",
       "      <td>25.854675</td>\n",
       "      <td>1199.252565</td>\n",
       "      <td>1.804712</td>\n",
       "      <td>2.666220</td>\n",
       "      <td>156.845654</td>\n",
       "    </tr>\n",
       "    <tr>\n",
       "      <th>std</th>\n",
       "      <td>8.791506e+06</td>\n",
       "      <td>56.753239</td>\n",
       "      <td>41.469140</td>\n",
       "      <td>11.008474</td>\n",
       "      <td>16122.026663</td>\n",
       "      <td>0.905574</td>\n",
       "      <td>1.516386</td>\n",
       "      <td>430.146060</td>\n",
       "    </tr>\n",
       "    <tr>\n",
       "      <th>min</th>\n",
       "      <td>5.300000e+01</td>\n",
       "      <td>1.000000</td>\n",
       "      <td>-157.948486</td>\n",
       "      <td>-41.330428</td>\n",
       "      <td>0.000000</td>\n",
       "      <td>1.000000</td>\n",
       "      <td>0.000000</td>\n",
       "      <td>0.000000</td>\n",
       "    </tr>\n",
       "    <tr>\n",
       "      <th>25%</th>\n",
       "      <td>3.019902e+05</td>\n",
       "      <td>1.000000</td>\n",
       "      <td>77.081380</td>\n",
       "      <td>28.478745</td>\n",
       "      <td>250.000000</td>\n",
       "      <td>1.000000</td>\n",
       "      <td>2.500000</td>\n",
       "      <td>5.000000</td>\n",
       "    </tr>\n",
       "    <tr>\n",
       "      <th>50%</th>\n",
       "      <td>6.004248e+06</td>\n",
       "      <td>1.000000</td>\n",
       "      <td>77.191964</td>\n",
       "      <td>28.570470</td>\n",
       "      <td>400.000000</td>\n",
       "      <td>2.000000</td>\n",
       "      <td>3.200000</td>\n",
       "      <td>31.000000</td>\n",
       "    </tr>\n",
       "    <tr>\n",
       "      <th>75%</th>\n",
       "      <td>1.835229e+07</td>\n",
       "      <td>1.000000</td>\n",
       "      <td>77.282012</td>\n",
       "      <td>28.642760</td>\n",
       "      <td>700.000000</td>\n",
       "      <td>2.000000</td>\n",
       "      <td>3.700000</td>\n",
       "      <td>131.000000</td>\n",
       "    </tr>\n",
       "    <tr>\n",
       "      <th>max</th>\n",
       "      <td>1.850065e+07</td>\n",
       "      <td>216.000000</td>\n",
       "      <td>174.832089</td>\n",
       "      <td>55.976980</td>\n",
       "      <td>800000.000000</td>\n",
       "      <td>4.000000</td>\n",
       "      <td>4.900000</td>\n",
       "      <td>10934.000000</td>\n",
       "    </tr>\n",
       "  </tbody>\n",
       "</table>\n",
       "</div>"
      ],
      "text/plain": [
       "       Restaurant ID  Country Code    Longitude     Latitude  \\\n",
       "count   9.550000e+03   9550.000000  9550.000000  9550.000000   \n",
       "mean    9.052064e+06     18.367435    64.125697    25.854675   \n",
       "std     8.791506e+06     56.753239    41.469140    11.008474   \n",
       "min     5.300000e+01      1.000000  -157.948486   -41.330428   \n",
       "25%     3.019902e+05      1.000000    77.081380    28.478745   \n",
       "50%     6.004248e+06      1.000000    77.191964    28.570470   \n",
       "75%     1.835229e+07      1.000000    77.282012    28.642760   \n",
       "max     1.850065e+07    216.000000   174.832089    55.976980   \n",
       "\n",
       "       Average Cost for two  Price range  Aggregate rating         Votes  \n",
       "count           9550.000000  9550.000000       9550.000000   9550.000000  \n",
       "mean            1199.252565     1.804712          2.666220    156.845654  \n",
       "std            16122.026663     0.905574          1.516386    430.146060  \n",
       "min                0.000000     1.000000          0.000000      0.000000  \n",
       "25%              250.000000     1.000000          2.500000      5.000000  \n",
       "50%              400.000000     2.000000          3.200000     31.000000  \n",
       "75%              700.000000     2.000000          3.700000    131.000000  \n",
       "max           800000.000000     4.000000          4.900000  10934.000000  "
      ]
     },
     "execution_count": 75,
     "metadata": {},
     "output_type": "execute_result"
    }
   ],
   "source": [
    "df.describe()"
   ]
  },
  {
   "cell_type": "code",
   "execution_count": 84,
   "id": "3b2ff8f2",
   "metadata": {},
   "outputs": [
    {
     "data": {
      "text/plain": [
       "0.0    2148\n",
       "1.8       1\n",
       "1.9       2\n",
       "2.0       7\n",
       "2.1      15\n",
       "2.2      27\n",
       "2.3      47\n",
       "2.4      87\n",
       "2.5     110\n",
       "2.6     191\n",
       "2.7     250\n",
       "2.8     315\n",
       "2.9     381\n",
       "3.0     468\n",
       "3.1     519\n",
       "3.2     522\n",
       "3.3     483\n",
       "3.4     498\n",
       "3.5     480\n",
       "3.6     458\n",
       "3.7     427\n",
       "3.8     400\n",
       "3.9     335\n",
       "4.0     266\n",
       "4.1     273\n",
       "4.2     221\n",
       "4.3     174\n",
       "4.4     144\n",
       "4.5      95\n",
       "4.6      78\n",
       "4.7      42\n",
       "4.8      25\n",
       "4.9      61\n",
       "Name: Aggregate rating, dtype: int64"
      ]
     },
     "execution_count": 84,
     "metadata": {},
     "output_type": "execute_result"
    }
   ],
   "source": [
    "df['Aggregate rating'].value_counts().sort_index()"
   ]
  },
  {
   "cell_type": "code",
   "execution_count": 92,
   "id": "888359c9",
   "metadata": {},
   "outputs": [
    {
     "data": {
      "image/png": "[encoded data removed]",
      "text/plain": [
       "<Figure size 1000x600 with 1 Axes>"
      ]
     },
     "metadata": {},
     "output_type": "display_data"
    }
   ],
   "source": [
    "# Plot the distribution of ratings\n",
    "plt.figure(figsize=(10, 6))\n",
    "\n",
    "# Plot a histogram\n",
    "sns.histplot(df['Aggregate rating'], bins=range(0, 6), kde=True, color='skyblue')\n",
    "\n",
    "# Customize the plot\n",
    "plt.title('Distribution of Aggregate Ratings')\n",
    "plt.xlabel('Aggregate Rating')\n",
    "plt.ylabel('Number of Restaurants')\n",
    "plt.xticks(range(0, 6))  # Assuming ratings are between 1 and 5\n",
    "plt.grid(True)\n",
    "\n",
    "# Show the plot\n",
    "plt.show()"
   ]
  },
  {
   "cell_type": "code",
   "execution_count": 104,
   "id": "712245a0",
   "metadata": {},
   "outputs": [
    {
     "data": {
      "text/html": [
       "<div>\n",
       "<style scoped>\n",
       "    .dataframe tbody tr th:only-of-type {\n",
       "        vertical-align: middle;\n",
       "    }\n",
       "\n",
       "    .dataframe tbody tr th {\n",
       "        vertical-align: top;\n",
       "    }\n",
       "\n",
       "    .dataframe thead th {\n",
       "        text-align: right;\n",
       "    }\n",
       "</style>\n",
       "<table border=\"1\" class=\"dataframe\">\n",
       "  <thead>\n",
       "    <tr style=\"text-align: right;\">\n",
       "      <th></th>\n",
       "      <th>Country Code</th>\n",
       "      <th>Country_highest</th>\n",
       "      <th>City</th>\n",
       "      <th>Restaurant Name_lowest</th>\n",
       "      <th>Aggregate rating_lowest</th>\n",
       "      <th>Restaurant Name_highest</th>\n",
       "      <th>Aggregate rating_highest</th>\n",
       "    </tr>\n",
       "  </thead>\n",
       "  <tbody>\n",
       "    <tr>\n",
       "      <th>0</th>\n",
       "      <td>1</td>\n",
       "      <td>India</td>\n",
       "      <td>Agra</td>\n",
       "      <td>The Charcoal Chimney</td>\n",
       "      <td>3.4</td>\n",
       "      <td>Sheroes Hangout</td>\n",
       "      <td>4.9</td>\n",
       "    </tr>\n",
       "    <tr>\n",
       "      <th>1</th>\n",
       "      <td>1</td>\n",
       "      <td>India</td>\n",
       "      <td>Ahmedabad</td>\n",
       "      <td>MoMo CafÌ© - Courtyard By Marriott</td>\n",
       "      <td>3.6</td>\n",
       "      <td>Cryo Lab</td>\n",
       "      <td>4.6</td>\n",
       "    </tr>\n",
       "    <tr>\n",
       "      <th>2</th>\n",
       "      <td>1</td>\n",
       "      <td>India</td>\n",
       "      <td>Allahabad</td>\n",
       "      <td>Tandoor Restaurant</td>\n",
       "      <td>3.2</td>\n",
       "      <td>Eat On</td>\n",
       "      <td>3.7</td>\n",
       "    </tr>\n",
       "    <tr>\n",
       "      <th>3</th>\n",
       "      <td>1</td>\n",
       "      <td>India</td>\n",
       "      <td>Amritsar</td>\n",
       "      <td>Bon Gateau</td>\n",
       "      <td>3.4</td>\n",
       "      <td>Kesar Da Dhabha</td>\n",
       "      <td>4.1</td>\n",
       "    </tr>\n",
       "    <tr>\n",
       "      <th>4</th>\n",
       "      <td>1</td>\n",
       "      <td>India</td>\n",
       "      <td>Aurangabad</td>\n",
       "      <td>Domino's Pizza</td>\n",
       "      <td>3.1</td>\n",
       "      <td>Bhoj Restaurant</td>\n",
       "      <td>3.7</td>\n",
       "    </tr>\n",
       "    <tr>\n",
       "      <th>...</th>\n",
       "      <td>...</td>\n",
       "      <td>...</td>\n",
       "      <td>...</td>\n",
       "      <td>...</td>\n",
       "      <td>...</td>\n",
       "      <td>...</td>\n",
       "      <td>...</td>\n",
       "    </tr>\n",
       "    <tr>\n",
       "      <th>136</th>\n",
       "      <td>216</td>\n",
       "      <td>United States</td>\n",
       "      <td>Valdosta</td>\n",
       "      <td>El Toreo Mexican Restaurant</td>\n",
       "      <td>3.1</td>\n",
       "      <td>Smok'n Pig B-B-Q</td>\n",
       "      <td>4.1</td>\n",
       "    </tr>\n",
       "    <tr>\n",
       "      <th>137</th>\n",
       "      <td>216</td>\n",
       "      <td>United States</td>\n",
       "      <td>Vernonia</td>\n",
       "      <td>Blue House Cafe</td>\n",
       "      <td>4.3</td>\n",
       "      <td>Blue House Cafe</td>\n",
       "      <td>4.3</td>\n",
       "    </tr>\n",
       "    <tr>\n",
       "      <th>138</th>\n",
       "      <td>216</td>\n",
       "      <td>United States</td>\n",
       "      <td>Waterloo</td>\n",
       "      <td>Masala Grill &amp; Coffee House</td>\n",
       "      <td>3.2</td>\n",
       "      <td>Tokyo Japanese Steak House</td>\n",
       "      <td>3.9</td>\n",
       "    </tr>\n",
       "    <tr>\n",
       "      <th>139</th>\n",
       "      <td>216</td>\n",
       "      <td>United States</td>\n",
       "      <td>Weirton</td>\n",
       "      <td>Theo Yianni's Authentic Greek Restaurant</td>\n",
       "      <td>3.9</td>\n",
       "      <td>Theo Yianni's Authentic Greek Restaurant</td>\n",
       "      <td>3.9</td>\n",
       "    </tr>\n",
       "    <tr>\n",
       "      <th>140</th>\n",
       "      <td>216</td>\n",
       "      <td>United States</td>\n",
       "      <td>Winchester Bay</td>\n",
       "      <td>Fishpatrick's Crabby Cafe</td>\n",
       "      <td>3.2</td>\n",
       "      <td>Fishpatrick's Crabby Cafe</td>\n",
       "      <td>3.2</td>\n",
       "    </tr>\n",
       "  </tbody>\n",
       "</table>\n",
       "<p>141 rows × 7 columns</p>\n",
       "</div>"
      ],
      "text/plain": [
       "     Country Code Country_highest            City  \\\n",
       "0               1           India            Agra   \n",
       "1               1           India       Ahmedabad   \n",
       "2               1           India       Allahabad   \n",
       "3               1           India        Amritsar   \n",
       "4               1           India      Aurangabad   \n",
       "..            ...             ...             ...   \n",
       "136           216   United States        Valdosta   \n",
       "137           216   United States        Vernonia   \n",
       "138           216   United States        Waterloo   \n",
       "139           216   United States         Weirton   \n",
       "140           216   United States  Winchester Bay   \n",
       "\n",
       "                       Restaurant Name_lowest  Aggregate rating_lowest  \\\n",
       "0                        The Charcoal Chimney                      3.4   \n",
       "1          MoMo CafÌ© - Courtyard By Marriott                      3.6   \n",
       "2                          Tandoor Restaurant                      3.2   \n",
       "3                                  Bon Gateau                      3.4   \n",
       "4                              Domino's Pizza                      3.1   \n",
       "..                                        ...                      ...   \n",
       "136               El Toreo Mexican Restaurant                      3.1   \n",
       "137                           Blue House Cafe                      4.3   \n",
       "138               Masala Grill & Coffee House                      3.2   \n",
       "139  Theo Yianni's Authentic Greek Restaurant                      3.9   \n",
       "140                 Fishpatrick's Crabby Cafe                      3.2   \n",
       "\n",
       "                      Restaurant Name_highest  Aggregate rating_highest  \n",
       "0                             Sheroes Hangout                       4.9  \n",
       "1                                    Cryo Lab                       4.6  \n",
       "2                                      Eat On                       3.7  \n",
       "3                             Kesar Da Dhabha                       4.1  \n",
       "4                             Bhoj Restaurant                       3.7  \n",
       "..                                        ...                       ...  \n",
       "136                          Smok'n Pig B-B-Q                       4.1  \n",
       "137                           Blue House Cafe                       4.3  \n",
       "138                Tokyo Japanese Steak House                       3.9  \n",
       "139  Theo Yianni's Authentic Greek Restaurant                       3.9  \n",
       "140                 Fishpatrick's Crabby Cafe                       3.2  \n",
       "\n",
       "[141 rows x 7 columns]"
      ]
     },
     "execution_count": 104,
     "metadata": {},
     "output_type": "execute_result"
    }
   ],
   "source": [
    "# Evaluating the Highest Rated and Lowest Rated Restaurant of the City in all the countries.\n",
    "# Sort the DataFrame by 'Country Code', 'City', and 'Aggregate rating'\n",
    "df_sorted = df.sort_values(by=['Country Code', 'City', 'Aggregate rating'], ascending=[True, True, False])\n",
    "\n",
    "# Group by 'Country Code' and 'City'\n",
    "highest_rated = df_sorted.groupby(['Country Code', 'City']).first().reset_index()\n",
    "lowest_rated = df_sorted.groupby(['Country Code', 'City']).last().reset_index()\n",
    "\n",
    "# Merge the highest and lowest rated DataFrames\n",
    "highest_lowest_rated_df = highest_rated.merge(lowest_rated, on=['Country Code', 'City'], suffixes=('_highest', '_lowest'))\n",
    "\n",
    "\n",
    "highest_lowest_rated_df[['Country Code', 'Country_highest', 'City','Restaurant Name_lowest', 'Aggregate rating_lowest', 'Restaurant Name_highest', 'Aggregate rating_highest']]"
   ]
  },
  {
   "cell_type": "markdown",
   "id": "540c30d4",
   "metadata": {},
   "source": [
    "#### Restaurant franchising is a thriving venture. So, it is very important to explore the franchise with most national presence"
   ]
  },
  {
   "cell_type": "markdown",
   "id": "4ae5aafa",
   "metadata": {},
   "source": [
    "##### Given that India and the USA have the highest number of restaurants in our dataset, we will analyze the distribution of restaurant ratings specifically for these two countries."
   ]
  },
  {
   "cell_type": "code",
   "execution_count": 162,
   "id": "fd67c779",
   "metadata": {},
   "outputs": [
    {
     "data": {
      "text/html": [
       "        <script type=\"text/javascript\">\n",
       "        window.PlotlyConfig = {MathJaxConfig: 'local'};\n",
       "        if (window.MathJax && window.MathJax.Hub && window.MathJax.Hub.Config) {window.MathJax.Hub.Config({SVG: {font: \"STIX-Web\"}});}\n",
       "        if (typeof require !== 'undefined') {\n",
       "        require.undef(\"plotly\");\n",
       "        requirejs.config({\n",
       "            paths: {\n",
       "                'plotly': ['https://cdn.plot.ly/plotly-2.12.1.min']\n",
       "            }\n",
       "        });\n",
       "        require(['plotly'], function(Plotly) {\n",
       "            window._Plotly = Plotly;\n",
       "        });\n",
       "        }\n",
       "        </script>\n",
       "        "
      ]
     },
     "metadata": {},
     "output_type": "display_data"
    },
    {
     "data": {
      "application/vnd.plotly.v1+json": {
       "config": {
        "linkText": "Export to plot.ly",
        "plotlyServerURL": "https://plot.ly",
        "showLink": false
       },
       "data": [
        {
         "hovertemplate": "Restaurant: %{text}<br>Rating: %{y}<br>City: %{x}<extra></extra>",
         "marker": {
          "color": "blue"
         },
         "name": "Highest Rated Restaurants",
         "text": [
          "Sheroes Hangout",
          "Cryo Lab",
          "Eat On",
          "Kesar Da Dhabha",
          "Bhoj Restaurant",
          "Toit",
          "Sagar Gaire Fast Food",
          "Barbeque Nation",
          "Barbeque Nation",
          "AB's - Absolute Barbecues",
          "CakeBee",
          "The Great Indian Pub",
          "Cafe Parmesan",
          "Mr. Brown",
          "Burger Factory",
          "Caterspoint",
          "Barbeque Nation",
          "AB's - Absolute Barbecues",
          "Square - Sayaji Hotel",
          "Zolocrust - Hotel Clarks Amer",
          "Dhuaan",
          "Nawras Seafood Restaurant",
          "Barbeque Nation",
          "Grandson of Tunday Kababi",
          "Aman Chicken",
          "Giri Manja's",
          "The Shooters Cafe",
          "Mirchi And Mime",
          "Vinayaka Mylari",
          "Barbeque Nation",
          "Sadhana Restaurant",
          "Masala Library",
          "The Big Chill Cakery",
          "Hops n Grains",
          "Spice Court - Hotel Maurya",
          "Zuka Choco-la",
          "Le Plaisir",
          "Kaveri Restaurant And Caterers",
          "Coffee Cup",
          "Falafel Lovers",
          "La Quello - Mediterranean Kitchen",
          "Kashi Chat Bhandar",
          "Barbeque Nation"
         ],
         "textposition": "auto",
         "type": "bar",
         "x": [
          "Agra",
          "Ahmedabad",
          "Allahabad",
          "Amritsar",
          "Aurangabad",
          "Bangalore",
          "Bhopal",
          "Bhubaneshwar",
          "Chandigarh",
          "Chennai",
          "Coimbatore",
          "Dehradun",
          "Faridabad",
          "Ghaziabad",
          "Goa",
          "Gurgaon",
          "Guwahati",
          "Hyderabad",
          "Indore",
          "Jaipur",
          "Kanpur",
          "Kochi",
          "Kolkata",
          "Lucknow",
          "Ludhiana",
          "Mangalore",
          "Mohali",
          "Mumbai",
          "Mysore",
          "Nagpur",
          "Nashik",
          "New Delhi",
          "Noida",
          "Panchkula",
          "Patna",
          "Puducherry",
          "Pune",
          "Ranchi",
          "Secunderabad",
          "Surat",
          "Vadodara",
          "Varanasi",
          "Vizag"
         ],
         "y": [
          4.9,
          4.6,
          3.7,
          4.1,
          3.7,
          4.8,
          4.9,
          4.6,
          4.5,
          4.9,
          4.9,
          4.9,
          4.5,
          3.9,
          4.8,
          4.9,
          4.9,
          4.9,
          4.3,
          4.9,
          4.3,
          4.6,
          4.9,
          4.9,
          4.6,
          4.2,
          4.3,
          4.9,
          4.2,
          4.9,
          3.9,
          4.9,
          4.5,
          4.2,
          3.7,
          4.2,
          4.8,
          4,
          4.6,
          4.3,
          4.6,
          4.1,
          4.9
         ]
        },
        {
         "hovertemplate": "Restaurant: %{text}<br>Rating: %{y}<br>City: %{x}<extra></extra>",
         "marker": {
          "color": "red"
         },
         "name": "Lowest Rated Restaurants",
         "text": [
          "The Charcoal Chimney",
          "MoMo CafÌ© - Courtyard By Marriott",
          "Tandoor Restaurant",
          "Bon Gateau",
          "Domino's Pizza",
          "Three Dots & A Dash",
          "Black N White Cafe",
          "Eram Rooftop",
          "Karim's",
          "Haunted",
          "Zucca Pizzeria",
          "The Punjabi Essence Restaurant",
          "Shankar Sweets",
          "The Big Scoop",
          "Curlies",
          "Aggarwal Sweets & Restaurant",
          "4 Seasons",
          "The Fisherman's Wharf",
          "Freito",
          "Sky Beach",
          "Hucka",
          "Ali Baba & 41 Dishes",
          "Mocambo",
          "Chemistry CafÌ©",
          "Spice Cube",
          "Smoke N Oven",
          "The Shooters Cafe",
          "The American Joint",
          "The Barge Restaurant",
          "KFC",
          "Little Italy",
          "Sweets n Treats",
          "Indian Special Hot Momos",
          "Hops n Grains",
          "Roti Restaurant",
          "Le Cafe",
          "Teddy Boy",
          "Jungli Moon Dance Restaurant",
          "Saffron Mantra",
          "Global Local",
          "El Amigos Kitchen",
          "3Cherryz Sky Lounge & Cafe",
          "My Restaurant"
         ],
         "textposition": "auto",
         "type": "bar",
         "x": [
          "Agra",
          "Ahmedabad",
          "Allahabad",
          "Amritsar",
          "Aurangabad",
          "Bangalore",
          "Bhopal",
          "Bhubaneshwar",
          "Chandigarh",
          "Chennai",
          "Coimbatore",
          "Dehradun",
          "Faridabad",
          "Ghaziabad",
          "Goa",
          "Gurgaon",
          "Guwahati",
          "Hyderabad",
          "Indore",
          "Jaipur",
          "Kanpur",
          "Kochi",
          "Kolkata",
          "Lucknow",
          "Ludhiana",
          "Mangalore",
          "Mohali",
          "Mumbai",
          "Mysore",
          "Nagpur",
          "Nashik",
          "New Delhi",
          "Noida",
          "Panchkula",
          "Patna",
          "Puducherry",
          "Pune",
          "Ranchi",
          "Secunderabad",
          "Surat",
          "Vadodara",
          "Varanasi",
          "Vizag"
         ],
         "y": [
          3.4,
          3.6,
          3.2,
          3.4,
          3.1,
          3.9,
          3.3,
          3.5,
          3.3,
          3.8,
          3.5,
          3.6,
          0,
          0,
          3.5,
          0,
          3.6,
          3.8,
          3.1,
          2.6,
          3.3,
          3.5,
          3.5,
          3.5,
          3.5,
          3.5,
          4.3,
          3.4,
          3.3,
          2.2,
          3,
          0,
          0,
          4.2,
          3.1,
          3.1,
          3.6,
          3.1,
          4.4,
          3.4,
          3.5,
          3.2,
          3.5
         ]
        }
       ],
       "layout": {
        "barmode": "group",
        "legend": {
         "bgcolor": "#E2E2E2",
         "bordercolor": "#FFFFFF",
         "borderwidth": 2,
         "font": {
          "color": "#000",
          "family": "sans-serif",
          "size": 12
         },
         "traceorder": "normal",
         "x": 0,
         "y": 1
        },
        "plot_bgcolor": "rgba(245, 246, 249, 1)",
        "template": {
         "data": {
          "bar": [
           {
            "error_x": {
             "color": "#2a3f5f"
            },
            "error_y": {
             "color": "#2a3f5f"
            },
            "marker": {
             "line": {
              "color": "#E5ECF6",
              "width": 0.5
             },
             "pattern": {
              "fillmode": "overlay",
              "size": 10,
              "solidity": 0.2
             }
            },
            "type": "bar"
           }
          ],
          "barpolar": [
           {
            "marker": {
             "line": {
              "color": "#E5ECF6",
              "width": 0.5
             },
             "pattern": {
              "fillmode": "overlay",
              "size": 10,
              "solidity": 0.2
             }
            },
            "type": "barpolar"
           }
          ],
          "carpet": [
           {
            "aaxis": {
             "endlinecolor": "#2a3f5f",
             "gridcolor": "white",
             "linecolor": "white",
             "minorgridcolor": "white",
             "startlinecolor": "#2a3f5f"
            },
            "baxis": {
             "endlinecolor": "#2a3f5f",
             "gridcolor": "white",
             "linecolor": "white",
             "minorgridcolor": "white",
             "startlinecolor": "#2a3f5f"
            },
            "type": "carpet"
           }
          ],
          "choropleth": [
           {
            "colorbar": {
             "outlinewidth": 0,
             "ticks": ""
            },
            "type": "choropleth"
           }
          ],
          "contour": [
           {
            "colorbar": {
             "outlinewidth": 0,
             "ticks": ""
            },
            "colorscale": [
             [
              0,
              "#0d0887"
             ],
             [
              0.1111111111111111,
              "#46039f"
             ],
             [
              0.2222222222222222,
              "#7201a8"
             ],
             [
              0.3333333333333333,
              "#9c179e"
             ],
             [
              0.4444444444444444,
              "#bd3786"
             ],
             [
              0.5555555555555556,
              "#d8576b"
             ],
             [
              0.6666666666666666,
              "#ed7953"
             ],
             [
              0.7777777777777778,
              "#fb9f3a"
             ],
             [
              0.8888888888888888,
              "#fdca26"
             ],
             [
              1,
              "#f0f921"
             ]
            ],
            "type": "contour"
           }
          ],
          "contourcarpet": [
           {
            "colorbar": {
             "outlinewidth": 0,
             "ticks": ""
            },
            "type": "contourcarpet"
           }
          ],
          "heatmap": [
           {
            "colorbar": {
             "outlinewidth": 0,
             "ticks": ""
            },
            "colorscale": [
             [
              0,
              "#0d0887"
             ],
             [
              0.1111111111111111,
              "#46039f"
             ],
             [
              0.2222222222222222,
              "#7201a8"
             ],
             [
              0.3333333333333333,
              "#9c179e"
             ],
             [
              0.4444444444444444,
              "#bd3786"
             ],
             [
              0.5555555555555556,
              "#d8576b"
             ],
             [
              0.6666666666666666,
              "#ed7953"
             ],
             [
              0.7777777777777778,
              "#fb9f3a"
             ],
             [
              0.8888888888888888,
              "#fdca26"
             ],
             [
              1,
              "#f0f921"
             ]
            ],
            "type": "heatmap"
           }
          ],
          "heatmapgl": [
           {
            "colorbar": {
             "outlinewidth": 0,
             "ticks": ""
            },
            "colorscale": [
             [
              0,
              "#0d0887"
             ],
             [
              0.1111111111111111,
              "#46039f"
             ],
             [
              0.2222222222222222,
              "#7201a8"
             ],
             [
              0.3333333333333333,
              "#9c179e"
             ],
             [
              0.4444444444444444,
              "#bd3786"
             ],
             [
              0.5555555555555556,
              "#d8576b"
             ],
             [
              0.6666666666666666,
              "#ed7953"
             ],
             [
              0.7777777777777778,
              "#fb9f3a"
             ],
             [
              0.8888888888888888,
              "#fdca26"
             ],
             [
              1,
              "#f0f921"
             ]
            ],
            "type": "heatmapgl"
           }
          ],
          "histogram": [
           {
            "marker": {
             "pattern": {
              "fillmode": "overlay",
              "size": 10,
              "solidity": 0.2
             }
            },
            "type": "histogram"
           }
          ],
          "histogram2d": [
           {
            "colorbar": {
             "outlinewidth": 0,
             "ticks": ""
            },
            "colorscale": [
             [
              0,
              "#0d0887"
             ],
             [
              0.1111111111111111,
              "#46039f"
             ],
             [
              0.2222222222222222,
              "#7201a8"
             ],
             [
              0.3333333333333333,
              "#9c179e"
             ],
             [
              0.4444444444444444,
              "#bd3786"
             ],
             [
              0.5555555555555556,
              "#d8576b"
             ],
             [
              0.6666666666666666,
              "#ed7953"
             ],
             [
              0.7777777777777778,
              "#fb9f3a"
             ],
             [
              0.8888888888888888,
              "#fdca26"
             ],
             [
              1,
              "#f0f921"
             ]
            ],
            "type": "histogram2d"
           }
          ],
          "histogram2dcontour": [
           {
            "colorbar": {
             "outlinewidth": 0,
             "ticks": ""
            },
            "colorscale": [
             [
              0,
              "#0d0887"
             ],
             [
              0.1111111111111111,
              "#46039f"
             ],
             [
              0.2222222222222222,
              "#7201a8"
             ],
             [
              0.3333333333333333,
              "#9c179e"
             ],
             [
              0.4444444444444444,
              "#bd3786"
             ],
             [
              0.5555555555555556,
              "#d8576b"
             ],
             [
              0.6666666666666666,
              "#ed7953"
             ],
             [
              0.7777777777777778,
              "#fb9f3a"
             ],
             [
              0.8888888888888888,
              "#fdca26"
             ],
             [
              1,
              "#f0f921"
             ]
            ],
            "type": "histogram2dcontour"
           }
          ],
          "mesh3d": [
           {
            "colorbar": {
             "outlinewidth": 0,
             "ticks": ""
            },
            "type": "mesh3d"
           }
          ],
          "parcoords": [
           {
            "line": {
             "colorbar": {
              "outlinewidth": 0,
              "ticks": ""
             }
            },
            "type": "parcoords"
           }
          ],
          "pie": [
           {
            "automargin": true,
            "type": "pie"
           }
          ],
          "scatter": [
           {
            "fillpattern": {
             "fillmode": "overlay",
             "size": 10,
             "solidity": 0.2
            },
            "type": "scatter"
           }
          ],
          "scatter3d": [
           {
            "line": {
             "colorbar": {
              "outlinewidth": 0,
              "ticks": ""
             }
            },
            "marker": {
             "colorbar": {
              "outlinewidth": 0,
              "ticks": ""
             }
            },
            "type": "scatter3d"
           }
          ],
          "scattercarpet": [
           {
            "marker": {
             "colorbar": {
              "outlinewidth": 0,
              "ticks": ""
             }
            },
            "type": "scattercarpet"
           }
          ],
          "scattergeo": [
           {
            "marker": {
             "colorbar": {
              "outlinewidth": 0,
              "ticks": ""
             }
            },
            "type": "scattergeo"
           }
          ],
          "scattergl": [
           {
            "marker": {
             "colorbar": {
              "outlinewidth": 0,
              "ticks": ""
             }
            },
            "type": "scattergl"
           }
          ],
          "scattermapbox": [
           {
            "marker": {
             "colorbar": {
              "outlinewidth": 0,
              "ticks": ""
             }
            },
            "type": "scattermapbox"
           }
          ],
          "scatterpolar": [
           {
            "marker": {
             "colorbar": {
              "outlinewidth": 0,
              "ticks": ""
             }
            },
            "type": "scatterpolar"
           }
          ],
          "scatterpolargl": [
           {
            "marker": {
             "colorbar": {
              "outlinewidth": 0,
              "ticks": ""
             }
            },
            "type": "scatterpolargl"
           }
          ],
          "scatterternary": [
           {
            "marker": {
             "colorbar": {
              "outlinewidth": 0,
              "ticks": ""
             }
            },
            "type": "scatterternary"
           }
          ],
          "surface": [
           {
            "colorbar": {
             "outlinewidth": 0,
             "ticks": ""
            },
            "colorscale": [
             [
              0,
              "#0d0887"
             ],
             [
              0.1111111111111111,
              "#46039f"
             ],
             [
              0.2222222222222222,
              "#7201a8"
             ],
             [
              0.3333333333333333,
              "#9c179e"
             ],
             [
              0.4444444444444444,
              "#bd3786"
             ],
             [
              0.5555555555555556,
              "#d8576b"
             ],
             [
              0.6666666666666666,
              "#ed7953"
             ],
             [
              0.7777777777777778,
              "#fb9f3a"
             ],
             [
              0.8888888888888888,
              "#fdca26"
             ],
             [
              1,
              "#f0f921"
             ]
            ],
            "type": "surface"
           }
          ],
          "table": [
           {
            "cells": {
             "fill": {
              "color": "#EBF0F8"
             },
             "line": {
              "color": "white"
             }
            },
            "header": {
             "fill": {
              "color": "#C8D4E3"
             },
             "line": {
              "color": "white"
             }
            },
            "type": "table"
           }
          ]
         },
         "layout": {
          "annotationdefaults": {
           "arrowcolor": "#2a3f5f",
           "arrowhead": 0,
           "arrowwidth": 1
          },
          "autotypenumbers": "strict",
          "coloraxis": {
           "colorbar": {
            "outlinewidth": 0,
            "ticks": ""
           }
          },
          "colorscale": {
           "diverging": [
            [
             0,
             "#8e0152"
            ],
            [
             0.1,
             "#c51b7d"
            ],
            [
             0.2,
             "#de77ae"
            ],
            [
             0.3,
             "#f1b6da"
            ],
            [
             0.4,
             "#fde0ef"
            ],
            [
             0.5,
             "#f7f7f7"
            ],
            [
             0.6,
             "#e6f5d0"
            ],
            [
             0.7,
             "#b8e186"
            ],
            [
             0.8,
             "#7fbc41"
            ],
            [
             0.9,
             "#4d9221"
            ],
            [
             1,
             "#276419"
            ]
           ],
           "sequential": [
            [
             0,
             "#0d0887"
            ],
            [
             0.1111111111111111,
             "#46039f"
            ],
            [
             0.2222222222222222,
             "#7201a8"
            ],
            [
             0.3333333333333333,
             "#9c179e"
            ],
            [
             0.4444444444444444,
             "#bd3786"
            ],
            [
             0.5555555555555556,
             "#d8576b"
            ],
            [
             0.6666666666666666,
             "#ed7953"
            ],
            [
             0.7777777777777778,
             "#fb9f3a"
            ],
            [
             0.8888888888888888,
             "#fdca26"
            ],
            [
             1,
             "#f0f921"
            ]
           ],
           "sequentialminus": [
            [
             0,
             "#0d0887"
            ],
            [
             0.1111111111111111,
             "#46039f"
            ],
            [
             0.2222222222222222,
             "#7201a8"
            ],
            [
             0.3333333333333333,
             "#9c179e"
            ],
            [
             0.4444444444444444,
             "#bd3786"
            ],
            [
             0.5555555555555556,
             "#d8576b"
            ],
            [
             0.6666666666666666,
             "#ed7953"
            ],
            [
             0.7777777777777778,
             "#fb9f3a"
            ],
            [
             0.8888888888888888,
             "#fdca26"
            ],
            [
             1,
             "#f0f921"
            ]
           ]
          },
          "colorway": [
           "#636efa",
           "#EF553B",
           "#00cc96",
           "#ab63fa",
           "#FFA15A",
           "#19d3f3",
           "#FF6692",
           "#B6E880",
           "#FF97FF",
           "#FECB52"
          ],
          "font": {
           "color": "#2a3f5f"
          },
          "geo": {
           "bgcolor": "white",
           "lakecolor": "white",
           "landcolor": "#E5ECF6",
           "showlakes": true,
           "showland": true,
           "subunitcolor": "white"
          },
          "hoverlabel": {
           "align": "left"
          },
          "hovermode": "closest",
          "mapbox": {
           "style": "light"
          },
          "paper_bgcolor": "white",
          "plot_bgcolor": "#E5ECF6",
          "polar": {
           "angularaxis": {
            "gridcolor": "white",
            "linecolor": "white",
            "ticks": ""
           },
           "bgcolor": "#E5ECF6",
           "radialaxis": {
            "gridcolor": "white",
            "linecolor": "white",
            "ticks": ""
           }
          },
          "scene": {
           "xaxis": {
            "backgroundcolor": "#E5ECF6",
            "gridcolor": "white",
            "gridwidth": 2,
            "linecolor": "white",
            "showbackground": true,
            "ticks": "",
            "zerolinecolor": "white"
           },
           "yaxis": {
            "backgroundcolor": "#E5ECF6",
            "gridcolor": "white",
            "gridwidth": 2,
            "linecolor": "white",
            "showbackground": true,
            "ticks": "",
            "zerolinecolor": "white"
           },
           "zaxis": {
            "backgroundcolor": "#E5ECF6",
            "gridcolor": "white",
            "gridwidth": 2,
            "linecolor": "white",
            "showbackground": true,
            "ticks": "",
            "zerolinecolor": "white"
           }
          },
          "shapedefaults": {
           "line": {
            "color": "#2a3f5f"
           }
          },
          "ternary": {
           "aaxis": {
            "gridcolor": "white",
            "linecolor": "white",
            "ticks": ""
           },
           "baxis": {
            "gridcolor": "white",
            "linecolor": "white",
            "ticks": ""
           },
           "bgcolor": "#E5ECF6",
           "caxis": {
            "gridcolor": "white",
            "linecolor": "white",
            "ticks": ""
           }
          },
          "title": {
           "x": 0.05
          },
          "xaxis": {
           "automargin": true,
           "gridcolor": "white",
           "linecolor": "white",
           "ticks": "",
           "title": {
            "standoff": 15
           },
           "zerolinecolor": "white",
           "zerolinewidth": 2
          },
          "yaxis": {
           "automargin": true,
           "gridcolor": "white",
           "linecolor": "white",
           "ticks": "",
           "title": {
            "standoff": 15
           },
           "zerolinecolor": "white",
           "zerolinewidth": 2
          }
         }
        },
        "title": {
         "text": "Highest and Lowest Rated Restaurants in India by City"
        },
        "xaxis": {
         "tickangle": -45,
         "title": {
          "text": "City"
         }
        },
        "yaxis": {
         "range": [
          0,
          5
         ],
         "title": {
          "text": "Aggregate Rating"
         }
        }
       }
      },
      "text/html": [
       "<div>                            <div id=\"71279bd0-461f-42bc-8b69-96ea8eaad5cb\" class=\"plotly-graph-div\" style=\"height:525px; width:100%;\"></div>            <script type=\"text/javascript\">                require([\"plotly\"], function(Plotly) {                    window.PLOTLYENV=window.PLOTLYENV || {};                                    if (document.getElementById(\"71279bd0-461f-42bc-8b69-96ea8eaad5cb\")) {                    Plotly.newPlot(                        \"71279bd0-461f-42bc-8b69-96ea8eaad5cb\",                        [{\"hovertemplate\":\"Restaurant: %{text}<br>Rating: %{y}<br>City: %{x}<extra></extra>\",\"marker\":{\"color\":\"blue\"},\"name\":\"Highest Rated Restaurants\",\"text\":[\"Sheroes Hangout\",\"Cryo Lab\",\"Eat On\",\"Kesar Da Dhabha\",\"Bhoj Restaurant\",\"Toit\",\"Sagar Gaire Fast Food\",\"Barbeque Nation\",\"Barbeque Nation\",\"AB's - Absolute Barbecues\",\"CakeBee\",\"The Great Indian Pub\",\"Cafe Parmesan\",\"Mr. Brown\",\"Burger Factory\",\"Caterspoint\",\"Barbeque Nation\",\"AB's - Absolute Barbecues\",\"Square - Sayaji Hotel\",\"Zolocrust - Hotel Clarks Amer\",\"Dhuaan\",\"Nawras Seafood Restaurant\",\"Barbeque Nation\",\"Grandson of Tunday Kababi\",\"Aman Chicken\",\"Giri Manja's\",\"The Shooters Cafe\",\"Mirchi And Mime\",\"Vinayaka Mylari\",\"Barbeque Nation\",\"Sadhana Restaurant\",\"Masala Library\",\"The Big Chill Cakery\",\"Hops n Grains\",\"Spice Court - Hotel Maurya\",\"Zuka Choco-la\",\"Le Plaisir\",\"Kaveri Restaurant And Caterers\",\"Coffee Cup\",\"Falafel Lovers\",\"La Quello - Mediterranean Kitchen\",\"Kashi Chat Bhandar\",\"Barbeque Nation\"],\"textposition\":\"auto\",\"x\":[\"Agra\",\"Ahmedabad\",\"Allahabad\",\"Amritsar\",\"Aurangabad\",\"Bangalore\",\"Bhopal\",\"Bhubaneshwar\",\"Chandigarh\",\"Chennai\",\"Coimbatore\",\"Dehradun\",\"Faridabad\",\"Ghaziabad\",\"Goa\",\"Gurgaon\",\"Guwahati\",\"Hyderabad\",\"Indore\",\"Jaipur\",\"Kanpur\",\"Kochi\",\"Kolkata\",\"Lucknow\",\"Ludhiana\",\"Mangalore\",\"Mohali\",\"Mumbai\",\"Mysore\",\"Nagpur\",\"Nashik\",\"New Delhi\",\"Noida\",\"Panchkula\",\"Patna\",\"Puducherry\",\"Pune\",\"Ranchi\",\"Secunderabad\",\"Surat\",\"Vadodara\",\"Varanasi\",\"Vizag\"],\"y\":[4.9,4.6,3.7,4.1,3.7,4.8,4.9,4.6,4.5,4.9,4.9,4.9,4.5,3.9,4.8,4.9,4.9,4.9,4.3,4.9,4.3,4.6,4.9,4.9,4.6,4.2,4.3,4.9,4.2,4.9,3.9,4.9,4.5,4.2,3.7,4.2,4.8,4.0,4.6,4.3,4.6,4.1,4.9],\"type\":\"bar\"},{\"hovertemplate\":\"Restaurant: %{text}<br>Rating: %{y}<br>City: %{x}<extra></extra>\",\"marker\":{\"color\":\"red\"},\"name\":\"Lowest Rated Restaurants\",\"text\":[\"The Charcoal Chimney\",\"MoMo Caf\\u00cc\\u00a9 - Courtyard By Marriott\",\"Tandoor Restaurant\",\"Bon Gateau\",\"Domino's Pizza\",\"Three Dots & A Dash\",\"Black N White Cafe\",\"Eram Rooftop\",\"Karim's\",\"Haunted\",\"Zucca Pizzeria\",\"The Punjabi Essence Restaurant\",\"Shankar Sweets\",\"The Big Scoop\",\"Curlies\",\"Aggarwal Sweets & Restaurant\",\"4 Seasons\",\"The Fisherman's Wharf\",\"Freito\",\"Sky Beach\",\"Hucka\",\"Ali Baba & 41 Dishes\",\"Mocambo\",\"Chemistry Caf\\u00cc\\u00a9\",\"Spice Cube\",\"Smoke N Oven\",\"The Shooters Cafe\",\"The American Joint\",\"The Barge Restaurant\",\"KFC\",\"Little Italy\",\"Sweets n Treats\",\"Indian Special Hot Momos\",\"Hops n Grains\",\"Roti Restaurant\",\"Le Cafe\",\"Teddy Boy\",\"Jungli Moon Dance Restaurant\",\"Saffron Mantra\",\"Global Local\",\"El Amigos Kitchen\",\"3Cherryz Sky Lounge & Cafe\",\"My Restaurant\"],\"textposition\":\"auto\",\"x\":[\"Agra\",\"Ahmedabad\",\"Allahabad\",\"Amritsar\",\"Aurangabad\",\"Bangalore\",\"Bhopal\",\"Bhubaneshwar\",\"Chandigarh\",\"Chennai\",\"Coimbatore\",\"Dehradun\",\"Faridabad\",\"Ghaziabad\",\"Goa\",\"Gurgaon\",\"Guwahati\",\"Hyderabad\",\"Indore\",\"Jaipur\",\"Kanpur\",\"Kochi\",\"Kolkata\",\"Lucknow\",\"Ludhiana\",\"Mangalore\",\"Mohali\",\"Mumbai\",\"Mysore\",\"Nagpur\",\"Nashik\",\"New Delhi\",\"Noida\",\"Panchkula\",\"Patna\",\"Puducherry\",\"Pune\",\"Ranchi\",\"Secunderabad\",\"Surat\",\"Vadodara\",\"Varanasi\",\"Vizag\"],\"y\":[3.4,3.6,3.2,3.4,3.1,3.9,3.3,3.5,3.3,3.8,3.5,3.6,0.0,0.0,3.5,0.0,3.6,3.8,3.1,2.6,3.3,3.5,3.5,3.5,3.5,3.5,4.3,3.4,3.3,2.2,3.0,0.0,0.0,4.2,3.1,3.1,3.6,3.1,4.4,3.4,3.5,3.2,3.5],\"type\":\"bar\"}],                        {\"barmode\":\"group\",\"legend\":{\"bgcolor\":\"#E2E2E2\",\"bordercolor\":\"#FFFFFF\",\"borderwidth\":2,\"font\":{\"color\":\"#000\",\"family\":\"sans-serif\",\"size\":12},\"traceorder\":\"normal\",\"x\":0,\"y\":1},\"plot_bgcolor\":\"rgba(245, 246, 249, 1)\",\"template\":{\"data\":{\"barpolar\":[{\"marker\":{\"line\":{\"color\":\"#E5ECF6\",\"width\":0.5},\"pattern\":{\"fillmode\":\"overlay\",\"size\":10,\"solidity\":0.2}},\"type\":\"barpolar\"}],\"bar\":[{\"error_x\":{\"color\":\"#2a3f5f\"},\"error_y\":{\"color\":\"#2a3f5f\"},\"marker\":{\"line\":{\"color\":\"#E5ECF6\",\"width\":0.5},\"pattern\":{\"fillmode\":\"overlay\",\"size\":10,\"solidity\":0.2}},\"type\":\"bar\"}],\"carpet\":[{\"aaxis\":{\"endlinecolor\":\"#2a3f5f\",\"gridcolor\":\"white\",\"linecolor\":\"white\",\"minorgridcolor\":\"white\",\"startlinecolor\":\"#2a3f5f\"},\"baxis\":{\"endlinecolor\":\"#2a3f5f\",\"gridcolor\":\"white\",\"linecolor\":\"white\",\"minorgridcolor\":\"white\",\"startlinecolor\":\"#2a3f5f\"},\"type\":\"carpet\"}],\"choropleth\":[{\"colorbar\":{\"outlinewidth\":0,\"ticks\":\"\"},\"type\":\"choropleth\"}],\"contourcarpet\":[{\"colorbar\":{\"outlinewidth\":0,\"ticks\":\"\"},\"type\":\"contourcarpet\"}],\"contour\":[{\"colorbar\":{\"outlinewidth\":0,\"ticks\":\"\"},\"colorscale\":[[0.0,\"#0d0887\"],[0.1111111111111111,\"#46039f\"],[0.2222222222222222,\"#7201a8\"],[0.3333333333333333,\"#9c179e\"],[0.4444444444444444,\"#bd3786\"],[0.5555555555555556,\"#d8576b\"],[0.6666666666666666,\"#ed7953\"],[0.7777777777777778,\"#fb9f3a\"],[0.8888888888888888,\"#fdca26\"],[1.0,\"#f0f921\"]],\"type\":\"contour\"}],\"heatmapgl\":[{\"colorbar\":{\"outlinewidth\":0,\"ticks\":\"\"},\"colorscale\":[[0.0,\"#0d0887\"],[0.1111111111111111,\"#46039f\"],[0.2222222222222222,\"#7201a8\"],[0.3333333333333333,\"#9c179e\"],[0.4444444444444444,\"#bd3786\"],[0.5555555555555556,\"#d8576b\"],[0.6666666666666666,\"#ed7953\"],[0.7777777777777778,\"#fb9f3a\"],[0.8888888888888888,\"#fdca26\"],[1.0,\"#f0f921\"]],\"type\":\"heatmapgl\"}],\"heatmap\":[{\"colorbar\":{\"outlinewidth\":0,\"ticks\":\"\"},\"colorscale\":[[0.0,\"#0d0887\"],[0.1111111111111111,\"#46039f\"],[0.2222222222222222,\"#7201a8\"],[0.3333333333333333,\"#9c179e\"],[0.4444444444444444,\"#bd3786\"],[0.5555555555555556,\"#d8576b\"],[0.6666666666666666,\"#ed7953\"],[0.7777777777777778,\"#fb9f3a\"],[0.8888888888888888,\"#fdca26\"],[1.0,\"#f0f921\"]],\"type\":\"heatmap\"}],\"histogram2dcontour\":[{\"colorbar\":{\"outlinewidth\":0,\"ticks\":\"\"},\"colorscale\":[[0.0,\"#0d0887\"],[0.1111111111111111,\"#46039f\"],[0.2222222222222222,\"#7201a8\"],[0.3333333333333333,\"#9c179e\"],[0.4444444444444444,\"#bd3786\"],[0.5555555555555556,\"#d8576b\"],[0.6666666666666666,\"#ed7953\"],[0.7777777777777778,\"#fb9f3a\"],[0.8888888888888888,\"#fdca26\"],[1.0,\"#f0f921\"]],\"type\":\"histogram2dcontour\"}],\"histogram2d\":[{\"colorbar\":{\"outlinewidth\":0,\"ticks\":\"\"},\"colorscale\":[[0.0,\"#0d0887\"],[0.1111111111111111,\"#46039f\"],[0.2222222222222222,\"#7201a8\"],[0.3333333333333333,\"#9c179e\"],[0.4444444444444444,\"#bd3786\"],[0.5555555555555556,\"#d8576b\"],[0.6666666666666666,\"#ed7953\"],[0.7777777777777778,\"#fb9f3a\"],[0.8888888888888888,\"#fdca26\"],[1.0,\"#f0f921\"]],\"type\":\"histogram2d\"}],\"histogram\":[{\"marker\":{\"pattern\":{\"fillmode\":\"overlay\",\"size\":10,\"solidity\":0.2}},\"type\":\"histogram\"}],\"mesh3d\":[{\"colorbar\":{\"outlinewidth\":0,\"ticks\":\"\"},\"type\":\"mesh3d\"}],\"parcoords\":[{\"line\":{\"colorbar\":{\"outlinewidth\":0,\"ticks\":\"\"}},\"type\":\"parcoords\"}],\"pie\":[{\"automargin\":true,\"type\":\"pie\"}],\"scatter3d\":[{\"line\":{\"colorbar\":{\"outlinewidth\":0,\"ticks\":\"\"}},\"marker\":{\"colorbar\":{\"outlinewidth\":0,\"ticks\":\"\"}},\"type\":\"scatter3d\"}],\"scattercarpet\":[{\"marker\":{\"colorbar\":{\"outlinewidth\":0,\"ticks\":\"\"}},\"type\":\"scattercarpet\"}],\"scattergeo\":[{\"marker\":{\"colorbar\":{\"outlinewidth\":0,\"ticks\":\"\"}},\"type\":\"scattergeo\"}],\"scattergl\":[{\"marker\":{\"colorbar\":{\"outlinewidth\":0,\"ticks\":\"\"}},\"type\":\"scattergl\"}],\"scattermapbox\":[{\"marker\":{\"colorbar\":{\"outlinewidth\":0,\"ticks\":\"\"}},\"type\":\"scattermapbox\"}],\"scatterpolargl\":[{\"marker\":{\"colorbar\":{\"outlinewidth\":0,\"ticks\":\"\"}},\"type\":\"scatterpolargl\"}],\"scatterpolar\":[{\"marker\":{\"colorbar\":{\"outlinewidth\":0,\"ticks\":\"\"}},\"type\":\"scatterpolar\"}],\"scatter\":[{\"fillpattern\":{\"fillmode\":\"overlay\",\"size\":10,\"solidity\":0.2},\"type\":\"scatter\"}],\"scatterternary\":[{\"marker\":{\"colorbar\":{\"outlinewidth\":0,\"ticks\":\"\"}},\"type\":\"scatterternary\"}],\"surface\":[{\"colorbar\":{\"outlinewidth\":0,\"ticks\":\"\"},\"colorscale\":[[0.0,\"#0d0887\"],[0.1111111111111111,\"#46039f\"],[0.2222222222222222,\"#7201a8\"],[0.3333333333333333,\"#9c179e\"],[0.4444444444444444,\"#bd3786\"],[0.5555555555555556,\"#d8576b\"],[0.6666666666666666,\"#ed7953\"],[0.7777777777777778,\"#fb9f3a\"],[0.8888888888888888,\"#fdca26\"],[1.0,\"#f0f921\"]],\"type\":\"surface\"}],\"table\":[{\"cells\":{\"fill\":{\"color\":\"#EBF0F8\"},\"line\":{\"color\":\"white\"}},\"header\":{\"fill\":{\"color\":\"#C8D4E3\"},\"line\":{\"color\":\"white\"}},\"type\":\"table\"}]},\"layout\":{\"annotationdefaults\":{\"arrowcolor\":\"#2a3f5f\",\"arrowhead\":0,\"arrowwidth\":1},\"autotypenumbers\":\"strict\",\"coloraxis\":{\"colorbar\":{\"outlinewidth\":0,\"ticks\":\"\"}},\"colorscale\":{\"diverging\":[[0,\"#8e0152\"],[0.1,\"#c51b7d\"],[0.2,\"#de77ae\"],[0.3,\"#f1b6da\"],[0.4,\"#fde0ef\"],[0.5,\"#f7f7f7\"],[0.6,\"#e6f5d0\"],[0.7,\"#b8e186\"],[0.8,\"#7fbc41\"],[0.9,\"#4d9221\"],[1,\"#276419\"]],\"sequential\":[[0.0,\"#0d0887\"],[0.1111111111111111,\"#46039f\"],[0.2222222222222222,\"#7201a8\"],[0.3333333333333333,\"#9c179e\"],[0.4444444444444444,\"#bd3786\"],[0.5555555555555556,\"#d8576b\"],[0.6666666666666666,\"#ed7953\"],[0.7777777777777778,\"#fb9f3a\"],[0.8888888888888888,\"#fdca26\"],[1.0,\"#f0f921\"]],\"sequentialminus\":[[0.0,\"#0d0887\"],[0.1111111111111111,\"#46039f\"],[0.2222222222222222,\"#7201a8\"],[0.3333333333333333,\"#9c179e\"],[0.4444444444444444,\"#bd3786\"],[0.5555555555555556,\"#d8576b\"],[0.6666666666666666,\"#ed7953\"],[0.7777777777777778,\"#fb9f3a\"],[0.8888888888888888,\"#fdca26\"],[1.0,\"#f0f921\"]]},\"colorway\":[\"#636efa\",\"#EF553B\",\"#00cc96\",\"#ab63fa\",\"#FFA15A\",\"#19d3f3\",\"#FF6692\",\"#B6E880\",\"#FF97FF\",\"#FECB52\"],\"font\":{\"color\":\"#2a3f5f\"},\"geo\":{\"bgcolor\":\"white\",\"lakecolor\":\"white\",\"landcolor\":\"#E5ECF6\",\"showlakes\":true,\"showland\":true,\"subunitcolor\":\"white\"},\"hoverlabel\":{\"align\":\"left\"},\"hovermode\":\"closest\",\"mapbox\":{\"style\":\"light\"},\"paper_bgcolor\":\"white\",\"plot_bgcolor\":\"#E5ECF6\",\"polar\":{\"angularaxis\":{\"gridcolor\":\"white\",\"linecolor\":\"white\",\"ticks\":\"\"},\"bgcolor\":\"#E5ECF6\",\"radialaxis\":{\"gridcolor\":\"white\",\"linecolor\":\"white\",\"ticks\":\"\"}},\"scene\":{\"xaxis\":{\"backgroundcolor\":\"#E5ECF6\",\"gridcolor\":\"white\",\"gridwidth\":2,\"linecolor\":\"white\",\"showbackground\":true,\"ticks\":\"\",\"zerolinecolor\":\"white\"},\"yaxis\":{\"backgroundcolor\":\"#E5ECF6\",\"gridcolor\":\"white\",\"gridwidth\":2,\"linecolor\":\"white\",\"showbackground\":true,\"ticks\":\"\",\"zerolinecolor\":\"white\"},\"zaxis\":{\"backgroundcolor\":\"#E5ECF6\",\"gridcolor\":\"white\",\"gridwidth\":2,\"linecolor\":\"white\",\"showbackground\":true,\"ticks\":\"\",\"zerolinecolor\":\"white\"}},\"shapedefaults\":{\"line\":{\"color\":\"#2a3f5f\"}},\"ternary\":{\"aaxis\":{\"gridcolor\":\"white\",\"linecolor\":\"white\",\"ticks\":\"\"},\"baxis\":{\"gridcolor\":\"white\",\"linecolor\":\"white\",\"ticks\":\"\"},\"bgcolor\":\"#E5ECF6\",\"caxis\":{\"gridcolor\":\"white\",\"linecolor\":\"white\",\"ticks\":\"\"}},\"title\":{\"x\":0.05},\"xaxis\":{\"automargin\":true,\"gridcolor\":\"white\",\"linecolor\":\"white\",\"ticks\":\"\",\"title\":{\"standoff\":15},\"zerolinecolor\":\"white\",\"zerolinewidth\":2},\"yaxis\":{\"automargin\":true,\"gridcolor\":\"white\",\"linecolor\":\"white\",\"ticks\":\"\",\"title\":{\"standoff\":15},\"zerolinecolor\":\"white\",\"zerolinewidth\":2}}},\"title\":{\"text\":\"Highest and Lowest Rated Restaurants in India by City\"},\"xaxis\":{\"tickangle\":-45,\"title\":{\"text\":\"City\"}},\"yaxis\":{\"range\":[0,5],\"title\":{\"text\":\"Aggregate Rating\"}}},                        {\"responsive\": true}                    ).then(function(){\n",
       "                            \n",
       "var gd = document.getElementById('71279bd0-461f-42bc-8b69-96ea8eaad5cb');\n",
       "var x = new MutationObserver(function (mutations, observer) {{\n",
       "        var display = window.getComputedStyle(gd).display;\n",
       "        if (!display || display === 'none') {{\n",
       "            console.log([gd, 'removed!']);\n",
       "            Plotly.purge(gd);\n",
       "            observer.disconnect();\n",
       "        }}\n",
       "}});\n",
       "\n",
       "// Listen for the removal of the full notebook cells\n",
       "var notebookContainer = gd.closest('#notebook-container');\n",
       "if (notebookContainer) {{\n",
       "    x.observe(notebookContainer, {childList: true});\n",
       "}}\n",
       "\n",
       "// Listen for the clearing of the current output cell\n",
       "var outputEl = gd.closest('.output');\n",
       "if (outputEl) {{\n",
       "    x.observe(outputEl, {childList: true});\n",
       "}}\n",
       "\n",
       "                        })                };                });            </script>        </div>"
      ]
     },
     "metadata": {},
     "output_type": "display_data"
    },
    {
     "data": {
      "application/vnd.plotly.v1+json": {
       "config": {
        "linkText": "Export to plot.ly",
        "plotlyServerURL": "https://plot.ly",
        "showLink": false
       },
       "data": [
        {
         "hovertemplate": "Restaurant: %{text}<br>Rating: %{y}<br>City: %{x}<extra></extra>",
         "marker": {
          "color": "green"
         },
         "name": "Highest Rated Restaurants",
         "text": [
          "Guang Zhou Chinese Restaurant",
          "Sr. Sol 1",
          "Rae's Coastal Cafe",
          "Flatbread Neapolitan Pizzeria",
          "Shorts Burger and Shine",
          "Berry Patch Restaurant",
          "Sakura Sushi & Grill",
          "Cafe Le Rue @ The Landings",
          "Oakwood Cafe",
          "Tantra Asian Bistro",
          "The Cafe",
          "L. May Eatery",
          "Jehova es Mi Pastor Tacos y Burritos",
          "Atlanta Highway Seafood Market",
          "Burger Queen Drive In",
          "Blue Orchid Thai Restaurant",
          "Ingleside Village Pizza",
          "Triangle Restaurant",
          "HI Lite Bar & Lounge",
          "Vince's Restaurant & Pizzeria",
          "The Artesian Restaurant",
          "Yellow Dog Eats",
          "McGuire's Irish Pub & Brewery",
          "El Herradero",
          "Barrett Junction Cafe",
          "Blue Point Grill",
          "Mama's Fish House",
          "Green Truck Pub",
          "El Fredo Pizza",
          "Mr. Dunderbak's Biergarten and Marketplatz",
          "Smok'n Pig B-B-Q",
          "Blue House Cafe",
          "Tokyo Japanese Steak House",
          "Theo Yianni's Authentic Greek Restaurant",
          "Fishpatrick's Crabby Cafe"
         ],
         "textposition": "auto",
         "type": "bar",
         "x": [
          "Albany",
          "Athens",
          "Augusta",
          "Boise",
          "Cedar Rapids/Iowa City",
          "Clatskanie",
          "Cochrane",
          "Columbus",
          "Dalton",
          "Davenport",
          "Des Moines",
          "Dubuque",
          "Fernley",
          "Gainesville",
          "Lakeview",
          "Lincoln",
          "Macon",
          "Mc Millan",
          "Miller",
          "Monroe",
          "Ojo Caliente",
          "Orlando",
          "Pensacola",
          "Pocatello",
          "Potrero",
          "Princeton",
          "Rest of Hawaii",
          "Savannah",
          "Sioux City",
          "Tampa Bay",
          "Valdosta",
          "Vernonia",
          "Waterloo",
          "Weirton",
          "Winchester Bay"
         ],
         "y": [
          3.9,
          4.6,
          4.9,
          4.6,
          4.9,
          4.3,
          3.1,
          4.6,
          4.9,
          4.9,
          4.9,
          3.8,
          3.7,
          4.9,
          3.6,
          4.5,
          4.9,
          2.4,
          3.4,
          3.6,
          3.6,
          4.9,
          4.9,
          4.1,
          3.3,
          4,
          4.9,
          4.7,
          4,
          4.9,
          4.1,
          4.3,
          3.9,
          3.9,
          3.2
         ]
        },
        {
         "hovertemplate": "Restaurant: %{text}<br>Rating: %{y}<br>City: %{x}<extra></extra>",
         "marker": {
          "color": "orange"
         },
         "name": "Lowest Rated Restaurants",
         "text": [
          "BJ's Country Buffet",
          "The Grill",
          "Sconyers Bar B Que",
          "Chandlers Steakhouse",
          "Bluebird Diner",
          "Berry Patch Restaurant",
          "Sakura Sushi & Grill",
          "Uptown Vietnam cuisine",
          "Southern Bliss Bakery",
          "Los Agaves",
          "Malo",
          "Tony Roma's",
          "Jehova es Mi Pastor Tacos y Burritos",
          "Troll Tavern",
          "Burger Queen Drive In",
          "Blue Orchid Thai Restaurant",
          "Sushi Thai Restaurant",
          "Triangle Restaurant",
          "HI Lite Bar & Lounge",
          "Vince's Restaurant & Pizzeria",
          "The Artesian Restaurant",
          "The Coop",
          "Hemingway's Island Grill",
          "Nosh Mahal",
          "Barrett Junction Cafe",
          "Blue Point Grill",
          "Lulu's Waikiki",
          "The Lady & Sons",
          "Kahill's Steak-Fish Chophouse",
          "Boca Kitchen Bar Market",
          "El Toreo Mexican Restaurant",
          "Blue House Cafe",
          "Masala Grill & Coffee House",
          "Theo Yianni's Authentic Greek Restaurant",
          "Fishpatrick's Crabby Cafe"
         ],
         "textposition": "auto",
         "type": "bar",
         "x": [
          "Albany",
          "Athens",
          "Augusta",
          "Boise",
          "Cedar Rapids/Iowa City",
          "Clatskanie",
          "Cochrane",
          "Columbus",
          "Dalton",
          "Davenport",
          "Des Moines",
          "Dubuque",
          "Fernley",
          "Gainesville",
          "Lakeview",
          "Lincoln",
          "Macon",
          "Mc Millan",
          "Miller",
          "Monroe",
          "Ojo Caliente",
          "Orlando",
          "Pensacola",
          "Pocatello",
          "Potrero",
          "Princeton",
          "Rest of Hawaii",
          "Savannah",
          "Sioux City",
          "Tampa Bay",
          "Valdosta",
          "Vernonia",
          "Waterloo",
          "Weirton",
          "Winchester Bay"
         ],
         "y": [
          3.3,
          3.7,
          3.5,
          3.9,
          3.6,
          4.3,
          3.1,
          3.3,
          3.7,
          0,
          3.2,
          3.3,
          3.7,
          2.2,
          3.6,
          4.5,
          3.7,
          2.4,
          3.4,
          3.6,
          3.6,
          3.6,
          3.5,
          0,
          3.3,
          4,
          3.9,
          3.3,
          3.5,
          3.9,
          3.1,
          4.3,
          3.2,
          3.9,
          3.2
         ]
        }
       ],
       "layout": {
        "barmode": "group",
        "legend": {
         "bgcolor": "#E2E2E2",
         "bordercolor": "#FFFFFF",
         "borderwidth": 2,
         "font": {
          "color": "#000",
          "family": "sans-serif",
          "size": 12
         },
         "traceorder": "normal",
         "x": 0,
         "y": 1
        },
        "plot_bgcolor": "rgba(245, 246, 249, 1)",
        "template": {
         "data": {
          "bar": [
           {
            "error_x": {
             "color": "#2a3f5f"
            },
            "error_y": {
             "color": "#2a3f5f"
            },
            "marker": {
             "line": {
              "color": "#E5ECF6",
              "width": 0.5
             },
             "pattern": {
              "fillmode": "overlay",
              "size": 10,
              "solidity": 0.2
             }
            },
            "type": "bar"
           }
          ],
          "barpolar": [
           {
            "marker": {
             "line": {
              "color": "#E5ECF6",
              "width": 0.5
             },
             "pattern": {
              "fillmode": "overlay",
              "size": 10,
              "solidity": 0.2
             }
            },
            "type": "barpolar"
           }
          ],
          "carpet": [
           {
            "aaxis": {
             "endlinecolor": "#2a3f5f",
             "gridcolor": "white",
             "linecolor": "white",
             "minorgridcolor": "white",
             "startlinecolor": "#2a3f5f"
            },
            "baxis": {
             "endlinecolor": "#2a3f5f",
             "gridcolor": "white",
             "linecolor": "white",
             "minorgridcolor": "white",
             "startlinecolor": "#2a3f5f"
            },
            "type": "carpet"
           }
          ],
          "choropleth": [
           {
            "colorbar": {
             "outlinewidth": 0,
             "ticks": ""
            },
            "type": "choropleth"
           }
          ],
          "contour": [
           {
            "colorbar": {
             "outlinewidth": 0,
             "ticks": ""
            },
            "colorscale": [
             [
              0,
              "#0d0887"
             ],
             [
              0.1111111111111111,
              "#46039f"
             ],
             [
              0.2222222222222222,
              "#7201a8"
             ],
             [
              0.3333333333333333,
              "#9c179e"
             ],
             [
              0.4444444444444444,
              "#bd3786"
             ],
             [
              0.5555555555555556,
              "#d8576b"
             ],
             [
              0.6666666666666666,
              "#ed7953"
             ],
             [
              0.7777777777777778,
              "#fb9f3a"
             ],
             [
              0.8888888888888888,
              "#fdca26"
             ],
             [
              1,
              "#f0f921"
             ]
            ],
            "type": "contour"
           }
          ],
          "contourcarpet": [
           {
            "colorbar": {
             "outlinewidth": 0,
             "ticks": ""
            },
            "type": "contourcarpet"
           }
          ],
          "heatmap": [
           {
            "colorbar": {
             "outlinewidth": 0,
             "ticks": ""
            },
            "colorscale": [
             [
              0,
              "#0d0887"
             ],
             [
              0.1111111111111111,
              "#46039f"
             ],
             [
              0.2222222222222222,
              "#7201a8"
             ],
             [
              0.3333333333333333,
              "#9c179e"
             ],
             [
              0.4444444444444444,
              "#bd3786"
             ],
             [
              0.5555555555555556,
              "#d8576b"
             ],
             [
              0.6666666666666666,
              "#ed7953"
             ],
             [
              0.7777777777777778,
              "#fb9f3a"
             ],
             [
              0.8888888888888888,
              "#fdca26"
             ],
             [
              1,
              "#f0f921"
             ]
            ],
            "type": "heatmap"
           }
          ],
          "heatmapgl": [
           {
            "colorbar": {
             "outlinewidth": 0,
             "ticks": ""
            },
            "colorscale": [
             [
              0,
              "#0d0887"
             ],
             [
              0.1111111111111111,
              "#46039f"
             ],
             [
              0.2222222222222222,
              "#7201a8"
             ],
             [
              0.3333333333333333,
              "#9c179e"
             ],
             [
              0.4444444444444444,
              "#bd3786"
             ],
             [
              0.5555555555555556,
              "#d8576b"
             ],
             [
              0.6666666666666666,
              "#ed7953"
             ],
             [
              0.7777777777777778,
              "#fb9f3a"
             ],
             [
              0.8888888888888888,
              "#fdca26"
             ],
             [
              1,
              "#f0f921"
             ]
            ],
            "type": "heatmapgl"
           }
          ],
          "histogram": [
           {
            "marker": {
             "pattern": {
              "fillmode": "overlay",
              "size": 10,
              "solidity": 0.2
             }
            },
            "type": "histogram"
           }
          ],
          "histogram2d": [
           {
            "colorbar": {
             "outlinewidth": 0,
             "ticks": ""
            },
            "colorscale": [
             [
              0,
              "#0d0887"
             ],
             [
              0.1111111111111111,
              "#46039f"
             ],
             [
              0.2222222222222222,
              "#7201a8"
             ],
             [
              0.3333333333333333,
              "#9c179e"
             ],
             [
              0.4444444444444444,
              "#bd3786"
             ],
             [
              0.5555555555555556,
              "#d8576b"
             ],
             [
              0.6666666666666666,
              "#ed7953"
             ],
             [
              0.7777777777777778,
              "#fb9f3a"
             ],
             [
              0.8888888888888888,
              "#fdca26"
             ],
             [
              1,
              "#f0f921"
             ]
            ],
            "type": "histogram2d"
           }
          ],
          "histogram2dcontour": [
           {
            "colorbar": {
             "outlinewidth": 0,
             "ticks": ""
            },
            "colorscale": [
             [
              0,
              "#0d0887"
             ],
             [
              0.1111111111111111,
              "#46039f"
             ],
             [
              0.2222222222222222,
              "#7201a8"
             ],
             [
              0.3333333333333333,
              "#9c179e"
             ],
             [
              0.4444444444444444,
              "#bd3786"
             ],
             [
              0.5555555555555556,
              "#d8576b"
             ],
             [
              0.6666666666666666,
              "#ed7953"
             ],
             [
              0.7777777777777778,
              "#fb9f3a"
             ],
             [
              0.8888888888888888,
              "#fdca26"
             ],
             [
              1,
              "#f0f921"
             ]
            ],
            "type": "histogram2dcontour"
           }
          ],
          "mesh3d": [
           {
            "colorbar": {
             "outlinewidth": 0,
             "ticks": ""
            },
            "type": "mesh3d"
           }
          ],
          "parcoords": [
           {
            "line": {
             "colorbar": {
              "outlinewidth": 0,
              "ticks": ""
             }
            },
            "type": "parcoords"
           }
          ],
          "pie": [
           {
            "automargin": true,
            "type": "pie"
           }
          ],
          "scatter": [
           {
            "fillpattern": {
             "fillmode": "overlay",
             "size": 10,
             "solidity": 0.2
            },
            "type": "scatter"
           }
          ],
          "scatter3d": [
           {
            "line": {
             "colorbar": {
              "outlinewidth": 0,
              "ticks": ""
             }
            },
            "marker": {
             "colorbar": {
              "outlinewidth": 0,
              "ticks": ""
             }
            },
            "type": "scatter3d"
           }
          ],
          "scattercarpet": [
           {
            "marker": {
             "colorbar": {
              "outlinewidth": 0,
              "ticks": ""
             }
            },
            "type": "scattercarpet"
           }
          ],
          "scattergeo": [
           {
            "marker": {
             "colorbar": {
              "outlinewidth": 0,
              "ticks": ""
             }
            },
            "type": "scattergeo"
           }
          ],
          "scattergl": [
           {
            "marker": {
             "colorbar": {
              "outlinewidth": 0,
              "ticks": ""
             }
            },
            "type": "scattergl"
           }
          ],
          "scattermapbox": [
           {
            "marker": {
             "colorbar": {
              "outlinewidth": 0,
              "ticks": ""
             }
            },
            "type": "scattermapbox"
           }
          ],
          "scatterpolar": [
           {
            "marker": {
             "colorbar": {
              "outlinewidth": 0,
              "ticks": ""
             }
            },
            "type": "scatterpolar"
           }
          ],
          "scatterpolargl": [
           {
            "marker": {
             "colorbar": {
              "outlinewidth": 0,
              "ticks": ""
             }
            },
            "type": "scatterpolargl"
           }
          ],
          "scatterternary": [
           {
            "marker": {
             "colorbar": {
              "outlinewidth": 0,
              "ticks": ""
             }
            },
            "type": "scatterternary"
           }
          ],
          "surface": [
           {
            "colorbar": {
             "outlinewidth": 0,
             "ticks": ""
            },
            "colorscale": [
             [
              0,
              "#0d0887"
             ],
             [
              0.1111111111111111,
              "#46039f"
             ],
             [
              0.2222222222222222,
              "#7201a8"
             ],
             [
              0.3333333333333333,
              "#9c179e"
             ],
             [
              0.4444444444444444,
              "#bd3786"
             ],
             [
              0.5555555555555556,
              "#d8576b"
             ],
             [
              0.6666666666666666,
              "#ed7953"
             ],
             [
              0.7777777777777778,
              "#fb9f3a"
             ],
             [
              0.8888888888888888,
              "#fdca26"
             ],
             [
              1,
              "#f0f921"
             ]
            ],
            "type": "surface"
           }
          ],
          "table": [
           {
            "cells": {
             "fill": {
              "color": "#EBF0F8"
             },
             "line": {
              "color": "white"
             }
            },
            "header": {
             "fill": {
              "color": "#C8D4E3"
             },
             "line": {
              "color": "white"
             }
            },
            "type": "table"
           }
          ]
         },
         "layout": {
          "annotationdefaults": {
           "arrowcolor": "#2a3f5f",
           "arrowhead": 0,
           "arrowwidth": 1
          },
          "autotypenumbers": "strict",
          "coloraxis": {
           "colorbar": {
            "outlinewidth": 0,
            "ticks": ""
           }
          },
          "colorscale": {
           "diverging": [
            [
             0,
             "#8e0152"
            ],
            [
             0.1,
             "#c51b7d"
            ],
            [
             0.2,
             "#de77ae"
            ],
            [
             0.3,
             "#f1b6da"
            ],
            [
             0.4,
             "#fde0ef"
            ],
            [
             0.5,
             "#f7f7f7"
            ],
            [
             0.6,
             "#e6f5d0"
            ],
            [
             0.7,
             "#b8e186"
            ],
            [
             0.8,
             "#7fbc41"
            ],
            [
             0.9,
             "#4d9221"
            ],
            [
             1,
             "#276419"
            ]
           ],
           "sequential": [
            [
             0,
             "#0d0887"
            ],
            [
             0.1111111111111111,
             "#46039f"
            ],
            [
             0.2222222222222222,
             "#7201a8"
            ],
            [
             0.3333333333333333,
             "#9c179e"
            ],
            [
             0.4444444444444444,
             "#bd3786"
            ],
            [
             0.5555555555555556,
             "#d8576b"
            ],
            [
             0.6666666666666666,
             "#ed7953"
            ],
            [
             0.7777777777777778,
             "#fb9f3a"
            ],
            [
             0.8888888888888888,
             "#fdca26"
            ],
            [
             1,
             "#f0f921"
            ]
           ],
           "sequentialminus": [
            [
             0,
             "#0d0887"
            ],
            [
             0.1111111111111111,
             "#46039f"
            ],
            [
             0.2222222222222222,
             "#7201a8"
            ],
            [
             0.3333333333333333,
             "#9c179e"
            ],
            [
             0.4444444444444444,
             "#bd3786"
            ],
            [
             0.5555555555555556,
             "#d8576b"
            ],
            [
             0.6666666666666666,
             "#ed7953"
            ],
            [
             0.7777777777777778,
             "#fb9f3a"
            ],
            [
             0.8888888888888888,
             "#fdca26"
            ],
            [
             1,
             "#f0f921"
            ]
           ]
          },
          "colorway": [
           "#636efa",
           "#EF553B",
           "#00cc96",
           "#ab63fa",
           "#FFA15A",
           "#19d3f3",
           "#FF6692",
           "#B6E880",
           "#FF97FF",
           "#FECB52"
          ],
          "font": {
           "color": "#2a3f5f"
          },
          "geo": {
           "bgcolor": "white",
           "lakecolor": "white",
           "landcolor": "#E5ECF6",
           "showlakes": true,
           "showland": true,
           "subunitcolor": "white"
          },
          "hoverlabel": {
           "align": "left"
          },
          "hovermode": "closest",
          "mapbox": {
           "style": "light"
          },
          "paper_bgcolor": "white",
          "plot_bgcolor": "#E5ECF6",
          "polar": {
           "angularaxis": {
            "gridcolor": "white",
            "linecolor": "white",
            "ticks": ""
           },
           "bgcolor": "#E5ECF6",
           "radialaxis": {
            "gridcolor": "white",
            "linecolor": "white",
            "ticks": ""
           }
          },
          "scene": {
           "xaxis": {
            "backgroundcolor": "#E5ECF6",
            "gridcolor": "white",
            "gridwidth": 2,
            "linecolor": "white",
            "showbackground": true,
            "ticks": "",
            "zerolinecolor": "white"
           },
           "yaxis": {
            "backgroundcolor": "#E5ECF6",
            "gridcolor": "white",
            "gridwidth": 2,
            "linecolor": "white",
            "showbackground": true,
            "ticks": "",
            "zerolinecolor": "white"
           },
           "zaxis": {
            "backgroundcolor": "#E5ECF6",
            "gridcolor": "white",
            "gridwidth": 2,
            "linecolor": "white",
            "showbackground": true,
            "ticks": "",
            "zerolinecolor": "white"
           }
          },
          "shapedefaults": {
           "line": {
            "color": "#2a3f5f"
           }
          },
          "ternary": {
           "aaxis": {
            "gridcolor": "white",
            "linecolor": "white",
            "ticks": ""
           },
           "baxis": {
            "gridcolor": "white",
            "linecolor": "white",
            "ticks": ""
           },
           "bgcolor": "#E5ECF6",
           "caxis": {
            "gridcolor": "white",
            "linecolor": "white",
            "ticks": ""
           }
          },
          "title": {
           "x": 0.05
          },
          "xaxis": {
           "automargin": true,
           "gridcolor": "white",
           "linecolor": "white",
           "ticks": "",
           "title": {
            "standoff": 15
           },
           "zerolinecolor": "white",
           "zerolinewidth": 2
          },
          "yaxis": {
           "automargin": true,
           "gridcolor": "white",
           "linecolor": "white",
           "ticks": "",
           "title": {
            "standoff": 15
           },
           "zerolinecolor": "white",
           "zerolinewidth": 2
          }
         }
        },
        "title": {
         "text": "Highest and Lowest Rated Restaurants in the USA by City"
        },
        "xaxis": {
         "tickangle": -45,
         "title": {
          "text": "City"
         }
        },
        "yaxis": {
         "range": [
          0,
          5
         ],
         "title": {
          "text": "Aggregate Rating"
         }
        }
       }
      },
      "text/html": [
       "<div>                            <div id=\"f4429ba1-4f2d-47f9-8b51-640f9ea081c3\" class=\"plotly-graph-div\" style=\"height:525px; width:100%;\"></div>            <script type=\"text/javascript\">                require([\"plotly\"], function(Plotly) {                    window.PLOTLYENV=window.PLOTLYENV || {};                                    if (document.getElementById(\"f4429ba1-4f2d-47f9-8b51-640f9ea081c3\")) {                    Plotly.newPlot(                        \"f4429ba1-4f2d-47f9-8b51-640f9ea081c3\",                        [{\"hovertemplate\":\"Restaurant: %{text}<br>Rating: %{y}<br>City: %{x}<extra></extra>\",\"marker\":{\"color\":\"green\"},\"name\":\"Highest Rated Restaurants\",\"text\":[\"Guang Zhou Chinese Restaurant\",\"Sr. Sol 1\",\"Rae's Coastal Cafe\",\"Flatbread Neapolitan Pizzeria\",\"Shorts Burger and Shine\",\"Berry Patch Restaurant\",\"Sakura Sushi & Grill\",\"Cafe Le Rue @ The Landings\",\"Oakwood Cafe\",\"Tantra Asian Bistro\",\"The Cafe\",\"L. May Eatery\",\"Jehova es Mi Pastor Tacos y Burritos\",\"Atlanta Highway Seafood Market\",\"Burger Queen Drive In\",\"Blue Orchid Thai Restaurant\",\"Ingleside Village Pizza\",\"Triangle Restaurant\",\"HI Lite Bar & Lounge\",\"Vince's Restaurant & Pizzeria\",\"The Artesian Restaurant\",\"Yellow Dog Eats\",\"McGuire's Irish Pub & Brewery\",\"El Herradero\",\"Barrett Junction Cafe\",\"Blue Point Grill\",\"Mama's Fish House\",\"Green Truck Pub\",\"El Fredo Pizza\",\"Mr. Dunderbak's Biergarten and Marketplatz\",\"Smok'n Pig B-B-Q\",\"Blue House Cafe\",\"Tokyo Japanese Steak House\",\"Theo Yianni's Authentic Greek Restaurant\",\"Fishpatrick's Crabby Cafe\"],\"textposition\":\"auto\",\"x\":[\"Albany\",\"Athens\",\"Augusta\",\"Boise\",\"Cedar Rapids/Iowa City\",\"Clatskanie\",\"Cochrane\",\"Columbus\",\"Dalton\",\"Davenport\",\"Des Moines\",\"Dubuque\",\"Fernley\",\"Gainesville\",\"Lakeview\",\"Lincoln\",\"Macon\",\"Mc Millan\",\"Miller\",\"Monroe\",\"Ojo Caliente\",\"Orlando\",\"Pensacola\",\"Pocatello\",\"Potrero\",\"Princeton\",\"Rest of Hawaii\",\"Savannah\",\"Sioux City\",\"Tampa Bay\",\"Valdosta\",\"Vernonia\",\"Waterloo\",\"Weirton\",\"Winchester Bay\"],\"y\":[3.9,4.6,4.9,4.6,4.9,4.3,3.1,4.6,4.9,4.9,4.9,3.8,3.7,4.9,3.6,4.5,4.9,2.4,3.4,3.6,3.6,4.9,4.9,4.1,3.3,4.0,4.9,4.7,4.0,4.9,4.1,4.3,3.9,3.9,3.2],\"type\":\"bar\"},{\"hovertemplate\":\"Restaurant: %{text}<br>Rating: %{y}<br>City: %{x}<extra></extra>\",\"marker\":{\"color\":\"orange\"},\"name\":\"Lowest Rated Restaurants\",\"text\":[\"BJ's Country Buffet\",\"The Grill\",\"Sconyers Bar B Que\",\"Chandlers Steakhouse\",\"Bluebird Diner\",\"Berry Patch Restaurant\",\"Sakura Sushi & Grill\",\"Uptown Vietnam cuisine\",\"Southern Bliss Bakery\",\"Los Agaves\",\"Malo\",\"Tony Roma's\",\"Jehova es Mi Pastor Tacos y Burritos\",\"Troll Tavern\",\"Burger Queen Drive In\",\"Blue Orchid Thai Restaurant\",\"Sushi Thai Restaurant\",\"Triangle Restaurant\",\"HI Lite Bar & Lounge\",\"Vince's Restaurant & Pizzeria\",\"The Artesian Restaurant\",\"The Coop\",\"Hemingway's Island Grill\",\"Nosh Mahal\",\"Barrett Junction Cafe\",\"Blue Point Grill\",\"Lulu's Waikiki\",\"The Lady & Sons\",\"Kahill's Steak-Fish Chophouse\",\"Boca Kitchen Bar Market\",\"El Toreo Mexican Restaurant\",\"Blue House Cafe\",\"Masala Grill & Coffee House\",\"Theo Yianni's Authentic Greek Restaurant\",\"Fishpatrick's Crabby Cafe\"],\"textposition\":\"auto\",\"x\":[\"Albany\",\"Athens\",\"Augusta\",\"Boise\",\"Cedar Rapids/Iowa City\",\"Clatskanie\",\"Cochrane\",\"Columbus\",\"Dalton\",\"Davenport\",\"Des Moines\",\"Dubuque\",\"Fernley\",\"Gainesville\",\"Lakeview\",\"Lincoln\",\"Macon\",\"Mc Millan\",\"Miller\",\"Monroe\",\"Ojo Caliente\",\"Orlando\",\"Pensacola\",\"Pocatello\",\"Potrero\",\"Princeton\",\"Rest of Hawaii\",\"Savannah\",\"Sioux City\",\"Tampa Bay\",\"Valdosta\",\"Vernonia\",\"Waterloo\",\"Weirton\",\"Winchester Bay\"],\"y\":[3.3,3.7,3.5,3.9,3.6,4.3,3.1,3.3,3.7,0.0,3.2,3.3,3.7,2.2,3.6,4.5,3.7,2.4,3.4,3.6,3.6,3.6,3.5,0.0,3.3,4.0,3.9,3.3,3.5,3.9,3.1,4.3,3.2,3.9,3.2],\"type\":\"bar\"}],                        {\"barmode\":\"group\",\"legend\":{\"bgcolor\":\"#E2E2E2\",\"bordercolor\":\"#FFFFFF\",\"borderwidth\":2,\"font\":{\"color\":\"#000\",\"family\":\"sans-serif\",\"size\":12},\"traceorder\":\"normal\",\"x\":0,\"y\":1},\"plot_bgcolor\":\"rgba(245, 246, 249, 1)\",\"template\":{\"data\":{\"barpolar\":[{\"marker\":{\"line\":{\"color\":\"#E5ECF6\",\"width\":0.5},\"pattern\":{\"fillmode\":\"overlay\",\"size\":10,\"solidity\":0.2}},\"type\":\"barpolar\"}],\"bar\":[{\"error_x\":{\"color\":\"#2a3f5f\"},\"error_y\":{\"color\":\"#2a3f5f\"},\"marker\":{\"line\":{\"color\":\"#E5ECF6\",\"width\":0.5},\"pattern\":{\"fillmode\":\"overlay\",\"size\":10,\"solidity\":0.2}},\"type\":\"bar\"}],\"carpet\":[{\"aaxis\":{\"endlinecolor\":\"#2a3f5f\",\"gridcolor\":\"white\",\"linecolor\":\"white\",\"minorgridcolor\":\"white\",\"startlinecolor\":\"#2a3f5f\"},\"baxis\":{\"endlinecolor\":\"#2a3f5f\",\"gridcolor\":\"white\",\"linecolor\":\"white\",\"minorgridcolor\":\"white\",\"startlinecolor\":\"#2a3f5f\"},\"type\":\"carpet\"}],\"choropleth\":[{\"colorbar\":{\"outlinewidth\":0,\"ticks\":\"\"},\"type\":\"choropleth\"}],\"contourcarpet\":[{\"colorbar\":{\"outlinewidth\":0,\"ticks\":\"\"},\"type\":\"contourcarpet\"}],\"contour\":[{\"colorbar\":{\"outlinewidth\":0,\"ticks\":\"\"},\"colorscale\":[[0.0,\"#0d0887\"],[0.1111111111111111,\"#46039f\"],[0.2222222222222222,\"#7201a8\"],[0.3333333333333333,\"#9c179e\"],[0.4444444444444444,\"#bd3786\"],[0.5555555555555556,\"#d8576b\"],[0.6666666666666666,\"#ed7953\"],[0.7777777777777778,\"#fb9f3a\"],[0.8888888888888888,\"#fdca26\"],[1.0,\"#f0f921\"]],\"type\":\"contour\"}],\"heatmapgl\":[{\"colorbar\":{\"outlinewidth\":0,\"ticks\":\"\"},\"colorscale\":[[0.0,\"#0d0887\"],[0.1111111111111111,\"#46039f\"],[0.2222222222222222,\"#7201a8\"],[0.3333333333333333,\"#9c179e\"],[0.4444444444444444,\"#bd3786\"],[0.5555555555555556,\"#d8576b\"],[0.6666666666666666,\"#ed7953\"],[0.7777777777777778,\"#fb9f3a\"],[0.8888888888888888,\"#fdca26\"],[1.0,\"#f0f921\"]],\"type\":\"heatmapgl\"}],\"heatmap\":[{\"colorbar\":{\"outlinewidth\":0,\"ticks\":\"\"},\"colorscale\":[[0.0,\"#0d0887\"],[0.1111111111111111,\"#46039f\"],[0.2222222222222222,\"#7201a8\"],[0.3333333333333333,\"#9c179e\"],[0.4444444444444444,\"#bd3786\"],[0.5555555555555556,\"#d8576b\"],[0.6666666666666666,\"#ed7953\"],[0.7777777777777778,\"#fb9f3a\"],[0.8888888888888888,\"#fdca26\"],[1.0,\"#f0f921\"]],\"type\":\"heatmap\"}],\"histogram2dcontour\":[{\"colorbar\":{\"outlinewidth\":0,\"ticks\":\"\"},\"colorscale\":[[0.0,\"#0d0887\"],[0.1111111111111111,\"#46039f\"],[0.2222222222222222,\"#7201a8\"],[0.3333333333333333,\"#9c179e\"],[0.4444444444444444,\"#bd3786\"],[0.5555555555555556,\"#d8576b\"],[0.6666666666666666,\"#ed7953\"],[0.7777777777777778,\"#fb9f3a\"],[0.8888888888888888,\"#fdca26\"],[1.0,\"#f0f921\"]],\"type\":\"histogram2dcontour\"}],\"histogram2d\":[{\"colorbar\":{\"outlinewidth\":0,\"ticks\":\"\"},\"colorscale\":[[0.0,\"#0d0887\"],[0.1111111111111111,\"#46039f\"],[0.2222222222222222,\"#7201a8\"],[0.3333333333333333,\"#9c179e\"],[0.4444444444444444,\"#bd3786\"],[0.5555555555555556,\"#d8576b\"],[0.6666666666666666,\"#ed7953\"],[0.7777777777777778,\"#fb9f3a\"],[0.8888888888888888,\"#fdca26\"],[1.0,\"#f0f921\"]],\"type\":\"histogram2d\"}],\"histogram\":[{\"marker\":{\"pattern\":{\"fillmode\":\"overlay\",\"size\":10,\"solidity\":0.2}},\"type\":\"histogram\"}],\"mesh3d\":[{\"colorbar\":{\"outlinewidth\":0,\"ticks\":\"\"},\"type\":\"mesh3d\"}],\"parcoords\":[{\"line\":{\"colorbar\":{\"outlinewidth\":0,\"ticks\":\"\"}},\"type\":\"parcoords\"}],\"pie\":[{\"automargin\":true,\"type\":\"pie\"}],\"scatter3d\":[{\"line\":{\"colorbar\":{\"outlinewidth\":0,\"ticks\":\"\"}},\"marker\":{\"colorbar\":{\"outlinewidth\":0,\"ticks\":\"\"}},\"type\":\"scatter3d\"}],\"scattercarpet\":[{\"marker\":{\"colorbar\":{\"outlinewidth\":0,\"ticks\":\"\"}},\"type\":\"scattercarpet\"}],\"scattergeo\":[{\"marker\":{\"colorbar\":{\"outlinewidth\":0,\"ticks\":\"\"}},\"type\":\"scattergeo\"}],\"scattergl\":[{\"marker\":{\"colorbar\":{\"outlinewidth\":0,\"ticks\":\"\"}},\"type\":\"scattergl\"}],\"scattermapbox\":[{\"marker\":{\"colorbar\":{\"outlinewidth\":0,\"ticks\":\"\"}},\"type\":\"scattermapbox\"}],\"scatterpolargl\":[{\"marker\":{\"colorbar\":{\"outlinewidth\":0,\"ticks\":\"\"}},\"type\":\"scatterpolargl\"}],\"scatterpolar\":[{\"marker\":{\"colorbar\":{\"outlinewidth\":0,\"ticks\":\"\"}},\"type\":\"scatterpolar\"}],\"scatter\":[{\"fillpattern\":{\"fillmode\":\"overlay\",\"size\":10,\"solidity\":0.2},\"type\":\"scatter\"}],\"scatterternary\":[{\"marker\":{\"colorbar\":{\"outlinewidth\":0,\"ticks\":\"\"}},\"type\":\"scatterternary\"}],\"surface\":[{\"colorbar\":{\"outlinewidth\":0,\"ticks\":\"\"},\"colorscale\":[[0.0,\"#0d0887\"],[0.1111111111111111,\"#46039f\"],[0.2222222222222222,\"#7201a8\"],[0.3333333333333333,\"#9c179e\"],[0.4444444444444444,\"#bd3786\"],[0.5555555555555556,\"#d8576b\"],[0.6666666666666666,\"#ed7953\"],[0.7777777777777778,\"#fb9f3a\"],[0.8888888888888888,\"#fdca26\"],[1.0,\"#f0f921\"]],\"type\":\"surface\"}],\"table\":[{\"cells\":{\"fill\":{\"color\":\"#EBF0F8\"},\"line\":{\"color\":\"white\"}},\"header\":{\"fill\":{\"color\":\"#C8D4E3\"},\"line\":{\"color\":\"white\"}},\"type\":\"table\"}]},\"layout\":{\"annotationdefaults\":{\"arrowcolor\":\"#2a3f5f\",\"arrowhead\":0,\"arrowwidth\":1},\"autotypenumbers\":\"strict\",\"coloraxis\":{\"colorbar\":{\"outlinewidth\":0,\"ticks\":\"\"}},\"colorscale\":{\"diverging\":[[0,\"#8e0152\"],[0.1,\"#c51b7d\"],[0.2,\"#de77ae\"],[0.3,\"#f1b6da\"],[0.4,\"#fde0ef\"],[0.5,\"#f7f7f7\"],[0.6,\"#e6f5d0\"],[0.7,\"#b8e186\"],[0.8,\"#7fbc41\"],[0.9,\"#4d9221\"],[1,\"#276419\"]],\"sequential\":[[0.0,\"#0d0887\"],[0.1111111111111111,\"#46039f\"],[0.2222222222222222,\"#7201a8\"],[0.3333333333333333,\"#9c179e\"],[0.4444444444444444,\"#bd3786\"],[0.5555555555555556,\"#d8576b\"],[0.6666666666666666,\"#ed7953\"],[0.7777777777777778,\"#fb9f3a\"],[0.8888888888888888,\"#fdca26\"],[1.0,\"#f0f921\"]],\"sequentialminus\":[[0.0,\"#0d0887\"],[0.1111111111111111,\"#46039f\"],[0.2222222222222222,\"#7201a8\"],[0.3333333333333333,\"#9c179e\"],[0.4444444444444444,\"#bd3786\"],[0.5555555555555556,\"#d8576b\"],[0.6666666666666666,\"#ed7953\"],[0.7777777777777778,\"#fb9f3a\"],[0.8888888888888888,\"#fdca26\"],[1.0,\"#f0f921\"]]},\"colorway\":[\"#636efa\",\"#EF553B\",\"#00cc96\",\"#ab63fa\",\"#FFA15A\",\"#19d3f3\",\"#FF6692\",\"#B6E880\",\"#FF97FF\",\"#FECB52\"],\"font\":{\"color\":\"#2a3f5f\"},\"geo\":{\"bgcolor\":\"white\",\"lakecolor\":\"white\",\"landcolor\":\"#E5ECF6\",\"showlakes\":true,\"showland\":true,\"subunitcolor\":\"white\"},\"hoverlabel\":{\"align\":\"left\"},\"hovermode\":\"closest\",\"mapbox\":{\"style\":\"light\"},\"paper_bgcolor\":\"white\",\"plot_bgcolor\":\"#E5ECF6\",\"polar\":{\"angularaxis\":{\"gridcolor\":\"white\",\"linecolor\":\"white\",\"ticks\":\"\"},\"bgcolor\":\"#E5ECF6\",\"radialaxis\":{\"gridcolor\":\"white\",\"linecolor\":\"white\",\"ticks\":\"\"}},\"scene\":{\"xaxis\":{\"backgroundcolor\":\"#E5ECF6\",\"gridcolor\":\"white\",\"gridwidth\":2,\"linecolor\":\"white\",\"showbackground\":true,\"ticks\":\"\",\"zerolinecolor\":\"white\"},\"yaxis\":{\"backgroundcolor\":\"#E5ECF6\",\"gridcolor\":\"white\",\"gridwidth\":2,\"linecolor\":\"white\",\"showbackground\":true,\"ticks\":\"\",\"zerolinecolor\":\"white\"},\"zaxis\":{\"backgroundcolor\":\"#E5ECF6\",\"gridcolor\":\"white\",\"gridwidth\":2,\"linecolor\":\"white\",\"showbackground\":true,\"ticks\":\"\",\"zerolinecolor\":\"white\"}},\"shapedefaults\":{\"line\":{\"color\":\"#2a3f5f\"}},\"ternary\":{\"aaxis\":{\"gridcolor\":\"white\",\"linecolor\":\"white\",\"ticks\":\"\"},\"baxis\":{\"gridcolor\":\"white\",\"linecolor\":\"white\",\"ticks\":\"\"},\"bgcolor\":\"#E5ECF6\",\"caxis\":{\"gridcolor\":\"white\",\"linecolor\":\"white\",\"ticks\":\"\"}},\"title\":{\"x\":0.05},\"xaxis\":{\"automargin\":true,\"gridcolor\":\"white\",\"linecolor\":\"white\",\"ticks\":\"\",\"title\":{\"standoff\":15},\"zerolinecolor\":\"white\",\"zerolinewidth\":2},\"yaxis\":{\"automargin\":true,\"gridcolor\":\"white\",\"linecolor\":\"white\",\"ticks\":\"\",\"title\":{\"standoff\":15},\"zerolinecolor\":\"white\",\"zerolinewidth\":2}}},\"title\":{\"text\":\"Highest and Lowest Rated Restaurants in the USA by City\"},\"xaxis\":{\"tickangle\":-45,\"title\":{\"text\":\"City\"}},\"yaxis\":{\"range\":[0,5],\"title\":{\"text\":\"Aggregate Rating\"}}},                        {\"responsive\": true}                    ).then(function(){\n",
       "                            \n",
       "var gd = document.getElementById('f4429ba1-4f2d-47f9-8b51-640f9ea081c3');\n",
       "var x = new MutationObserver(function (mutations, observer) {{\n",
       "        var display = window.getComputedStyle(gd).display;\n",
       "        if (!display || display === 'none') {{\n",
       "            console.log([gd, 'removed!']);\n",
       "            Plotly.purge(gd);\n",
       "            observer.disconnect();\n",
       "        }}\n",
       "}});\n",
       "\n",
       "// Listen for the removal of the full notebook cells\n",
       "var notebookContainer = gd.closest('#notebook-container');\n",
       "if (notebookContainer) {{\n",
       "    x.observe(notebookContainer, {childList: true});\n",
       "}}\n",
       "\n",
       "// Listen for the clearing of the current output cell\n",
       "var outputEl = gd.closest('.output');\n",
       "if (outputEl) {{\n",
       "    x.observe(outputEl, {childList: true});\n",
       "}}\n",
       "\n",
       "                        })                };                });            </script>        </div>"
      ]
     },
     "metadata": {},
     "output_type": "display_data"
    }
   ],
   "source": [
    "import plotly.graph_objs as go\n",
    "from plotly.offline import init_notebook_mode, iplot\n",
    "\n",
    "# Initialize Plotly for notebook mode\n",
    "init_notebook_mode(connected=True)\n",
    "\n",
    "# Filter data for India and USA based on 'Country Code'\n",
    "df_india = highest_lowest_rated_df[highest_lowest_rated_df['Country Code'] == 1]\n",
    "df_usa = highest_lowest_rated_df[highest_lowest_rated_df['Country Code'] == 216]\n",
    "\n",
    "# Define the function to create bar traces\n",
    "def create_bar_trace(data, rating_type, color):\n",
    "    return go.Bar(\n",
    "        x=data['City'],\n",
    "        y=data[f'Aggregate rating_{rating_type}'],\n",
    "        name=f'{rating_type.capitalize()} Rated Restaurants',\n",
    "        marker=dict(color=color),\n",
    "        text=data[f'Restaurant Name_{rating_type}'],\n",
    "        textposition='auto',\n",
    "        hovertemplate=\n",
    "            'Restaurant: %{text}<br>' +\n",
    "            'Rating: %{y}<br>' +\n",
    "            'City: %{x}<extra></extra>'\n",
    "    )\n",
    "\n",
    "# Create bar traces for India\n",
    "trace_india_highest = create_bar_trace(df_india, 'highest', 'blue')\n",
    "trace_india_lowest = create_bar_trace(df_india, 'lowest', 'red')\n",
    "\n",
    "# Create bar traces for USA\n",
    "trace_usa_highest = create_bar_trace(df_usa, 'highest', 'green')\n",
    "trace_usa_lowest = create_bar_trace(df_usa, 'lowest', 'orange')\n",
    "\n",
    "# Define layout for the plot\n",
    "def create_layout(title):\n",
    "    return go.Layout(\n",
    "        title=title,\n",
    "        xaxis_title='City',\n",
    "        yaxis_title='Aggregate Rating',\n",
    "        barmode='group',\n",
    "        xaxis=dict(\n",
    "            tickangle=-45,\n",
    "            title='City'\n",
    "        ),\n",
    "        yaxis=dict(\n",
    "            title='Aggregate Rating',\n",
    "            range=[0, 5]\n",
    "        ),\n",
    "        plot_bgcolor='rgba(245, 246, 249, 1)',\n",
    "        legend=dict(\n",
    "            x=0,\n",
    "            y=1,\n",
    "            traceorder='normal',\n",
    "            font=dict(\n",
    "                family='sans-serif',\n",
    "                size=12,\n",
    "                color='#000'\n",
    "            ),\n",
    "            bgcolor='#E2E2E2',\n",
    "            bordercolor='#FFFFFF',\n",
    "            borderwidth=2\n",
    "        )\n",
    "    )\n",
    "\n",
    "# Create and display the figures\n",
    "# Plot for India\n",
    "fig_india = go.Figure(data=[\n",
    "    trace_india_highest, trace_india_lowest\n",
    "], layout=create_layout('Highest and Lowest Rated Restaurants in India by City'))\n",
    "\n",
    "# Plot for USA\n",
    "fig_usa = go.Figure(data=[\n",
    "    trace_usa_highest, trace_usa_lowest\n",
    "], layout=create_layout('Highest and Lowest Rated Restaurants in the USA by City'))\n",
    "\n",
    "# Show the interactive plots\n",
    "iplot(fig_india, filename='highest_lowest_rated_restaurants_india_by_city')\n",
    "iplot(fig_usa, filename='highest_lowest_rated_restaurants_usa_by_city')"
   ]
  },
  {
   "cell_type": "markdown",
   "id": "61476df4",
   "metadata": {},
   "source": [
    "#### Find out the ratio between restaurants that allow table booking vs. those that do not allow table booking"
   ]
  },
  {
   "cell_type": "code",
   "execution_count": 128,
   "id": "c140cdce",
   "metadata": {},
   "outputs": [
    {
     "name": "stderr",
     "output_type": "stream",
     "text": [
      "C:\\Users\\USER\\AppData\\Local\\Temp\\ipykernel_32492\\1499898709.py:8: SettingWithCopyWarning: \n",
      "A value is trying to be set on a copy of a slice from a DataFrame.\n",
      "Try using .loc[row_indexer,col_indexer] = value instead\n",
      "\n",
      "See the caveats in the documentation: https://pandas.pydata.org/pandas-docs/stable/user_guide/indexing.html#returning-a-view-versus-a-copy\n",
      "  df_india_usa['Country'] = df_india_usa['Country Code'].replace({india_code: 'India', usa_code: 'USA'})\n"
     ]
    },
    {
     "data": {
      "image/png": "[encoded data removed]",
      "text/plain": [
       "<Figure size 1400x700 with 1 Axes>"
      ]
     },
     "metadata": {},
     "output_type": "display_data"
    }
   ],
   "source": [
    "india_code = 1\n",
    "usa_code = 216\n",
    "\n",
    "# Filter the data for India and USA\n",
    "df_india_usa = df[(df['Country Code'] == india_code) | (df['Country Code'] == usa_code)]\n",
    "\n",
    "# Replace the country code with actual country names for better readability in the plot\n",
    "df_india_usa['Country'] = df_india_usa['Country Code'].replace({india_code: 'India', usa_code: 'USA'})\n",
    "\n",
    "# Plot the distribution of ratings\n",
    "plt.figure(figsize=(14, 7))\n",
    "palette = {\"India\": \"purple\", \"USA\": \"green\"}\n",
    "sns.histplot(data=df_india_usa, x='Aggregate rating', hue='Country', multiple='stack', bins=20, kde=True, palette=palette)\n",
    "\n",
    "# Set the title and labels\n",
    "plt.title('Distribution of Restaurant Ratings for India and USA')\n",
    "plt.xlabel('Aggregate Rating')\n",
    "plt.ylabel('Count')\n",
    "\n",
    "# Show the plot\n",
    "plt.show()"
   ]
  },
  {
   "cell_type": "code",
   "execution_count": 175,
   "id": "e1ba00fc",
   "metadata": {},
   "outputs": [
    {
     "data": {
      "image/png": "[encoded data removed]",
      "text/plain": [
       "<Figure size 640x480 with 1 Axes>"
      ]
     },
     "metadata": {},
     "output_type": "display_data"
    }
   ],
   "source": [
    "# Calculate counts for table booking\n",
    "table_booking_counts = df['Has Table booking'].value_counts()\n",
    "booking_allow = table_booking_counts.get('Yes', 0)\n",
    "booking_not_allow = table_booking_counts.get('No', 0)\n",
    "\n",
    "labels = ['Allows Table Booking', 'Does Not Allow Table Booking']\n",
    "values = [booking_allow, booking_not_allow]\n",
    "\n",
    "# Creating a pie chart to visualize the ratio\n",
    "fig, ax = plt.subplots()\n",
    "ax.pie(values, explode=(0.1,0), labels=labels, autopct='%1.2f%%', colors=['#4CAF50', '#FF5722'], startangle=140)\n",
    "ax.axis('equal')\n",
    "\n",
    "plt.title('Ratio of Restaurants Allowing Table Booking vs. Not Allowing')\n",
    "plt.show()"
   ]
  },
  {
   "cell_type": "markdown",
   "id": "36fb3b01",
   "metadata": {},
   "source": [
    "##### Find out the percentage of restaurants providing online delivery"
   ]
  },
  {
   "cell_type": "code",
   "execution_count": 180,
   "id": "93239651",
   "metadata": {},
   "outputs": [
    {
     "data": {
      "image/png": "[encoded data removed]",
      "text/plain": [
       "<Figure size 640x480 with 1 Axes>"
      ]
     },
     "metadata": {},
     "output_type": "display_data"
    }
   ],
   "source": [
    "# Calculate counts for online delivery\n",
    "online_delivery_counts = df['Has Online delivery'].value_counts()\n",
    "delivery_provide = online_delivery_counts.get('Yes', 0)\n",
    "delivery_not_provide = online_delivery_counts.get('No', 0)\n",
    "\n",
    "total_restaurants = delivery_provide + delivery_not_provide\n",
    "\n",
    "percentage_provide = (delivery_provide / total_restaurants) * 100\n",
    "\n",
    "labels = ['Provides Online Delivery', 'Does Not Provide Online Delivery']\n",
    "values = [delivery_provide, delivery_not_provide]\n",
    "\n",
    "# Creatng a pie chart to visualize the percentage\n",
    "fig, ax = plt.subplots()\n",
    "ax.pie(values, explode=(0.1,0), labels=labels, autopct='%1.2f%%', colors=['#4CAF50', '#FF5722'], startangle=160)\n",
    "ax.axis('equal')\n",
    "\n",
    "plt.title(f'Percentage of Restaurants Providing Online Delivery\\n(Provides: {percentage_provide:.1f}%)')\n",
    "plt.show()"
   ]
  },
  {
   "cell_type": "markdown",
   "id": "9ae8be15",
   "metadata": {},
   "source": [
    "##### Calculate the difference in number of votes for the restaurants that deliver and the restaurants that do not deliver"
   ]
  },
  {
   "cell_type": "code",
   "execution_count": 186,
   "id": "c7742792",
   "metadata": {},
   "outputs": [
    {
     "data": {
      "image/png": "[encoded data removed]",
      "text/plain": [
       "<Figure size 640x480 with 1 Axes>"
      ]
     },
     "metadata": {},
     "output_type": "display_data"
    },
    {
     "name": "stdout",
     "output_type": "stream",
     "text": [
      "Total number of votes for restaurants providing online delivery: 517914\n",
      "Total number of votes for restaurants not providing online delivery: 979962\n"
     ]
    }
   ],
   "source": [
    "total_votes_online_delivery = df[df['Has Online delivery'] == 'Yes']['Votes'].sum()\n",
    "total_votes_no_online_delivery = df[df['Has Online delivery'] == 'No']['Votes'].sum()\n",
    "\n",
    "labels = ['Provides Online Delivery', 'Does Not Provide Online Delivery']\n",
    "values = [total_votes_online_delivery, total_votes_no_online_delivery]\n",
    "\n",
    "# Creating a pie chart to visualize the total number of votes\n",
    "fig, ax = plt.subplots()\n",
    "ax.pie(values, explode=(0.1,0), labels=labels, autopct='%1.2f%%', colors=['#4CAF50', '#FF5722'], startangle=120)\n",
    "\n",
    "plt.title('Total Number of Votes for Restaurants by Online Delivery Availability')\n",
    "plt.show()\n",
    "\n",
    "# Print out the total votes for both categories\n",
    "print(f\"Total number of votes for restaurants providing online delivery: {total_votes_online_delivery}\")\n",
    "print(f\"Total number of votes for restaurants not providing online delivery: {total_votes_no_online_delivery}\")"
   ]
  },
  {
   "cell_type": "markdown",
   "id": "1ca6217e",
   "metadata": {},
   "source": [
    "#### What are the top 10 cuisines served across cities?"
   ]
  },
  {
   "cell_type": "code",
   "execution_count": 189,
   "id": "c3633006",
   "metadata": {},
   "outputs": [
    {
     "data": {
      "text/plain": [
       "North Indian                                                  936\n",
       "North Indian, Chinese                                         511\n",
       "Chinese                                                       354\n",
       "Fast Food                                                     354\n",
       "North Indian, Mughlai                                         334\n",
       "                                                             ... \n",
       "North Indian, Afghani                                           1\n",
       "North Indian, South Indian, Street Food, Fast Food, Mithai      1\n",
       "North Indian, Chinese, Italian, Mexican, Lebanese               1\n",
       "Awadhi, Mughlai, North Indian                                   1\n",
       "Cafe, Continental, Desserts, Ice Cream, Italian, Beverages      1\n",
       "Name: Cuisines, Length: 1826, dtype: int64"
      ]
     },
     "execution_count": 189,
     "metadata": {},
     "output_type": "execute_result"
    }
   ],
   "source": [
    "df['Cuisines'].value_counts()"
   ]
  },
  {
   "cell_type": "code",
   "execution_count": 201,
   "id": "817dc6cf",
   "metadata": {},
   "outputs": [
    {
     "data": {
      "image/png": "[encoded data removed]",
      "text/plain": [
       "<Figure size 1200x800 with 1 Axes>"
      ]
     },
     "metadata": {},
     "output_type": "display_data"
    }
   ],
   "source": [
    "cuisines_series = df['Cuisines'].str.split(', ', expand=True).stack()\n",
    "cuisines_count = cuisines_series.value_counts()\n",
    "\n",
    "# Get the top 10 cuisines\n",
    "top_10_cuisines = cuisines_count.head(10)\n",
    "\n",
    "# Prepare data for visualization\n",
    "labels = top_10_cuisines.index\n",
    "values = top_10_cuisines.values\n",
    "\n",
    "# Create a bar chart to visualize the top 10 cuisines\n",
    "fig, ax = plt.subplots(figsize=(12, 8))\n",
    "bars = ax.bar(labels, values, color='gold')\n",
    "\n",
    "# Add a title and labels\n",
    "plt.title('Top 10 Cuisines Served Across Cities')\n",
    "plt.xlabel('Cuisines')\n",
    "plt.ylabel('Number of Restaurants')\n",
    "plt.xticks(rotation=45, ha='right')\n",
    "\n",
    "# Annotate bars with counts\n",
    "for bar in bars:\n",
    "    height = bar.get_height()\n",
    "    ax.annotate(f'{height}',\n",
    "                xy=(bar.get_x() + bar.get_width() / 2, height),\n",
    "                xytext=(0, 3),  # 3 points vertical offset\n",
    "                textcoords=\"offset points\",\n",
    "                ha='center', va='bottom')\n",
    "\n",
    "plt.show()"
   ]
  },
  {
   "cell_type": "code",
   "execution_count": 198,
   "id": "93c266dd",
   "metadata": {},
   "outputs": [
    {
     "data": {
      "text/plain": [
       "0     0         Italian\n",
       "      1     Continental\n",
       "1     0           Asian\n",
       "      1      Indonesian\n",
       "      2         Western\n",
       "               ...     \n",
       "9547  4         Italian\n",
       "      5       Beverages\n",
       "9548  0     Street Food\n",
       "9549  0         Chinese\n",
       "      1    North Indian\n",
       "Length: 19715, dtype: object"
      ]
     },
     "execution_count": 198,
     "metadata": {},
     "output_type": "execute_result"
    }
   ],
   "source": [
    "cuisines_series"
   ]
  },
  {
   "cell_type": "markdown",
   "id": "066cf1f0",
   "metadata": {},
   "source": [
    "#### What is the maximum and minimum no. of cuisines that a restaurant serves? Also, what is the relationship between No. of cuisines served and Ratings"
   ]
  },
  {
   "cell_type": "code",
   "execution_count": 203,
   "id": "a013557f",
   "metadata": {},
   "outputs": [
    {
     "name": "stdout",
     "output_type": "stream",
     "text": [
      "Maximum number of cuisines served by a restaurant: 8\n",
      "Minimum number of cuisines served by a restaurant: 1\n"
     ]
    }
   ],
   "source": [
    "df['Number_of_Cuisines'] = df['Cuisines'].str.split(',').apply(len)\n",
    "\n",
    "max_cuisines = df['Number_of_Cuisines'].max()\n",
    "min_cuisines = df['Number_of_Cuisines'].min()\n",
    "\n",
    "print(f\"Maximum number of cuisines served by a restaurant: {max_cuisines}\")\n",
    "print(f\"Minimum number of cuisines served by a restaurant: {min_cuisines}\")"
   ]
  },
  {
   "cell_type": "code",
   "execution_count": 204,
   "id": "b933b425",
   "metadata": {
    "scrolled": true
   },
   "outputs": [
    {
     "data": {
      "text/plain": [
       "0       2\n",
       "1       3\n",
       "2       2\n",
       "3       1\n",
       "4       2\n",
       "       ..\n",
       "9545    3\n",
       "9546    3\n",
       "9547    6\n",
       "9548    1\n",
       "9549    2\n",
       "Name: Number_of_Cuisines, Length: 9550, dtype: int64"
      ]
     },
     "execution_count": 204,
     "metadata": {},
     "output_type": "execute_result"
    }
   ],
   "source": [
    "df['Number_of_Cuisines']"
   ]
  },
  {
   "cell_type": "code",
   "execution_count": 217,
   "id": "72a06f1b",
   "metadata": {
    "scrolled": false
   },
   "outputs": [
    {
     "data": {
      "text/html": [
       "<div>\n",
       "<style scoped>\n",
       "    .dataframe tbody tr th:only-of-type {\n",
       "        vertical-align: middle;\n",
       "    }\n",
       "\n",
       "    .dataframe tbody tr th {\n",
       "        vertical-align: top;\n",
       "    }\n",
       "\n",
       "    .dataframe thead th {\n",
       "        text-align: right;\n",
       "    }\n",
       "</style>\n",
       "<table border=\"1\" class=\"dataframe\">\n",
       "  <thead>\n",
       "    <tr style=\"text-align: right;\">\n",
       "      <th></th>\n",
       "      <th>Country Code</th>\n",
       "      <th>City</th>\n",
       "      <th>Restaurant Name_highest</th>\n",
       "      <th>Cuisines_highest</th>\n",
       "      <th>Number_of_Cuisines_highest</th>\n",
       "      <th>Restaurant Name_lowest</th>\n",
       "      <th>Cuisines_lowest</th>\n",
       "      <th>Number_of_Cuisines_lowest</th>\n",
       "    </tr>\n",
       "  </thead>\n",
       "  <tbody>\n",
       "    <tr>\n",
       "      <th>0</th>\n",
       "      <td>1</td>\n",
       "      <td>Agra</td>\n",
       "      <td>Chapter 1 Cafe</td>\n",
       "      <td>Cafe, Italian, Mexican, North Indian, Continental</td>\n",
       "      <td>5</td>\n",
       "      <td>Chokho Jeeman Marwari Jain Bhojanalya</td>\n",
       "      <td>Rajasthani</td>\n",
       "      <td>1</td>\n",
       "    </tr>\n",
       "    <tr>\n",
       "      <th>1</th>\n",
       "      <td>1</td>\n",
       "      <td>Ahmedabad</td>\n",
       "      <td>Nini's Kitchen</td>\n",
       "      <td>North Indian, Continental, Beverages, Italian,...</td>\n",
       "      <td>7</td>\n",
       "      <td>Turquoise Villa</td>\n",
       "      <td>Continental</td>\n",
       "      <td>1</td>\n",
       "    </tr>\n",
       "    <tr>\n",
       "      <th>2</th>\n",
       "      <td>1</td>\n",
       "      <td>Allahabad</td>\n",
       "      <td>Subway</td>\n",
       "      <td>Fast Food, American, Salad, Healthy Food</td>\n",
       "      <td>4</td>\n",
       "      <td>Eat On</td>\n",
       "      <td>North Indian</td>\n",
       "      <td>1</td>\n",
       "    </tr>\n",
       "    <tr>\n",
       "      <th>3</th>\n",
       "      <td>1</td>\n",
       "      <td>Amritsar</td>\n",
       "      <td>Shudh Restaurant</td>\n",
       "      <td>North Indian, South Indian, Chinese, Fast Food</td>\n",
       "      <td>4</td>\n",
       "      <td>Gurdas Ram Jalebi Wala</td>\n",
       "      <td>Mithai</td>\n",
       "      <td>1</td>\n",
       "    </tr>\n",
       "    <tr>\n",
       "      <th>4</th>\n",
       "      <td>1</td>\n",
       "      <td>Aurangabad</td>\n",
       "      <td>Madhuban Restaurant - Welcome Hotel Rama Inter...</td>\n",
       "      <td>North Indian, Chinese, Continental, Italian, M...</td>\n",
       "      <td>5</td>\n",
       "      <td>Bhoj Restaurant</td>\n",
       "      <td>North Indian</td>\n",
       "      <td>1</td>\n",
       "    </tr>\n",
       "    <tr>\n",
       "      <th>...</th>\n",
       "      <td>...</td>\n",
       "      <td>...</td>\n",
       "      <td>...</td>\n",
       "      <td>...</td>\n",
       "      <td>...</td>\n",
       "      <td>...</td>\n",
       "      <td>...</td>\n",
       "      <td>...</td>\n",
       "    </tr>\n",
       "    <tr>\n",
       "      <th>136</th>\n",
       "      <td>216</td>\n",
       "      <td>Valdosta</td>\n",
       "      <td>Mori's Japanese Steakhouse &amp; Sushi Bar</td>\n",
       "      <td>Japanese, Steak, Sushi</td>\n",
       "      <td>3</td>\n",
       "      <td>La Jalisco Supermercato</td>\n",
       "      <td>Mexican</td>\n",
       "      <td>1</td>\n",
       "    </tr>\n",
       "    <tr>\n",
       "      <th>137</th>\n",
       "      <td>216</td>\n",
       "      <td>Vernonia</td>\n",
       "      <td>Blue House Cafe</td>\n",
       "      <td>Coffee and Tea, Mediterranean</td>\n",
       "      <td>2</td>\n",
       "      <td>Blue House Cafe</td>\n",
       "      <td>Coffee and Tea, Mediterranean</td>\n",
       "      <td>2</td>\n",
       "    </tr>\n",
       "    <tr>\n",
       "      <th>138</th>\n",
       "      <td>216</td>\n",
       "      <td>Waterloo</td>\n",
       "      <td>Montage</td>\n",
       "      <td>American, Italian, Seafood</td>\n",
       "      <td>3</td>\n",
       "      <td>The Thai Bowl</td>\n",
       "      <td>Thai</td>\n",
       "      <td>1</td>\n",
       "    </tr>\n",
       "    <tr>\n",
       "      <th>139</th>\n",
       "      <td>216</td>\n",
       "      <td>Weirton</td>\n",
       "      <td>Theo Yianni's Authentic Greek Restaurant</td>\n",
       "      <td>Burger, Greek, Sandwich</td>\n",
       "      <td>3</td>\n",
       "      <td>Theo Yianni's Authentic Greek Restaurant</td>\n",
       "      <td>Burger, Greek, Sandwich</td>\n",
       "      <td>3</td>\n",
       "    </tr>\n",
       "    <tr>\n",
       "      <th>140</th>\n",
       "      <td>216</td>\n",
       "      <td>Winchester Bay</td>\n",
       "      <td>Fishpatrick's Crabby Cafe</td>\n",
       "      <td>Burger, Seafood, Steak</td>\n",
       "      <td>3</td>\n",
       "      <td>Fishpatrick's Crabby Cafe</td>\n",
       "      <td>Burger, Seafood, Steak</td>\n",
       "      <td>3</td>\n",
       "    </tr>\n",
       "  </tbody>\n",
       "</table>\n",
       "<p>141 rows × 8 columns</p>\n",
       "</div>"
      ],
      "text/plain": [
       "     Country Code            City  \\\n",
       "0               1            Agra   \n",
       "1               1       Ahmedabad   \n",
       "2               1       Allahabad   \n",
       "3               1        Amritsar   \n",
       "4               1      Aurangabad   \n",
       "..            ...             ...   \n",
       "136           216        Valdosta   \n",
       "137           216        Vernonia   \n",
       "138           216        Waterloo   \n",
       "139           216         Weirton   \n",
       "140           216  Winchester Bay   \n",
       "\n",
       "                               Restaurant Name_highest  \\\n",
       "0                                       Chapter 1 Cafe   \n",
       "1                                       Nini's Kitchen   \n",
       "2                                               Subway   \n",
       "3                                     Shudh Restaurant   \n",
       "4    Madhuban Restaurant - Welcome Hotel Rama Inter...   \n",
       "..                                                 ...   \n",
       "136             Mori's Japanese Steakhouse & Sushi Bar   \n",
       "137                                    Blue House Cafe   \n",
       "138                                            Montage   \n",
       "139           Theo Yianni's Authentic Greek Restaurant   \n",
       "140                          Fishpatrick's Crabby Cafe   \n",
       "\n",
       "                                      Cuisines_highest  \\\n",
       "0    Cafe, Italian, Mexican, North Indian, Continental   \n",
       "1    North Indian, Continental, Beverages, Italian,...   \n",
       "2             Fast Food, American, Salad, Healthy Food   \n",
       "3       North Indian, South Indian, Chinese, Fast Food   \n",
       "4    North Indian, Chinese, Continental, Italian, M...   \n",
       "..                                                 ...   \n",
       "136                             Japanese, Steak, Sushi   \n",
       "137                      Coffee and Tea, Mediterranean   \n",
       "138                         American, Italian, Seafood   \n",
       "139                            Burger, Greek, Sandwich   \n",
       "140                             Burger, Seafood, Steak   \n",
       "\n",
       "     Number_of_Cuisines_highest                    Restaurant Name_lowest  \\\n",
       "0                             5     Chokho Jeeman Marwari Jain Bhojanalya   \n",
       "1                             7                           Turquoise Villa   \n",
       "2                             4                                    Eat On   \n",
       "3                             4                    Gurdas Ram Jalebi Wala   \n",
       "4                             5                           Bhoj Restaurant   \n",
       "..                          ...                                       ...   \n",
       "136                           3                   La Jalisco Supermercato   \n",
       "137                           2                           Blue House Cafe   \n",
       "138                           3                             The Thai Bowl   \n",
       "139                           3  Theo Yianni's Authentic Greek Restaurant   \n",
       "140                           3                 Fishpatrick's Crabby Cafe   \n",
       "\n",
       "                   Cuisines_lowest  Number_of_Cuisines_lowest  \n",
       "0                       Rajasthani                          1  \n",
       "1                      Continental                          1  \n",
       "2                     North Indian                          1  \n",
       "3                           Mithai                          1  \n",
       "4                     North Indian                          1  \n",
       "..                             ...                        ...  \n",
       "136                        Mexican                          1  \n",
       "137  Coffee and Tea, Mediterranean                          2  \n",
       "138                           Thai                          1  \n",
       "139        Burger, Greek, Sandwich                          3  \n",
       "140         Burger, Seafood, Steak                          3  \n",
       "\n",
       "[141 rows x 8 columns]"
      ]
     },
     "execution_count": 217,
     "metadata": {},
     "output_type": "execute_result"
    }
   ],
   "source": [
    "# Find the highest and lowest number of cuisines in each city\n",
    "df_sorted = df.sort_values(by=['Country Code', 'City', 'Number_of_Cuisines'], ascending=[True, True, False])\n",
    "\n",
    "# Group by city and get the restaurant with the highest and lowest number of cuisines\n",
    "highest_cuisines = df_sorted.groupby(['Country Code', 'City']).first().reset_index()\n",
    "lowest_cuisines = df_sorted.groupby(['Country Code', 'City']).last().reset_index()\n",
    "\n",
    "# Merge the highest and lowest cuisines DataFrames\n",
    "highest_lowest_cuisines_df = highest_cuisines.merge(lowest_cuisines, on=['Country Code', 'City'], suffixes=('_highest', '_lowest'))\n",
    "\n",
    "# # Select and rename columns to include the required information\n",
    "# columns_to_show = {\n",
    "#     'Country Code_highest': 'Country Code',\n",
    "#     'City_highest': 'City',\n",
    "#     'Restaurant Name_highest': 'Highest Rated Restaurant Name',\n",
    "#     'Cuisines_highest': 'Cuisines (Highest)',\n",
    "#     'Number_of_Cuisines_highest': 'Number of Cuisines (Highest)',\n",
    "#     'Restaurant Name_lowest': 'Lowest Rated Restaurant Name',\n",
    "#     'Cuisines_lowest': 'Cuisines (Lowest)',\n",
    "#     'Number_of_Cuisines_lowest': 'Number of Cuisines (Lowest)'\n",
    "# }\n",
    "# highest_lowest_cuisines_df = highest_lowest_cuisines_df.rename(columns=columns_to_show)\n",
    "\n",
    "highest_lowest_cuisines_df[['Country Code', 'City', 'Restaurant Name_highest', \n",
    "                                  'Cuisines_highest', 'Number_of_Cuisines_highest', \n",
    "                                  'Restaurant Name_lowest', 'Cuisines_lowest', \n",
    "                                  'Number_of_Cuisines_lowest']]"
   ]
  },
  {
   "cell_type": "code",
   "execution_count": 208,
   "id": "1300c80a",
   "metadata": {},
   "outputs": [
    {
     "data": {
      "image/png": "[encoded data removed]",
      "text/plain": [
       "<Figure size 1200x800 with 1 Axes>"
      ]
     },
     "metadata": {},
     "output_type": "display_data"
    }
   ],
   "source": [
    "# Creating a scatter plot to visualize the relationship between Number of Cuisines and Ratings\n",
    "fig, ax = plt.subplots(figsize=(12, 8))\n",
    "scatter = ax.scatter(df['Number_of_Cuisines'], df['Aggregate rating'], alpha=0.5, color='purple')\n",
    "\n",
    "# Add a title and labels\n",
    "plt.title('Relationship Between Number of Cuisines and Ratings')\n",
    "plt.xlabel('Number of Cuisines')\n",
    "plt.ylabel('Aggregate Rating')\n",
    "\n",
    "# Add a grid for better readability\n",
    "plt.grid(True)\n",
    "\n",
    "# Show the plot\n",
    "plt.show()"
   ]
  },
  {
   "cell_type": "markdown",
   "id": "b0f931c4",
   "metadata": {},
   "source": [
    "#### What is the distribution cost across the restaurants?"
   ]
  },
  {
   "cell_type": "code",
   "execution_count": 236,
   "id": "4aff8a50",
   "metadata": {
    "scrolled": true
   },
   "outputs": [
    {
     "data": {
      "text/html": [
       "<div>\n",
       "<style scoped>\n",
       "    .dataframe tbody tr th:only-of-type {\n",
       "        vertical-align: middle;\n",
       "    }\n",
       "\n",
       "    .dataframe tbody tr th {\n",
       "        vertical-align: top;\n",
       "    }\n",
       "\n",
       "    .dataframe thead th {\n",
       "        text-align: right;\n",
       "    }\n",
       "</style>\n",
       "<table border=\"1\" class=\"dataframe\">\n",
       "  <thead>\n",
       "    <tr style=\"text-align: right;\">\n",
       "      <th></th>\n",
       "      <th>Restaurant ID</th>\n",
       "      <th>Restaurant Name</th>\n",
       "      <th>Country Code</th>\n",
       "      <th>City</th>\n",
       "      <th>Address</th>\n",
       "      <th>Locality</th>\n",
       "      <th>Locality Verbose</th>\n",
       "      <th>Longitude</th>\n",
       "      <th>Latitude</th>\n",
       "      <th>Cuisines</th>\n",
       "      <th>...</th>\n",
       "      <th>Currency</th>\n",
       "      <th>Has Table booking</th>\n",
       "      <th>Has Online delivery</th>\n",
       "      <th>Price range</th>\n",
       "      <th>Aggregate rating</th>\n",
       "      <th>Rating color</th>\n",
       "      <th>Rating text</th>\n",
       "      <th>Votes</th>\n",
       "      <th>Country</th>\n",
       "      <th>Number_of_Cuisines</th>\n",
       "    </tr>\n",
       "  </thead>\n",
       "  <tbody>\n",
       "    <tr>\n",
       "      <th>0</th>\n",
       "      <td>7402935</td>\n",
       "      <td>Skye</td>\n",
       "      <td>94</td>\n",
       "      <td>Jakarta</td>\n",
       "      <td>Menara BCA, Lantai 56, Jl. MH. Thamrin, Thamri...</td>\n",
       "      <td>Grand Indonesia Mall, Thamrin</td>\n",
       "      <td>Grand Indonesia Mall, Thamrin, Jakarta</td>\n",
       "      <td>106.821999</td>\n",
       "      <td>-6.196778</td>\n",
       "      <td>Italian, Continental</td>\n",
       "      <td>...</td>\n",
       "      <td>Indonesian Rupiah(IDR)</td>\n",
       "      <td>No</td>\n",
       "      <td>No</td>\n",
       "      <td>3</td>\n",
       "      <td>4.1</td>\n",
       "      <td>Green</td>\n",
       "      <td>Very Good</td>\n",
       "      <td>1498</td>\n",
       "      <td>Indonesia</td>\n",
       "      <td>2</td>\n",
       "    </tr>\n",
       "    <tr>\n",
       "      <th>1</th>\n",
       "      <td>7410290</td>\n",
       "      <td>Satoo - Hotel Shangri-La</td>\n",
       "      <td>94</td>\n",
       "      <td>Jakarta</td>\n",
       "      <td>Hotel Shangri-La, Jl. Jend. Sudirman</td>\n",
       "      <td>Hotel Shangri-La, Sudirman</td>\n",
       "      <td>Hotel Shangri-La, Sudirman, Jakarta</td>\n",
       "      <td>106.818961</td>\n",
       "      <td>-6.203292</td>\n",
       "      <td>Asian, Indonesian, Western</td>\n",
       "      <td>...</td>\n",
       "      <td>Indonesian Rupiah(IDR)</td>\n",
       "      <td>No</td>\n",
       "      <td>No</td>\n",
       "      <td>3</td>\n",
       "      <td>4.6</td>\n",
       "      <td>Dark Green</td>\n",
       "      <td>Excellent</td>\n",
       "      <td>873</td>\n",
       "      <td>Indonesia</td>\n",
       "      <td>3</td>\n",
       "    </tr>\n",
       "    <tr>\n",
       "      <th>2</th>\n",
       "      <td>7420899</td>\n",
       "      <td>Sushi Masa</td>\n",
       "      <td>94</td>\n",
       "      <td>Jakarta</td>\n",
       "      <td>Jl. Tuna Raya No. 5, Penjaringan</td>\n",
       "      <td>Penjaringan</td>\n",
       "      <td>Penjaringan, Jakarta</td>\n",
       "      <td>106.800144</td>\n",
       "      <td>-6.101298</td>\n",
       "      <td>Sushi, Japanese</td>\n",
       "      <td>...</td>\n",
       "      <td>Indonesian Rupiah(IDR)</td>\n",
       "      <td>No</td>\n",
       "      <td>No</td>\n",
       "      <td>3</td>\n",
       "      <td>4.9</td>\n",
       "      <td>Dark Green</td>\n",
       "      <td>Excellent</td>\n",
       "      <td>605</td>\n",
       "      <td>Indonesia</td>\n",
       "      <td>2</td>\n",
       "    </tr>\n",
       "    <tr>\n",
       "      <th>3</th>\n",
       "      <td>7421967</td>\n",
       "      <td>3 Wise Monkeys</td>\n",
       "      <td>94</td>\n",
       "      <td>Jakarta</td>\n",
       "      <td>Jl. Suryo No. 26, Senopati, Jakarta</td>\n",
       "      <td>Senopati</td>\n",
       "      <td>Senopati, Jakarta</td>\n",
       "      <td>106.813400</td>\n",
       "      <td>-6.235241</td>\n",
       "      <td>Japanese</td>\n",
       "      <td>...</td>\n",
       "      <td>Indonesian Rupiah(IDR)</td>\n",
       "      <td>No</td>\n",
       "      <td>No</td>\n",
       "      <td>3</td>\n",
       "      <td>4.2</td>\n",
       "      <td>Green</td>\n",
       "      <td>Very Good</td>\n",
       "      <td>395</td>\n",
       "      <td>Indonesia</td>\n",
       "      <td>1</td>\n",
       "    </tr>\n",
       "    <tr>\n",
       "      <th>4</th>\n",
       "      <td>7422489</td>\n",
       "      <td>Avec Moi Restaurant and Bar</td>\n",
       "      <td>94</td>\n",
       "      <td>Jakarta</td>\n",
       "      <td>Gedung PIC, Jl. Teluk Betung 43, Thamrin, Jakarta</td>\n",
       "      <td>Thamrin</td>\n",
       "      <td>Thamrin, Jakarta</td>\n",
       "      <td>106.821023</td>\n",
       "      <td>-6.196270</td>\n",
       "      <td>French, Western</td>\n",
       "      <td>...</td>\n",
       "      <td>Indonesian Rupiah(IDR)</td>\n",
       "      <td>No</td>\n",
       "      <td>No</td>\n",
       "      <td>3</td>\n",
       "      <td>4.3</td>\n",
       "      <td>Green</td>\n",
       "      <td>Very Good</td>\n",
       "      <td>243</td>\n",
       "      <td>Indonesia</td>\n",
       "      <td>2</td>\n",
       "    </tr>\n",
       "  </tbody>\n",
       "</table>\n",
       "<p>5 rows × 21 columns</p>\n",
       "</div>"
      ],
      "text/plain": [
       "   Restaurant ID              Restaurant Name  Country Code     City  \\\n",
       "0        7402935                         Skye            94  Jakarta   \n",
       "1        7410290     Satoo - Hotel Shangri-La            94  Jakarta   \n",
       "2        7420899                   Sushi Masa            94  Jakarta   \n",
       "3        7421967               3 Wise Monkeys            94  Jakarta   \n",
       "4        7422489  Avec Moi Restaurant and Bar            94  Jakarta   \n",
       "\n",
       "                                             Address  \\\n",
       "0  Menara BCA, Lantai 56, Jl. MH. Thamrin, Thamri...   \n",
       "1               Hotel Shangri-La, Jl. Jend. Sudirman   \n",
       "2                   Jl. Tuna Raya No. 5, Penjaringan   \n",
       "3                Jl. Suryo No. 26, Senopati, Jakarta   \n",
       "4  Gedung PIC, Jl. Teluk Betung 43, Thamrin, Jakarta   \n",
       "\n",
       "                        Locality                        Locality Verbose  \\\n",
       "0  Grand Indonesia Mall, Thamrin  Grand Indonesia Mall, Thamrin, Jakarta   \n",
       "1     Hotel Shangri-La, Sudirman     Hotel Shangri-La, Sudirman, Jakarta   \n",
       "2                    Penjaringan                    Penjaringan, Jakarta   \n",
       "3                       Senopati                       Senopati, Jakarta   \n",
       "4                        Thamrin                        Thamrin, Jakarta   \n",
       "\n",
       "    Longitude  Latitude                    Cuisines  ...  \\\n",
       "0  106.821999 -6.196778        Italian, Continental  ...   \n",
       "1  106.818961 -6.203292  Asian, Indonesian, Western  ...   \n",
       "2  106.800144 -6.101298             Sushi, Japanese  ...   \n",
       "3  106.813400 -6.235241                    Japanese  ...   \n",
       "4  106.821023 -6.196270             French, Western  ...   \n",
       "\n",
       "                 Currency Has Table booking Has Online delivery Price range  \\\n",
       "0  Indonesian Rupiah(IDR)                No                  No           3   \n",
       "1  Indonesian Rupiah(IDR)                No                  No           3   \n",
       "2  Indonesian Rupiah(IDR)                No                  No           3   \n",
       "3  Indonesian Rupiah(IDR)                No                  No           3   \n",
       "4  Indonesian Rupiah(IDR)                No                  No           3   \n",
       "\n",
       "   Aggregate rating  Rating color Rating text Votes    Country  \\\n",
       "0               4.1         Green   Very Good  1498  Indonesia   \n",
       "1               4.6    Dark Green   Excellent   873  Indonesia   \n",
       "2               4.9    Dark Green   Excellent   605  Indonesia   \n",
       "3               4.2         Green   Very Good   395  Indonesia   \n",
       "4               4.3         Green   Very Good   243  Indonesia   \n",
       "\n",
       "  Number_of_Cuisines  \n",
       "0                  2  \n",
       "1                  3  \n",
       "2                  2  \n",
       "3                  1  \n",
       "4                  2  \n",
       "\n",
       "[5 rows x 21 columns]"
      ]
     },
     "execution_count": 236,
     "metadata": {},
     "output_type": "execute_result"
    }
   ],
   "source": [
    "df.head()"
   ]
  },
  {
   "cell_type": "code",
   "execution_count": 240,
   "id": "21537b18",
   "metadata": {},
   "outputs": [
    {
     "data": {
      "text/html": [
       "<div>\n",
       "<style scoped>\n",
       "    .dataframe tbody tr th:only-of-type {\n",
       "        vertical-align: middle;\n",
       "    }\n",
       "\n",
       "    .dataframe tbody tr th {\n",
       "        vertical-align: top;\n",
       "    }\n",
       "\n",
       "    .dataframe thead th {\n",
       "        text-align: right;\n",
       "    }\n",
       "</style>\n",
       "<table border=\"1\" class=\"dataframe\">\n",
       "  <thead>\n",
       "    <tr style=\"text-align: right;\">\n",
       "      <th></th>\n",
       "      <th>Restaurant ID</th>\n",
       "      <th>Country Code</th>\n",
       "      <th>Longitude</th>\n",
       "      <th>Latitude</th>\n",
       "      <th>Average Cost for two</th>\n",
       "      <th>Price range</th>\n",
       "      <th>Aggregate rating</th>\n",
       "      <th>Votes</th>\n",
       "      <th>Number_of_Cuisines</th>\n",
       "    </tr>\n",
       "  </thead>\n",
       "  <tbody>\n",
       "    <tr>\n",
       "      <th>count</th>\n",
       "      <td>9.550000e+03</td>\n",
       "      <td>9550.000000</td>\n",
       "      <td>9550.000000</td>\n",
       "      <td>9550.000000</td>\n",
       "      <td>9550.000000</td>\n",
       "      <td>9550.000000</td>\n",
       "      <td>9550.000000</td>\n",
       "      <td>9550.000000</td>\n",
       "      <td>9550.000000</td>\n",
       "    </tr>\n",
       "    <tr>\n",
       "      <th>mean</th>\n",
       "      <td>9.052064e+06</td>\n",
       "      <td>18.367435</td>\n",
       "      <td>64.125697</td>\n",
       "      <td>25.854675</td>\n",
       "      <td>1199.252565</td>\n",
       "      <td>1.804712</td>\n",
       "      <td>2.666220</td>\n",
       "      <td>156.845654</td>\n",
       "      <td>2.064398</td>\n",
       "    </tr>\n",
       "    <tr>\n",
       "      <th>std</th>\n",
       "      <td>8.791506e+06</td>\n",
       "      <td>56.753239</td>\n",
       "      <td>41.469140</td>\n",
       "      <td>11.008474</td>\n",
       "      <td>16122.026663</td>\n",
       "      <td>0.905574</td>\n",
       "      <td>1.516386</td>\n",
       "      <td>430.146060</td>\n",
       "      <td>1.092602</td>\n",
       "    </tr>\n",
       "    <tr>\n",
       "      <th>min</th>\n",
       "      <td>5.300000e+01</td>\n",
       "      <td>1.000000</td>\n",
       "      <td>-157.948486</td>\n",
       "      <td>-41.330428</td>\n",
       "      <td>0.000000</td>\n",
       "      <td>1.000000</td>\n",
       "      <td>0.000000</td>\n",
       "      <td>0.000000</td>\n",
       "      <td>1.000000</td>\n",
       "    </tr>\n",
       "    <tr>\n",
       "      <th>25%</th>\n",
       "      <td>3.019902e+05</td>\n",
       "      <td>1.000000</td>\n",
       "      <td>77.081380</td>\n",
       "      <td>28.478745</td>\n",
       "      <td>250.000000</td>\n",
       "      <td>1.000000</td>\n",
       "      <td>2.500000</td>\n",
       "      <td>5.000000</td>\n",
       "      <td>1.000000</td>\n",
       "    </tr>\n",
       "    <tr>\n",
       "      <th>50%</th>\n",
       "      <td>6.004248e+06</td>\n",
       "      <td>1.000000</td>\n",
       "      <td>77.191964</td>\n",
       "      <td>28.570470</td>\n",
       "      <td>400.000000</td>\n",
       "      <td>2.000000</td>\n",
       "      <td>3.200000</td>\n",
       "      <td>31.000000</td>\n",
       "      <td>2.000000</td>\n",
       "    </tr>\n",
       "    <tr>\n",
       "      <th>75%</th>\n",
       "      <td>1.835229e+07</td>\n",
       "      <td>1.000000</td>\n",
       "      <td>77.282012</td>\n",
       "      <td>28.642760</td>\n",
       "      <td>700.000000</td>\n",
       "      <td>2.000000</td>\n",
       "      <td>3.700000</td>\n",
       "      <td>131.000000</td>\n",
       "      <td>3.000000</td>\n",
       "    </tr>\n",
       "    <tr>\n",
       "      <th>max</th>\n",
       "      <td>1.850065e+07</td>\n",
       "      <td>216.000000</td>\n",
       "      <td>174.832089</td>\n",
       "      <td>55.976980</td>\n",
       "      <td>800000.000000</td>\n",
       "      <td>4.000000</td>\n",
       "      <td>4.900000</td>\n",
       "      <td>10934.000000</td>\n",
       "      <td>8.000000</td>\n",
       "    </tr>\n",
       "  </tbody>\n",
       "</table>\n",
       "</div>"
      ],
      "text/plain": [
       "       Restaurant ID  Country Code    Longitude     Latitude  \\\n",
       "count   9.550000e+03   9550.000000  9550.000000  9550.000000   \n",
       "mean    9.052064e+06     18.367435    64.125697    25.854675   \n",
       "std     8.791506e+06     56.753239    41.469140    11.008474   \n",
       "min     5.300000e+01      1.000000  -157.948486   -41.330428   \n",
       "25%     3.019902e+05      1.000000    77.081380    28.478745   \n",
       "50%     6.004248e+06      1.000000    77.191964    28.570470   \n",
       "75%     1.835229e+07      1.000000    77.282012    28.642760   \n",
       "max     1.850065e+07    216.000000   174.832089    55.976980   \n",
       "\n",
       "       Average Cost for two  Price range  Aggregate rating         Votes  \\\n",
       "count           9550.000000  9550.000000       9550.000000   9550.000000   \n",
       "mean            1199.252565     1.804712          2.666220    156.845654   \n",
       "std            16122.026663     0.905574          1.516386    430.146060   \n",
       "min                0.000000     1.000000          0.000000      0.000000   \n",
       "25%              250.000000     1.000000          2.500000      5.000000   \n",
       "50%              400.000000     2.000000          3.200000     31.000000   \n",
       "75%              700.000000     2.000000          3.700000    131.000000   \n",
       "max           800000.000000     4.000000          4.900000  10934.000000   \n",
       "\n",
       "       Number_of_Cuisines  \n",
       "count         9550.000000  \n",
       "mean             2.064398  \n",
       "std              1.092602  \n",
       "min              1.000000  \n",
       "25%              1.000000  \n",
       "50%              2.000000  \n",
       "75%              3.000000  \n",
       "max              8.000000  "
      ]
     },
     "execution_count": 240,
     "metadata": {},
     "output_type": "execute_result"
    }
   ],
   "source": [
    "df.describe()"
   ]
  },
  {
   "cell_type": "code",
   "execution_count": 246,
   "id": "6183fb47",
   "metadata": {},
   "outputs": [
    {
     "data": {
      "image/png": "[encoded data removed]",
      "text/plain": [
       "<Figure size 1400x700 with 1 Axes>"
      ]
     },
     "metadata": {},
     "output_type": "display_data"
    }
   ],
   "source": [
    "# Create a scatter plot\n",
    "plt.figure(figsize=(14, 7))\n",
    "sns.scatterplot(x=df['Average Cost for two'], y=df['Aggregate rating'])\n",
    "\n",
    "# Set titles and labels\n",
    "plt.title('Distribution of Average Cost for Two People Across Restaurants', fontsize=16)\n",
    "plt.xlabel('Average Cost for Two (Local Currency)', fontsize=14)\n",
    "plt.ylabel('Rating', fontsize=14)\n",
    "\n",
    "# Show the plot\n",
    "plt.show()"
   ]
  },
  {
   "cell_type": "code",
   "execution_count": 258,
   "id": "51e26926",
   "metadata": {},
   "outputs": [
    {
     "data": {
      "image/png": "[encoded data removed]",
      "text/plain": [
       "<Figure size 1200x600 with 1 Axes>"
      ]
     },
     "metadata": {},
     "output_type": "display_data"
    }
   ],
   "source": [
    "# Create a box plot\n",
    "plt.figure(figsize=(12, 6))\n",
    "sns.boxplot(y=df['Average Cost for two'])\n",
    "\n",
    "# Set titles and labels\n",
    "plt.title('Box Plot of Average Cost for Two People Across Restaurants', fontsize=16)\n",
    "plt.xlabel('Average Cost for Two (Local Currency)', fontsize=14)\n",
    "\n",
    "# Show the plot\n",
    "plt.show()"
   ]
  },
  {
   "cell_type": "markdown",
   "id": "35c3e908",
   "metadata": {},
   "source": [
    "#### Explain the factors in the data that may have an effect on ratings. For example, number of cuisines, cost, delivery option, etc."
   ]
  },
  {
   "cell_type": "code",
   "execution_count": 261,
   "id": "a184d6a4",
   "metadata": {},
   "outputs": [
    {
     "data": {
      "text/html": [
       "<div>\n",
       "<style scoped>\n",
       "    .dataframe tbody tr th:only-of-type {\n",
       "        vertical-align: middle;\n",
       "    }\n",
       "\n",
       "    .dataframe tbody tr th {\n",
       "        vertical-align: top;\n",
       "    }\n",
       "\n",
       "    .dataframe thead th {\n",
       "        text-align: right;\n",
       "    }\n",
       "</style>\n",
       "<table border=\"1\" class=\"dataframe\">\n",
       "  <thead>\n",
       "    <tr style=\"text-align: right;\">\n",
       "      <th></th>\n",
       "      <th>Aggregate rating</th>\n",
       "      <th>Average Cost for two</th>\n",
       "      <th>Votes</th>\n",
       "      <th>Price range</th>\n",
       "      <th>Number_of_Cuisines</th>\n",
       "    </tr>\n",
       "  </thead>\n",
       "  <tbody>\n",
       "    <tr>\n",
       "      <th>Aggregate rating</th>\n",
       "      <td>1.000000</td>\n",
       "      <td>0.051797</td>\n",
       "      <td>0.313598</td>\n",
       "      <td>0.437874</td>\n",
       "      <td>0.249271</td>\n",
       "    </tr>\n",
       "    <tr>\n",
       "      <th>Average Cost for two</th>\n",
       "      <td>0.051797</td>\n",
       "      <td>1.000000</td>\n",
       "      <td>0.067794</td>\n",
       "      <td>0.075093</td>\n",
       "      <td>0.013348</td>\n",
       "    </tr>\n",
       "    <tr>\n",
       "      <th>Votes</th>\n",
       "      <td>0.313598</td>\n",
       "      <td>0.067794</td>\n",
       "      <td>1.000000</td>\n",
       "      <td>0.309308</td>\n",
       "      <td>0.183217</td>\n",
       "    </tr>\n",
       "    <tr>\n",
       "      <th>Price range</th>\n",
       "      <td>0.437874</td>\n",
       "      <td>0.075093</td>\n",
       "      <td>0.309308</td>\n",
       "      <td>1.000000</td>\n",
       "      <td>0.312773</td>\n",
       "    </tr>\n",
       "    <tr>\n",
       "      <th>Number_of_Cuisines</th>\n",
       "      <td>0.249271</td>\n",
       "      <td>0.013348</td>\n",
       "      <td>0.183217</td>\n",
       "      <td>0.312773</td>\n",
       "      <td>1.000000</td>\n",
       "    </tr>\n",
       "  </tbody>\n",
       "</table>\n",
       "</div>"
      ],
      "text/plain": [
       "                      Aggregate rating  Average Cost for two     Votes  \\\n",
       "Aggregate rating              1.000000              0.051797  0.313598   \n",
       "Average Cost for two          0.051797              1.000000  0.067794   \n",
       "Votes                         0.313598              0.067794  1.000000   \n",
       "Price range                   0.437874              0.075093  0.309308   \n",
       "Number_of_Cuisines            0.249271              0.013348  0.183217   \n",
       "\n",
       "                      Price range  Number_of_Cuisines  \n",
       "Aggregate rating         0.437874            0.249271  \n",
       "Average Cost for two     0.075093            0.013348  \n",
       "Votes                    0.309308            0.183217  \n",
       "Price range              1.000000            0.312773  \n",
       "Number_of_Cuisines       0.312773            1.000000  "
      ]
     },
     "execution_count": 261,
     "metadata": {},
     "output_type": "execute_result"
    }
   ],
   "source": [
    "# Correlation analysis\n",
    "correlation_matrix = df[['Aggregate rating', 'Average Cost for two', 'Votes', 'Price range', 'Number_of_Cuisines']].corr()\n",
    "correlation_matrix"
   ]
  },
  {
   "cell_type": "markdown",
   "id": "77b8090f",
   "metadata": {},
   "source": [
    "##### Remarks: Overall, the analysis indicates that while the average cost for two has minimal impact on ratings, the price range, number of votes, and variety of cuisines offered play more significant roles in determining a restaurant's rating. Higher-priced restaurants with more votes and a diverse cuisines tend to receive higher ratings."
   ]
  },
  {
   "cell_type": "code",
   "execution_count": 262,
   "id": "f1d2fd72",
   "metadata": {},
   "outputs": [
    {
     "data": {
      "image/png": "[encoded data removed]",
      "text/plain": [
       "<Figure size 1200x600 with 1 Axes>"
      ]
     },
     "metadata": {},
     "output_type": "display_data"
    }
   ],
   "source": [
    "# Comparative analysis: Delivery option\n",
    "plt.figure(figsize=(12, 6))\n",
    "sns.boxplot(x='Has Online delivery', y='Aggregate rating', data=df)\n",
    "plt.title('Ratings by Online Delivery Option')\n",
    "plt.xlabel('Has Online Delivery')\n",
    "plt.ylabel('Aggregate Rating')\n",
    "plt.show()"
   ]
  },
  {
   "cell_type": "markdown",
   "id": "f4892f63",
   "metadata": {},
   "source": [
    "##### Remarks: Most of the restaurants with Online delivery tends to get more positive ratings compared to no online delivery."
   ]
  },
  {
   "cell_type": "code",
   "execution_count": 264,
   "id": "5054e12d",
   "metadata": {},
   "outputs": [
    {
     "data": {
      "image/png": "[encoded data removed]",
      "text/plain": [
       "<Figure size 1200x600 with 1 Axes>"
      ]
     },
     "metadata": {},
     "output_type": "display_data"
    }
   ],
   "source": [
    "# Comparative analysis: Table Booking\n",
    "plt.figure(figsize=(12, 6))\n",
    "sns.boxplot(x='Has Table booking', y='Aggregate rating', data=df)\n",
    "plt.title('Ratings by Table Booking Option')\n",
    "plt.xlabel('Has Table booking')\n",
    "plt.ylabel('Aggregate Rating')\n",
    "plt.show()"
   ]
  },
  {
   "cell_type": "markdown",
   "id": "b0ac0c96",
   "metadata": {},
   "source": [
    "##### Remarks: Similar to the feature of 'Online delivery', most of the restaurants with 'Table Booking' tends to get more positive ratings compared to no 'Table Booking' "
   ]
  },
  {
   "cell_type": "markdown",
   "id": "461a6254",
   "metadata": {},
   "source": [
    "## Final Conclusion: While no single variable has a dominant impact on the restaurant ratings, factors such as table booking availability, online delivery options, average price for two, price range, and the number of votes all contribute to influencing a restaurant's rating."
   ]
  },
  {
   "cell_type": "code",
   "execution_count": 275,
   "id": "b96aa4b3",
   "metadata": {},
   "outputs": [
    {
     "data": {
      "text/plain": [
       "'restaurants_data_exported.csv'"
      ]
     },
     "execution_count": 275,
     "metadata": {},
     "output_type": "execute_result"
    }
   ],
   "source": [
    "# Export the DataFrame to a new CSV file\n",
    "export_path = 'restaurants_data_exported.csv'\n",
    "df.to_csv(export_path, index=False)\n",
    "\n",
    "export_path"
   ]
  },
  {
   "cell_type": "code",
   "execution_count": null,
   "id": "41cb5c2f",
   "metadata": {},
   "outputs": [],
   "source": []
  }
 ],
 "metadata": {
  "kernelspec": {
   "display_name": "Python 3 (ipykernel)",
   "language": "python",
   "name": "python3"
  },
  "language_info": {
   "codemirror_mode": {
    "name": "ipython",
    "version": 3
   },
   "file_extension": ".py",
   "mimetype": "text/x-python",
   "name": "python",
   "nbconvert_exporter": "python",
   "pygments_lexer": "ipython3",
   "version": "3.11.4"
  }
 },
 "nbformat": 4,
 "nbformat_minor": 5
}
